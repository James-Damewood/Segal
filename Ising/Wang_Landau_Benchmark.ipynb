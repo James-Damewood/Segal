{
 "cells": [
  {
   "cell_type": "code",
   "execution_count": 2,
   "metadata": {},
   "outputs": [],
   "source": [
    "using namespace std;\n",
    "#include <iostream>\n",
    "#include <cmath>"
   ]
  },
  {
   "cell_type": "code",
   "execution_count": 3,
   "metadata": {},
   "outputs": [],
   "source": [
    "// Some Code Snippets are taken from Kristjan Haule's Implementation of another WL Algo\n",
    "// http://www.physics.rutgers.edu/~haule/681/src_MC/python_codes/wangLand.py"
   ]
  },
  {
   "cell_type": "code",
   "execution_count": 4,
   "metadata": {},
   "outputs": [],
   "source": [
    "double field = 0.0;"
   ]
  },
  {
   "cell_type": "code",
   "execution_count": 5,
   "metadata": {},
   "outputs": [],
   "source": [
    "double N = 10.0;\n",
    "double N2 = 100.0;\n",
    "double f = 1.0;\n",
    "int N_int = 10;"
   ]
  },
  {
   "cell_type": "code",
   "execution_count": 6,
   "metadata": {},
   "outputs": [],
   "source": [
    "map<int, double> Energies_Stored;\n",
    "\n",
    "map<int, int> IndE;\n",
    "\n",
    "double Latt[10][10];"
   ]
  },
  {
   "cell_type": "code",
   "execution_count": 7,
   "metadata": {},
   "outputs": [],
   "source": [
    "for (int i = 0; i<10; i++) {\n",
    "    for (int j = 0; j < 10; j++) {\n",
    "        if (i == 4) {\n",
    "            Latt[i][j] = 1.0;\n",
    "        } else {\n",
    "            Latt[i][j] = 1.0;\n",
    "        } \n",
    "    }\n",
    "}"
   ]
  },
  {
   "cell_type": "code",
   "execution_count": 9,
   "metadata": {},
   "outputs": [
    {
     "name": "stdout",
     "output_type": "stream",
     "text": [
      "-400\n",
      "-2000\n"
     ]
    }
   ],
   "source": [
    "double Ene = 0.0;\n",
    "double mag = 0.0;\n",
    "double WF = 0.0;\n",
    "for (int i = 0; i<10; i++) {\n",
    "    for (int j = 0; j < 10; j++) {\n",
    "        \n",
    "        WF = Latt[(i+1)%N_int][j] + Latt[i][(j+1)%N_int] + Latt[(i-1+10)%N_int][j] + Latt[i][(j-1+10)%N_int];\n",
    "        Ene = Ene - WF*Latt[i][j];\n",
    "    }\n",
    "}\n",
    "\n",
    "cout << Ene << \"\\n\";\n",
    "Ene = Ene/2.0;\n",
    "int tempE = round(Ene*10.0);\n",
    "cout << tempE <<\"\\n\";"
   ]
  },
  {
   "cell_type": "code",
   "execution_count": 10,
   "metadata": {},
   "outputs": [],
   "source": [
    "Energies_Stored[tempE] = 0.0;"
   ]
  },
  {
   "cell_type": "code",
   "execution_count": 11,
   "metadata": {},
   "outputs": [],
   "source": [
    "int N_init = 1000000;\n",
    "int N2_int = 100;\n",
    "\n",
    "for (int k = 0; k < N_init; k++) {\n",
    "    int i = int(rand()%N_int);\n",
    "    int j = int(rand()%N_int);\n",
    "    \n",
    "\n",
    "    double S = Latt[i][j];    \n",
    "   \n",
    "    double WF = Latt[(i+1)%N_int][j] + Latt[i][(j+1)%N_int] + Latt[(i-1+10)%N_int][j] + Latt[i][(j-1+10)%N_int];\n",
    "    double dmag = -2*Latt[i][j];\n",
    "    double chpe = 0.0;\n",
    "        \n",
    "    double Enew = Ene + 2*S*WF +chpe;\n",
    "    \n",
    "    \n",
    "        \n",
    "    if (Energies_Stored.find(round(Enew*10.0))==Energies_Stored.end()){\n",
    "        Energies_Stored[round(Enew*10.0)] = 0.0;\n",
    "    } \n",
    "            \n",
    "    double P = exp(Energies_Stored[round(Ene*10.0)]-Energies_Stored[round(Enew*10.0)]);  \n",
    "    if ( P > (double) rand() / (RAND_MAX) ){\n",
    "        Latt[i][j] = -1.0* Latt[i][j];\n",
    "        Ene = Enew;   \n",
    "        \n",
    "    }\n",
    "            \n",
    "    Energies_Stored[round(Ene*10.0)] += f;\n",
    "    \n",
    "            \n",
    "}"
   ]
  },
  {
   "cell_type": "code",
   "execution_count": 12,
   "metadata": {
    "scrolled": true
   },
   "outputs": [],
   "source": [
    "int inc = 0;\n",
    "\n",
    "\n",
    "for ( const auto &myPair : Energies_Stored ) {\n",
    "    double curr = myPair.first;\n",
    "    IndE[curr] = inc;\n",
    "    inc = inc + 1;\n",
    "    \n",
    "}\n"
   ]
  },
  {
   "cell_type": "code",
   "execution_count": 13,
   "metadata": {},
   "outputs": [
    {
     "name": "stdout",
     "output_type": "stream",
     "text": [
      "49"
     ]
    },
    {
     "data": {
      "text/plain": [
       "@0x7f20c9d91b60"
      ]
     },
     "execution_count": 13,
     "metadata": {},
     "output_type": "execute_result"
    }
   ],
   "source": [
    "cout << IndE[0]"
   ]
  },
  {
   "cell_type": "code",
   "execution_count": 14,
   "metadata": {},
   "outputs": [],
   "source": [
    "double lngE[99];  \n",
    "for (int i = 0; i < 99; i++) \n",
    "{\n",
    "    lngE[i] = 0.0;\n",
    "}\n",
    "\n",
    "int Hist[99];  \n",
    "for (int i = 0; i < 99; i++) \n",
    "{\n",
    "    Hist[i] = 0;\n",
    "}"
   ]
  },
  {
   "cell_type": "code",
   "execution_count": 15,
   "metadata": {},
   "outputs": [
    {
     "name": "stdout",
     "output_type": "stream",
     "text": [
      "0"
     ]
    },
    {
     "data": {
      "text/plain": [
       "@0x7f20c9d91b60"
      ]
     },
     "execution_count": 15,
     "metadata": {},
     "output_type": "execute_result"
    }
   ],
   "source": [
    "double Energies[99];\n",
    "\n",
    "int inc = 0;\n",
    "for ( const auto &myPair : Energies_Stored ) {\n",
    "    \n",
    "    Energies[inc] = myPair.first/10.0;\n",
    "    \n",
    "    inc = inc + 1;\n",
    "    \n",
    "}\n",
    "\n",
    "cout << Energies[49]"
   ]
  },
  {
   "cell_type": "code",
   "execution_count": 16,
   "metadata": {},
   "outputs": [],
   "source": [
    "\n",
    "for (int i = 0; i<10; i++) {\n",
    "    for (int j = 0; j < 10; j++) {\n",
    "        if (i % 2 == 0) {\n",
    "            Latt[i][j] = 1.0;\n",
    "        } else {\n",
    "            Latt[i][j] = -1.0;\n",
    "        }\n",
    "    }\n",
    "}"
   ]
  },
  {
   "cell_type": "code",
   "execution_count": 927,
   "metadata": {},
   "outputs": [
    {
     "name": "stdout",
     "output_type": "stream",
     "text": [
      "0.0001\n",
      "5e-05\n",
      "3.333333333e-05\n",
      "2.5e-05\n",
      "2e-05\n",
      "1.666666667e-05\n",
      "1.428571429e-05\n",
      "1.25e-05\n",
      "1.111111111e-05\n",
      "1e-05\n",
      "9.090909091e-06\n",
      "8.333333333e-06\n",
      "7.692307692e-06\n",
      "7.142857143e-06\n",
      "6.666666667e-06\n",
      "6.25e-06\n",
      "5.882352941e-06\n",
      "5.555555556e-06\n",
      "5.263157895e-06\n",
      "5e-06\n",
      "4.761904762e-06\n",
      "4.545454545e-06\n",
      "4.347826087e-06\n",
      "4.166666667e-06\n",
      "4e-06\n",
      "3.846153846e-06\n",
      "3.703703704e-06\n",
      "3.571428571e-06\n",
      "3.448275862e-06\n",
      "3.333333333e-06\n",
      "3.225806452e-06\n",
      "3.125e-06\n",
      "3.03030303e-06\n",
      "2.941176471e-06\n",
      "2.857142857e-06\n",
      "2.777777778e-06\n",
      "2.702702703e-06\n",
      "2.631578947e-06\n",
      "2.564102564e-06\n",
      "2.5e-06\n",
      "2.43902439e-06\n",
      "2.380952381e-06\n",
      "2.325581395e-06\n",
      "2.272727273e-06\n",
      "2.222222222e-06\n",
      "2.173913043e-06\n",
      "2.127659574e-06\n",
      "2.083333333e-06\n",
      "2.040816327e-06\n",
      "2e-06\n",
      "1.960784314e-06\n",
      "1.923076923e-06\n",
      "1.886792453e-06\n",
      "1.851851852e-06\n",
      "1.818181818e-06\n",
      "1.785714286e-06\n",
      "1.754385965e-06\n",
      "1.724137931e-06\n",
      "1.694915254e-06\n",
      "1.666666667e-06\n",
      "1.639344262e-06\n",
      "1.612903226e-06\n",
      "1.587301587e-06\n",
      "1.5625e-06\n",
      "1.538461538e-06\n",
      "1.515151515e-06\n",
      "1.492537313e-06\n",
      "1.470588235e-06\n",
      "1.449275362e-06\n",
      "1.428571429e-06\n",
      "1.408450704e-06\n",
      "1.388888889e-06\n",
      "1.369863014e-06\n",
      "1.351351351e-06\n",
      "1.333333333e-06\n",
      "1.315789474e-06\n",
      "1.298701299e-06\n",
      "1.282051282e-06\n",
      "1.265822785e-06\n",
      "1.25e-06\n",
      "1.234567901e-06\n",
      "1.219512195e-06\n",
      "1.204819277e-06\n",
      "1.19047619e-06\n",
      "1.176470588e-06\n",
      "1.162790698e-06\n",
      "1.149425287e-06\n",
      "1.136363636e-06\n",
      "1.123595506e-06\n",
      "1.111111111e-06\n",
      "1.098901099e-06\n",
      "1.086956522e-06\n",
      "1.075268817e-06\n",
      "1.063829787e-06\n",
      "1.052631579e-06\n",
      "1.041666667e-06\n",
      "1.030927835e-06\n",
      "1.020408163e-06\n",
      "1.01010101e-06\n"
     ]
    }
   ],
   "source": [
    "\n",
    "bool mode = false;\n",
    "double itt = 1;\n",
    "double f = 1.0;\n",
    "while (itt < 100000000.0){\n",
    "    \n",
    "    \n",
    "    int i = int(rand()%N_int);\n",
    "    int j = int(rand()%N_int); \n",
    "    int S = Latt[i][j];          \n",
    "   \n",
    "    double WF = Latt[(i+1)%N_int][j] + Latt[i][(j+1)%N_int] + Latt[(i-1+10)%N_int][j] + Latt[i][(j-1+10)%N_int];\n",
    "    double dmag = -2*Latt[i][j];\n",
    "    double chpe = 0.0;\n",
    "        \n",
    "    double Enew = Ene + 2*S*WF +chpe;   \n",
    "    \n",
    "    \n",
    "    double P = exp(lngE[IndE[round(Ene*10.0)]]-lngE[IndE[round(Enew*10.0)]]);  \n",
    "    if ( P > (double) rand() / (RAND_MAX) ){\n",
    "        Latt[i][j] = -1.0* Latt[i][j];\n",
    "        Ene = Enew;   \n",
    "        \n",
    "    }\n",
    "        \n",
    "    Hist[IndE[round(Ene*10.0)]] += 1; \n",
    "    lngE_one[IndE[round(Ene*10.0)]] += f;\n",
    "    \n",
    "    \n",
    "    if (int(itt) % 10000 == 0){\n",
    "        \n",
    "        if (*min_element(Hist,Hist+99) > 0 && mode == false){\n",
    "            \n",
    "            for (int i = 0; i < 99; i++)\n",
    "            {\n",
    "                Hist[i] = 0;\n",
    "            }\n",
    "            \n",
    "            f = f/2.0;\n",
    "            \n",
    "            if (  f <= (1.0 / (itt/100.0))    ){\n",
    "                mode = true;\n",
    "                f = (1.0 / (itt/100.0));\n",
    "            }\n",
    "        }\n",
    "        \n",
    "        if (mode == true) {\n",
    "            f = 1.0 / (itt/100.0);\n",
    "        }\n",
    "    }\n",
    "    \n",
    "    if (int(itt) % 1000000 == 0) {\n",
    "        cout << f << \"\\n\";\n",
    "    }\n",
    "    \n",
    "    itt += 1;\n",
    "}"
   ]
  },
  {
   "cell_type": "code",
   "execution_count": 928,
   "metadata": {},
   "outputs": [
    {
     "name": "stdout",
     "output_type": "stream",
     "text": [
      "602.8280497"
     ]
    },
    {
     "data": {
      "text/plain": [
       "@0x7fa8e9dd4b60"
      ]
     },
     "execution_count": 928,
     "metadata": {},
     "output_type": "execute_result"
    }
   ],
   "source": [
    "cout << lngE[98]"
   ]
  },
  {
   "cell_type": "code",
   "execution_count": 930,
   "metadata": {},
   "outputs": [],
   "source": [
    "double diff = lngE[0] - log(2.0);"
   ]
  },
  {
   "cell_type": "code",
   "execution_count": 931,
   "metadata": {},
   "outputs": [],
   "source": [
    "for (int i = 0; i <99; i++) {\n",
    "    lngE[i] -= diff;\n",
    "}"
   ]
  },
  {
   "cell_type": "code",
   "execution_count": 933,
   "metadata": {},
   "outputs": [
    {
     "name": "stdout",
     "output_type": "stream",
     "text": [
      "1.7"
     ]
    },
    {
     "data": {
      "text/plain": [
       "@0x7fa8e9dd4b60"
      ]
     },
     "execution_count": 933,
     "metadata": {},
     "output_type": "execute_result"
    }
   ],
   "source": [
    "double temps_out[101];\n",
    "\n",
    "for (int i = 0; i < 101;i++){\n",
    "    temps_out[i] = 1.5 + (2.0)*(float(i)/100.0);\n",
    "}\n",
    "\n",
    "cout << temps_out[10]"
   ]
  },
  {
   "cell_type": "code",
   "execution_count": 934,
   "metadata": {},
   "outputs": [
    {
     "name": "stdout",
     "output_type": "stream",
     "text": [
      "-2.018801487,-2.01972885,-2.020711294,-2.021751361,-2.022851658,-2.024014856,-2.025243698,-2.026540993,-2.02790963,-2.029352571,-2.030872864,-2.032473644,-2.034158136,-2.035929668,-2.037791671,-2.039747695,-2.041801412,-2.043956629,-2.046217301,-2.048587543,-2.051071642,-2.053674076,-2.056399521,-2.059252874,-2.062239259,-2.06536404,-2.068632823,-2.07205146,-2.075626032,-2.079362834,-2.083268335,-2.087349127,-2.091611859,-2.096063139,-2.100709432,-2.105556928,-2.110611402,-2.115878066,-2.121361411,-2.127065069,-2.132991679,-2.139142789,-2.14551878,-2.152118842,-2.158940974,-2.165982042,-2.173237855,-2.180703286,-2.188372407,-2.196238637,-2.204294894,-2.212533753,-2.220947577,-2.229528653,-2.238269295,-2.247161943,-2.256199228,-2.26537404,-2.274679557,-2.284109281,-2.29365705,-2.303317047,-2.313083793,-2.322952147,-2.332917291,-2.342974716,-2.353120207,-2.363349827,-2.373659896,-2.384046976,-2.394507854,-2.405039525,-2.415639177,-2.426304173,-2.437032043,-2.447820466,-2.458667261,-2.469570376,-2.480527875,-2.491537934,-2.502598828,-2.513708925,-2.524866679,-2.536070625,-2.547319371,-2.558611591,-2.569946028,-2.581321478,-2.592736798,-2.604190891,-2.615682711,-2.627211258,-2.638775571,-2.65037473,-2.662007852,-2.673674089,-2.685372625,-2.697102677,-2.708863488,-2.720654332,-2.732474505,"
     ]
    }
   ],
   "source": [
    "cout.precision(10);\n",
    "for (int i = 0; i < 101;i++){\n",
    "    \n",
    "    double Z = 0.0;\n",
    "    for (int j = 0; j < 99; j++ ) {\n",
    "        Z += exp(lngE[j] - Energies[j]/temps_out[i]);\n",
    "    }\n",
    "        \n",
    "        \n",
    "    double curr = -1.0*temps_out[i]*log(Z)/100.0;\n",
    "    \n",
    "    cout << curr;\n",
    "    cout << \",\";\n",
    "}"
   ]
  }
 ],
 "metadata": {
  "kernelspec": {
   "display_name": "C++14 [conda env:root]",
   "language": "C++14",
   "name": "conda-root-xcpp14"
  },
  "language_info": {
   "codemirror_mode": "text/x-c++src",
   "file_extension": ".cpp",
   "mimetype": "text/x-c++src",
   "name": "c++",
   "version": "14"
  }
 },
 "nbformat": 4,
 "nbformat_minor": 4
}
