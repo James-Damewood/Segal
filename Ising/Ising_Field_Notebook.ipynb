{
 "cells": [
  {
   "cell_type": "code",
   "execution_count": 12,
   "metadata": {},
   "outputs": [
    {
     "name": "stdout",
     "output_type": "stream",
     "text": [
      "True\n"
     ]
    }
   ],
   "source": [
    "import numpy as np\n",
    "import csv\n",
    "import random\n",
    "import math\n",
    "import matplotlib\n",
    "\n",
    "import matplotlib.pyplot as plt\n",
    "%matplotlib inline\n",
    "\n",
    "import torch\n",
    "import torch.nn as nn\n",
    "import torch.nn.functional as F\n",
    "from torch.autograd import Variable\n",
    "import copy\n",
    "import torchvision\n",
    "from torchvision import transforms\n",
    "import torchvision.transforms.functional as TF\n",
    "import torchvision.datasets as datasets\n",
    "import torch.optim as optim\n",
    "from torch import utils\n",
    "from torch.utils import data\n",
    "from torch.utils.data import Dataset, DataLoader\n",
    "use_cuda = torch.cuda.is_available()\n",
    "torch.cuda.set_device(2)\n",
    "CUDA_LAUNCH_BLOCKING=1\n",
    "#torch.autograd.set_detect_anomaly(True)\n",
    "print (use_cuda)\n",
    "\n",
    "torch.backends.cudnn.enabled\n",
    "import os\n",
    "\n",
    "import sigopt\n",
    "import time\n",
    "import pandas\n",
    "import seaborn\n",
    "import sklearn as sk"
   ]
  },
  {
   "cell_type": "code",
   "execution_count": 13,
   "metadata": {},
   "outputs": [],
   "source": [
    "activation_functions = {\n",
    "    'relu': nn.ReLU(),\n",
    "    'sigmoid': nn.Sigmoid(),\n",
    "    'tanh': nn.Tanh(),\n",
    "}\n",
    "\n",
    "optimizers = {\n",
    "    'gradient_descent': optim.SGD,\n",
    "    'rmsprop': optim.RMSprop,\n",
    "    'adam': optim.Adam,\n",
    "}\n",
    "\n",
    "def roll(tensor, shift, axis):\n",
    "\n",
    "    if shift == 0:\n",
    "        return tensor\n",
    "\n",
    "    if axis < 0:\n",
    "        axis += tensor.dim()\n",
    "\n",
    "    dim_size = tensor.size(axis)\n",
    "    after_start = dim_size - shift\n",
    "    if shift < 0:\n",
    "        after_start = -shift\n",
    "        shift = dim_size - abs(shift)\n",
    "\n",
    "    before = tensor.narrow(axis, 0, (dim_size - shift))\n",
    "    after = tensor.narrow(axis, after_start, shift)\n",
    "    return torch.cat([after, before], axis)"
   ]
  },
  {
   "cell_type": "code",
   "execution_count": 14,
   "metadata": {},
   "outputs": [],
   "source": [
    "Dim = 10\n",
    "J = np.zeros((Dim*Dim,Dim*Dim))\n",
    "for i in range(Dim*Dim):\n",
    "    for j in range(Dim*Dim):\n",
    "        if ((i + 1 == j and j%Dim != 0) or (i - 1 == j and i%Dim != 0)):\n",
    "            J[i,j] = 1\n",
    "        if (i + Dim == j or i - Dim == j):\n",
    "            J[i,j] = 1\n",
    "        if ((i % Dim == 0 and j % Dim == Dim - 1) and (i + (Dim-1) == j)):\n",
    "            J[i,j] = 1\n",
    "        if ((j % Dim == 0 and i % Dim == Dim - 1) and (j + (Dim-1) == i)):\n",
    "            J[i,j] = 1\n",
    "        if ((i < Dim and j > Dim*Dim - 1 - Dim) and (i + (Dim*Dim - Dim) == j)):\n",
    "            J[i,j] = 1\n",
    "        if ((j < Dim and i > Dim*Dim - 1 - Dim) and (j + (Dim*Dim - Dim) == i)):\n",
    "            J[i,j] = 1\n",
    "J = torch.tensor(J).float().cuda()"
   ]
  },
  {
   "cell_type": "code",
   "execution_count": 15,
   "metadata": {},
   "outputs": [],
   "source": [
    "def get_concentrations(lattices):\n",
    "    lattices = lattices.view(lattices.shape[0],-1)\n",
    "    mag = torch.sum(lattices,dim=1)\n",
    "    return mag"
   ]
  },
  {
   "cell_type": "code",
   "execution_count": 17,
   "metadata": {},
   "outputs": [],
   "source": [
    "\n",
    "###### Based off Wu et Al. Solving Statistical Mechanics Using Variational Autoregressive Networks\n",
    "\n",
    "\n",
    "def KL_loss(DBG,lattices,epoch,temp,field,num_temps,num_fields):\n",
    "    lattices = lattices.detach()\n",
    "    probs = DBG.get_sample_prob(lattices,temp,field,epoch).view(lattices.shape[0])\n",
    "    with torch.no_grad():\n",
    "        energies = DBG.get_energies(lattices).view(lattices.shape[0])\n",
    "        energies_norm = energies.view(-1)/temp.view(-1)\n",
    "       \n",
    "        F = (energies_norm + probs).view(-1,1)\n",
    "        F_new = F - (field.view(-1,1) * lattices.view(-1,DBG.Nz).sum(dim=1).view(-1,1))/temp.view(-1,1)\n",
    "        \n",
    "        batch = int(lattices.shape[0]/(num_temps*num_fields))\n",
    "        F_mean = F_new.view(-1,num_fields).view(num_temps,-1,num_fields)\n",
    "        \n",
    "        F_mean = F_mean.mean(dim=1).view(num_temps,1,num_fields).expand(num_temps,batch,num_fields)\n",
    "        R = (F_new.view(-1) - F_mean.reshape(-1))/torch.abs(F_mean.reshape(-1))\n",
    "        \n",
    "    \n",
    "    assert not R.requires_grad\n",
    "    assert probs.requires_grad\n",
    "    return torch.mean(R*probs)"
   ]
  },
  {
   "cell_type": "code",
   "execution_count": 18,
   "metadata": {},
   "outputs": [],
   "source": [
    "def print_config(lattice,plt):\n",
    "    \n",
    "    lattice = (lattice + 1.)/2.\n",
    "    Lat_Dim = int(np.sqrt(lattice.shape[0]))\n",
    "    \n",
    "    plt.imshow(np.reshape(lattice , (Lat_Dim,Lat_Dim)), cmap = 'Greys',vmin=0,vmax=1)\n",
    "    \n",
    "def print_set_config(lattice_list,name,limit = 3,row=2):\n",
    "    if lattice_list.shape[0] < limit*row:\n",
    "        num_images = lattice_list.shape[0]\n",
    "    else:\n",
    "        num_images = limit*row\n",
    "    fig = plt.figure(figsize = (3,2))\n",
    "    fig.subplots_adjust(wspace = 0.1, hspace = 0.1)\n",
    "    for image in range(num_images):\n",
    "        ax = fig.add_subplot(row,num_images/row,image+1)\n",
    "        ax.set_xticks([])\n",
    "        ax.set_yticks([])\n",
    "        img = lattice_list[image]\n",
    "        print_config(img,plt)\n",
    "    \n",
    "    fig.savefig(name+'cond_test.pdf')\n",
    "    plt.close(fig)\n",
    "    "
   ]
  },
  {
   "cell_type": "code",
   "execution_count": 19,
   "metadata": {},
   "outputs": [],
   "source": [
    "temps_sim = [1.5,2.0,2.5,3.0,3.5]\n",
    "field_sim = [-0.4,-0.2,0,0.2,0.4]\n",
    "coordinate_cutoff = 4.0\n",
    "def train_model(model,optimizer,batch_size,epochs,temp_type,chem_type):\n",
    "    \n",
    "    epoch = 0\n",
    "    temp = torch.zeros(len(temps_sim)*batch_size).cuda()\n",
    "    field = torch.zeros(len(temps_sim)*batch_size).cuda()\n",
    "\n",
    "    print_log_header()\n",
    "\n",
    "    while epoch < epochs:\n",
    "        if temp_type == 'Random Single':\n",
    "            num_temps = 1\n",
    "            t = 1.5 + 2*np.random.rand()\n",
    "            for i in range(len(temps_sim)*batch_size):\n",
    "                temp[i] = t\n",
    "        elif temp_type == 'Random':\n",
    "            t_fixed = []\n",
    "            for i in range(5):\n",
    "                t_temp = 1.5 + 2*np.random.rand()\n",
    "                t_fixed.append(t_temp)\n",
    "            num_temps = 5\n",
    "            for i in range(len(temps_sim)*batch_size):\n",
    "                temp[i] = t_fixed[int(i/batch_size)]\n",
    "        else:\n",
    "            num_temps = 5\n",
    "            for i in range(len(temps_sim)*batch_size):\n",
    "                temp[i] = temps_sim[int(i/batch_size)]\n",
    "            \n",
    "        if chem_type == 'Random Single':\n",
    "            num_fields = 1\n",
    "            f = -0.4 * 0.8*np.random.rand()\n",
    "            for i in range(len(temps_sim)*batch_size):\n",
    "                field[i] = f\n",
    "        elif chem_type == 'Random':\n",
    "            f_fixed = []\n",
    "            for i in range(5):\n",
    "                f_temp = -0.4 * 0.8*np.random.rand()\n",
    "                f_fixed.append(f_temp)\n",
    "            num_fields = 5\n",
    "            for i in range(len(temps_sim)*batch_size):\n",
    "                field[i] = f_fixed[int(i%(len(field_sim)))]\n",
    "        else:\n",
    "            num_fields = 5\n",
    "            for i in range(len(temps_sim)*batch_size):\n",
    "                field[i] = field_sim[int(i%(len(field_sim)))]\n",
    "        \n",
    "      \n",
    "        epoch = epoch + 1\n",
    "\n",
    "        lattices = model.forward(temp,field)\n",
    "        \n",
    "        \n",
    "        kl_loss = KL_loss(model,lattices,epoch,temp,field,num_temps,num_fields)\n",
    "        \n",
    "        optimizer.zero_grad()\n",
    "        kl_loss.backward()\n",
    "        optimizer.step()\n",
    "        \n",
    "            \n",
    "       \n",
    "    return model"
   ]
  },
  {
   "cell_type": "code",
   "execution_count": 20,
   "metadata": {},
   "outputs": [],
   "source": [
    "def print_log_header():\n",
    "    print ('{:>8} {:>12}'\\\n",
    "       .format('epoch','train loss'))\n",
    "    \n",
    "def print_training_log(epoch, train_loss, test_loss=None):\n",
    "    if test_loss is not None:\n",
    "        print ('{:>8} {:>8} {:>12.4f} {:>12.4f}'\\\n",
    "                   .format(epoch, train_loss, test_loss))\n",
    "        f.write('{:>8} {:>8} {:>12.4f} {:>12.4f}\\n'\\\n",
    "                   .format(epoch, train_loss, test_loss))\n",
    "    else:\n",
    "        print ('{:>8} {:>8}'\\\n",
    "                   .format(epoch, train_loss))"
   ]
  },
  {
   "cell_type": "code",
   "execution_count": 21,
   "metadata": {},
   "outputs": [],
   "source": [
    "def one_hot_to_sites(lattices,Nz):\n",
    "    lattices = lattices.view(-1,Nz,2)\n",
    "    lattices = torch.argmax(lattices,dim=2)\n",
    "    lattices = 2*lattices - 1.0\n",
    "    lattices = lattices.view(-1,Nz)\n",
    "    return lattices.float()\n",
    "    \n",
    "def sites_to_one_hot(lattices):\n",
    "    lattices = lattices.view(lattices.shape[0],-1)\n",
    "    lattices = (0.5*(lattices + 1)).long()\n",
    "    one_hot_lattices = torch.zeros(lattices.shape[0],lattices.shape[1],2).float().cuda()\n",
    "    one_hot_lattices = one_hot_lattices.scatter_(2,lattices.view(lattices.shape[0],-1,1),1.0)\n",
    "    return one_hot_lattices.detach()"
   ]
  },
  {
   "cell_type": "code",
   "execution_count": 22,
   "metadata": {},
   "outputs": [],
   "source": [
    "def mask_weight(m,disp):\n",
    "    num_sites = m.shape[1]\n",
    "    num_components = 2\n",
    "    mask = torch.zeros(m.shape)\n",
    "    for i in range(m.shape[0]):\n",
    "        for j in range(m.shape[1]):\n",
    "            if (disp == 0):\n",
    "                if (j == 0 or j == 1 ):\n",
    "                    mask[i,j] = 1.0\n",
    "                elif ((j-2) < num_components*int(i/num_components) ):\n",
    "                    mask[i,j] = 1.0\n",
    "            if (disp == 1):\n",
    "                if (j == 0 or j==1 ):\n",
    "                    mask[i,j] = 1.0\n",
    "                if ((j-2) < num_components*int(i/num_components) + num_components):\n",
    "                    mask[i,j] = 1.0\n",
    "    mask = mask.detach()\n",
    "    m_masked = m*mask\n",
    "    return m_masked\n",
    "\n",
    "# Zero out gradients\n",
    "def get_zero_grad_hook(mask):\n",
    "    def hook(grad):\n",
    "        return grad * mask\n",
    "    return hook"
   ]
  },
  {
   "cell_type": "code",
   "execution_count": 23,
   "metadata": {},
   "outputs": [],
   "source": [
    "class autoreg_model(nn.Module):\n",
    "    def __init__(self,Nz,assignments):\n",
    "        super().__init__()\n",
    "        self.Nz = Nz\n",
    "        self.Dim = int(math.sqrt(Nz))\n",
    "        self.assignments = assignments\n",
    "        self.activation = activation_functions[assignments['activation']]\n",
    "        self.lsoftmax = torch.nn.LogSoftmax(dim=2)\n",
    "        self.softmax = torch.nn.Softmax(dim=2)\n",
    "        self.num_layers = int(assignments['Layers'])\n",
    "        \n",
    "        self.shared_layer = nn.Linear(2*self.Nz+2,2*self.Nz,bias=False)\n",
    "        with torch.no_grad():\n",
    "            self.shared_layer.weight.copy_(np.sqrt(2)*mask_weight(self.shared_layer.weight,0))\n",
    "        self.mask_1 = mask_weight(torch.ones_like(self.shared_layer.weight),0).cuda()\n",
    "        \n",
    "        self.shared_layer.weight.register_hook(get_zero_grad_hook(self.mask_1))\n",
    "        \n",
    "        \n",
    "        self.shared_layer_2 = nn.Linear(2*self.Nz+2,2*self.Nz,bias=False)\n",
    "        with torch.no_grad():\n",
    "            self.shared_layer_2.weight.copy_(np.sqrt(2)*mask_weight(self.shared_layer_2.weight,1))\n",
    "        self.mask_2 = mask_weight(torch.ones_like(self.shared_layer_2.weight),1).cuda()\n",
    "        self.shared_layer_2.weight.register_hook(get_zero_grad_hook(self.mask_2))\n",
    "        \n",
    "        self.shared_layer_3 = nn.Linear(2*self.Nz+2,2*self.Nz,bias=False)\n",
    "        with torch.no_grad():\n",
    "            self.shared_layer_3.weight.copy_(np.sqrt(2)*mask_weight(self.shared_layer_3.weight,1))\n",
    "        self.mask_3 = mask_weight(torch.ones_like(self.shared_layer_3.weight),1).cuda()\n",
    "        self.shared_layer_3.weight.register_hook(get_zero_grad_hook(self.mask_3))\n",
    "        \n",
    "        self.shared_layer_4 = nn.Linear(2*self.Nz+2,2*self.Nz,bias=False)\n",
    "        with torch.no_grad():\n",
    "            self.shared_layer_4.weight.copy_(np.sqrt(2)*mask_weight(self.shared_layer_4.weight,1))\n",
    "        self.mask_4 = mask_weight(torch.ones_like(self.shared_layer_4.weight),1).cuda()\n",
    "        self.shared_layer_4.weight.register_hook(get_zero_grad_hook(self.mask_4))\n",
    "        \n",
    "    def get_sample_prob(self,lattices,temp,field,epoch):\n",
    "        #print(self.shared_layer.weight)\n",
    "        \n",
    "        batch_size = temp.shape[0]\n",
    "        samples = sites_to_one_hot(lattices).view(batch_size,-1)\n",
    "        net_in = torch.cat((field.view(-1,1),samples),dim=1)\n",
    "        net_in = torch.cat((temp.view(-1,1),net_in),dim=1)\n",
    "        conditional = self.activation(self.shared_layer(net_in))\n",
    "        conditional = torch.cat((field.view(-1,1),conditional),dim=1)\n",
    "        conditional = torch.cat((temp.view(-1,1),conditional),dim=1)\n",
    "        conditional = self.shared_layer_2(conditional)\n",
    "        if self.num_layers > 2:\n",
    "            conditional = self.activation(conditional)\n",
    "            conditional = torch.cat((field.view(-1,1),conditional),dim=1)\n",
    "            conditional = torch.cat((temp.view(-1,1),conditional),dim=1)\n",
    "            conditional = self.shared_layer_3(conditional)\n",
    "            \n",
    "        if self.num_layers > 3:\n",
    "            conditional = self.activation(conditional)\n",
    "            conditional = torch.cat((field.view(-1,1),conditional),dim=1)\n",
    "            conditional = torch.cat((temp.view(-1,1),conditional),dim=1)\n",
    "            conditional = self.shared_layer_4(conditional)\n",
    "        \n",
    "        \n",
    "        \n",
    "        \n",
    "        conditional = conditional.view(-1,self.Nz,2)\n",
    "        Probs = self.lsoftmax(conditional)\n",
    "        samples = samples.detach()\n",
    "        assert Probs.requires_grad == True\n",
    "        site_prob = Probs*(samples.view(-1,self.Nz,2))\n",
    "        probs = torch.sum(torch.sum(site_prob,dim=2),dim=1)\n",
    "        return probs\n",
    "        \n",
    "    def forward(self,temp,field):\n",
    "        \n",
    "        batch_size = temp.shape[0]\n",
    "        temp = temp.view(-1,1)\n",
    "        field = field.view(-1,1)\n",
    "        lattices = torch.zeros(batch_size,2*self.Nz).cuda()\n",
    "        for site in range(self.Nz):\n",
    "            net_in = torch.cat((field,lattices),dim=1)\n",
    "            net_in = torch.cat((temp,net_in),dim=1)\n",
    "            conditional = self.activation(self.shared_layer(net_in))\n",
    "            conditional = torch.cat((field,conditional),dim=1)\n",
    "            conditional = torch.cat((temp,conditional),dim=1)\n",
    "            conditional = self.shared_layer_2(conditional)\n",
    "            if self.num_layers > 2:\n",
    "                conditional = self.activation(conditional)\n",
    "                conditional = torch.cat((field.view(-1,1),conditional),dim=1)\n",
    "                conditional = torch.cat((temp.view(-1,1),conditional),dim=1)\n",
    "                conditional = self.shared_layer_3(conditional)\n",
    "            \n",
    "            if self.num_layers > 3:\n",
    "                conditional = self.activation(conditional)\n",
    "                conditional = torch.cat((field.view(-1,1),conditional),dim=1)\n",
    "                conditional = torch.cat((temp.view(-1,1),conditional),dim=1)\n",
    "                conditional = self.shared_layer_4(conditional)\n",
    "            \n",
    "            conditional = conditional.view(-1,self.Nz,2)\n",
    "            Probs = self.softmax(conditional)\n",
    "            To_Sample = Probs[:,site,:]\n",
    "            sample = torch.multinomial(To_Sample,1).view(-1,1)\n",
    "            lattices = lattices.view(-1,self.Nz,2)\n",
    "            lattices[:,site,:] = lattices[:,site,:].scatter_(1,sample,1)\n",
    "            lattices = lattices.view(-1,2*self.Nz)\n",
    "        #print(lattices.requires_grad)\n",
    "        lattices = one_hot_to_sites(lattices,self.Nz)\n",
    "        return lattices\n",
    "\n",
    "def create_model(Nz,assignments):\n",
    "    class Discrete_Boltzmann_Generator(nn.Module):\n",
    "        def __init__(self,Nz,assignments):\n",
    "            super().__init__()\n",
    "            self.Nz = Nz\n",
    "            self.Dim = int(math.sqrt(Nz))\n",
    "            self.assignment = assignments\n",
    "            self.Model = autoreg_model(Nz,assignments)\n",
    "            \n",
    "        def forward(self,temp,field):\n",
    "            return self.Model.forward(temp,field)\n",
    "            \n",
    "        def get_energies(self,lattices):\n",
    "            energies = -0.5 * torch.matmul(lattices.view(-1,1,self.Dim*self.Dim) , torch.matmul(J,lattices.view(-1,self.Dim*self.Dim,1)))\n",
    "            return energies\n",
    "        \n",
    "        def get_sample_prob(self,sample,temp,field,epoch):\n",
    "            return self.Model.get_sample_prob(sample,temp,field,epoch)\n",
    "        \n",
    "    model = Discrete_Boltzmann_Generator(Nz,assignments).cuda()\n",
    "    batch_size = int(assignments['batch_size'])\n",
    "    optimizer = optimizers[assignments['optimizer']](model.parameters(), lr=10**assignments['log_learning_rate'])\n",
    "    epochs = assignments['epochs']\n",
    "    temp_type = assignments['temp_type']\n",
    "    chem_type = assignments['Chem_type']\n",
    "    model = train_model(model,optimizer,batch_size,epochs,temp_type,chem_type)\n",
    "    \n",
    "    return model"
   ]
  },
  {
   "cell_type": "code",
   "execution_count": 24,
   "metadata": {},
   "outputs": [],
   "source": [
    "Dim = 10"
   ]
  },
  {
   "cell_type": "code",
   "execution_count": 25,
   "metadata": {},
   "outputs": [],
   "source": [
    "assignments = {\n",
    "    \"batch_size\": 500,\n",
    "    \"log_learning_rate\": -3,\n",
    "    \"optimizer\": \"adam\",\n",
    "    \"rc_loss\": 0,\n",
    "    \"rc_alter\": 0,\n",
    "    \"kl_loss\": 1.0,\n",
    "    \"is_anneal\": 0,\n",
    "    \"initial_temp\": 10,\n",
    "    \"anneal_rate\": 0.998,\n",
    "    \"num_rc\": 50,\n",
    "    'clip': 1.0\n",
    "}\n",
    "Dim = 10"
   ]
  },
  {
   "cell_type": "code",
   "execution_count": 30,
   "metadata": {},
   "outputs": [
    {
     "name": "stdout",
     "output_type": "stream",
     "text": [
      "Discrete_Boltzmann_Generator(\n",
      "  (Model): autoreg_model(\n",
      "    (activation): Tanh()\n",
      "    (lsoftmax): LogSoftmax(dim=2)\n",
      "    (softmax): Softmax(dim=2)\n",
      "    (shared_layer): Linear(in_features=202, out_features=200, bias=False)\n",
      "    (shared_layer_2): Linear(in_features=202, out_features=200, bias=False)\n",
      "    (shared_layer_3): Linear(in_features=202, out_features=200, bias=False)\n",
      "    (shared_layer_4): Linear(in_features=202, out_features=200, bias=False)\n",
      "  )\n",
      ")\n"
     ]
    }
   ],
   "source": [
    "print(model)"
   ]
  },
  {
   "cell_type": "code",
   "execution_count": 26,
   "metadata": {},
   "outputs": [],
   "source": [
    "def get_Ness(model,lattices,tmp,temp_b,field_b):\n",
    "    size = lattices.shape[0]\n",
    "    iters = int(size/1000)\n",
    "    lattices = lattices.view(-1,iters,100)\n",
    "    for i in range(iters):\n",
    "        energies = (model.get_energies(lattices[:,i,:])/(tmp)).view(-1)\n",
    "        prob = model.get_sample_prob(lattices[:,i,:],temp_b,field_b,1000).view(-1)\n",
    "        temp_pot = -(field_b.view(-1)*lattices[:,i,:].sum(dim=1).view(-1))/(tmp)\n",
    "        temp_pot = energies+prob+temp_pot\n",
    "        if i ==0:\n",
    "            pot = temp_pot\n",
    "        else:\n",
    "            pot = torch.cat((pot,temp_pot),dim=0)\n",
    "    log_rw = -pot\n",
    "    log_rw = log_rw - log_rw.mean()\n",
    "    rw = torch.exp(log_rw)\n",
    "    \n",
    "    Ness = torch.sum(rw)**2 / torch.sum(rw**2)\n",
    "    return Ness"
   ]
  },
  {
   "cell_type": "code",
   "execution_count": 2,
   "metadata": {},
   "outputs": [],
   "source": [
    "from sigopt import Connection\n",
    "\n",
    "#conn = Connection(client_token=\"RAFA GB TOKEN HERE\")\n",
    "#id_n = 356514\n",
    "#assignments = conn.experiments(id_n).best_assignments().fetch().data[0].assignments"
   ]
  },
  {
   "cell_type": "code",
   "execution_count": null,
   "metadata": {},
   "outputs": [],
   "source": [
    "model = create_model(100,assignments)"
   ]
  },
  {
   "cell_type": "code",
   "execution_count": 28,
   "metadata": {},
   "outputs": [
    {
     "name": "stdout",
     "output_type": "stream",
     "text": [
      "Discrete_Boltzmann_Generator(\n",
      "  (Model): autoreg_model(\n",
      "    (activation): Tanh()\n",
      "    (lsoftmax): LogSoftmax(dim=2)\n",
      "    (softmax): Softmax(dim=2)\n",
      "    (shared_layer): Linear(in_features=202, out_features=200, bias=False)\n",
      "    (shared_layer_2): Linear(in_features=202, out_features=200, bias=False)\n",
      "    (shared_layer_3): Linear(in_features=202, out_features=200, bias=False)\n",
      "    (shared_layer_4): Linear(in_features=202, out_features=200, bias=False)\n",
      "  )\n",
      ")\n",
      "Assignments({\n",
      "  \"Chem_type\": \"Fixed\",\n",
      "  \"Layers\": \"3\",\n",
      "  \"activation\": \"tanh\",\n",
      "  \"batch_size\": \"250\",\n",
      "  \"epochs\": 22761.888655897787,\n",
      "  \"log_learning_rate\": -2.9228066668436794,\n",
      "  \"optimizer\": \"rmsprop\",\n",
      "  \"temp_type\": \"Random\"\n",
      "})\n"
     ]
    }
   ],
   "source": [
    "print(model)\n",
    "print(assignments)"
   ]
  },
  {
   "cell_type": "code",
   "execution_count": 53,
   "metadata": {},
   "outputs": [],
   "source": [
    "def get_susceptiblity(field,temp,size):\n",
    "    field = torch.tensor(field).cuda()\n",
    "    field.requires_grad_()\n",
    "    temps = torch.zeros(size).cuda()\n",
    "    fields = torch.ones(size).cuda()*field\n",
    "    for i in range(size):\n",
    "        temps[i] = temp\n",
    "    lattices = model.forward(temps,fields)\n",
    "    \n",
    "    probs = model.get_sample_prob(lattices,temps,fields,1000)\n",
    "    concs = lattices.sum(dim=1)\n",
    "    \n",
    "    torch.mean(probs*concs).backward(retain_graph=True)\n",
    "    \n",
    "    d_u = field.grad\n",
    "\n",
    "    return d_u"
   ]
  },
  {
   "cell_type": "code",
   "execution_count": 54,
   "metadata": {},
   "outputs": [],
   "source": [
    "def get_sus_fluc(field,temp,size):\n",
    "    field = torch.tensor(field).cuda()\n",
    "    field.requires_grad_()\n",
    "    temps = torch.zeros(size).cuda()\n",
    "    fields = torch.ones(size).cuda()*field\n",
    "    for i in range(size):\n",
    "        temps[i] = temp\n",
    "    lattices = model.forward(temps,fields)\n",
    "    \n",
    "    probs = model.get_sample_prob(lattices,temps,fields,1000)\n",
    "    concs = lattices.sum(dim=1)\n",
    "    \n",
    "    term_one = torch.mean(concs**2)\n",
    "    term_two = torch.mean(concs)**2\n",
    "    fluct = term_one-term_two\n",
    "    x = fluct / temp\n",
    "    return x"
   ]
  },
  {
   "cell_type": "code",
   "execution_count": 55,
   "metadata": {},
   "outputs": [],
   "source": [
    "def map_susceptiblity():\n",
    "    b = np.linspace(-0.4,0.4,81)\n",
    "    t = np.linspace(1.5,3.5,24)\n",
    "    \n",
    "    b_plot = []\n",
    "    t_plot = []\n",
    "    d_plot = []\n",
    "    x_plot = []\n",
    "    for b_it in b:\n",
    "        for t_it in t:\n",
    "            b_plot.append(b_it)\n",
    "            t_plot.append(t_it)\n",
    "            d_it = get_susceptiblity(b_it,t_it,1000).cpu().numpy()\n",
    "            x_it = get_sus_fluc(b_it,t_it,1000).cpu().detach().numpy()\n",
    "\n",
    "            d_plot.append(d_it)\n",
    "            x_plot.append(x_it)\n",
    "        print(b_it)\n",
    "\n",
    "    b_plot = np.asarray(b_plot).reshape(-1)\n",
    "    t_plot = np.asarray(t_plot).reshape(-1)\n",
    "    d_plot = np.asarray(d_plot).reshape(-1)\n",
    "    x_plot = np.asarray(x_plot).reshape(-1)\n",
    "    print(b_plot.shape)\n",
    "    print(t_plot.shape)\n",
    "    print(d_plot.shape)\n",
    "    vma = max(np.max(d_plot),np.max(x_plot))\n",
    "    vmi = min(np.min(d_plot),np.min(x_plot))\n",
    "    plt.hist2d(b_plot,t_plot, bins = (81,24), weights = d_plot,cmap='inferno')\n",
    "    plt.colorbar()\n",
    "    plt.show()\n",
    "    plt.hist2d(b_plot,t_plot, bins = (81,24), weights = x_plot,cmap='inferno')\n",
    "    plt.colorbar()\n",
    "    plt.show()\n",
    "    return d_plot,x_plot"
   ]
  },
  {
   "cell_type": "code",
   "execution_count": 56,
   "metadata": {},
   "outputs": [
    {
     "name": "stdout",
     "output_type": "stream",
     "text": [
      "-0.4\n",
      "-0.39\n",
      "-0.38\n",
      "-0.37\n",
      "-0.36000000000000004\n",
      "-0.35000000000000003\n",
      "-0.34\n",
      "-0.33\n",
      "-0.32\n",
      "-0.31000000000000005\n",
      "-0.30000000000000004\n",
      "-0.29000000000000004\n",
      "-0.28\n",
      "-0.27\n",
      "-0.26\n",
      "-0.25\n",
      "-0.24000000000000002\n",
      "-0.23\n",
      "-0.22000000000000003\n",
      "-0.21000000000000002\n",
      "-0.2\n",
      "-0.19000000000000003\n",
      "-0.18000000000000002\n",
      "-0.17\n",
      "-0.16000000000000003\n",
      "-0.15000000000000002\n",
      "-0.14\n",
      "-0.13\n",
      "-0.12\n",
      "-0.11000000000000004\n",
      "-0.10000000000000003\n",
      "-0.09000000000000002\n",
      "-0.08000000000000002\n",
      "-0.07\n",
      "-0.06\n",
      "-0.04999999999999999\n",
      "-0.040000000000000036\n",
      "-0.030000000000000027\n",
      "-0.020000000000000018\n",
      "-0.010000000000000009\n",
      "0.0\n",
      "0.010000000000000009\n",
      "0.019999999999999962\n",
      "0.02999999999999997\n",
      "0.03999999999999998\n",
      "0.04999999999999999\n",
      "0.06\n",
      "0.07\n",
      "0.07999999999999996\n",
      "0.08999999999999997\n",
      "0.09999999999999998\n",
      "0.10999999999999999\n",
      "0.12\n",
      "0.13\n",
      "0.14\n",
      "0.15000000000000002\n",
      "0.16000000000000003\n",
      "0.17000000000000004\n",
      "0.17999999999999994\n",
      "0.18999999999999995\n",
      "0.19999999999999996\n",
      "0.20999999999999996\n",
      "0.21999999999999997\n",
      "0.22999999999999998\n",
      "0.24\n",
      "0.25\n",
      "0.26\n",
      "0.27\n",
      "0.28\n",
      "0.29000000000000004\n",
      "0.30000000000000004\n",
      "0.30999999999999994\n",
      "0.31999999999999995\n",
      "0.32999999999999996\n",
      "0.33999999999999997\n",
      "0.35\n",
      "0.36\n",
      "0.37\n",
      "0.38\n",
      "0.39\n",
      "0.4\n",
      "(1944,)\n",
      "(1944,)\n",
      "(1944,)\n"
     ]
    },
    {
     "data": {
      "image/png": "[encoded data removed]",
      "text/plain": [
       "<Figure size 504x360 with 2 Axes>"
      ]
     },
     "metadata": {
      "needs_background": "light"
     },
     "output_type": "display_data"
    },
    {
     "data": {
      "image/png": "[encoded data removed]",
      "text/plain": [
       "<Figure size 504x360 with 2 Axes>"
      ]
     },
     "metadata": {
      "needs_background": "light"
     },
     "output_type": "display_data"
    }
   ],
   "source": [
    "d_plot_mag,x_plot_mag = map_susceptiblity()"
   ]
  },
  {
   "cell_type": "code",
   "execution_count": 41,
   "metadata": {},
   "outputs": [],
   "source": [
    "def get_heat_cap(field,temp,size):\n",
    "    temp = torch.tensor(temp).cuda()\n",
    "    temp.requires_grad_()\n",
    "    temps = torch.ones(size).cuda()*temp\n",
    "    fields = torch.zeros(size).cuda()\n",
    "    for i in range(size):\n",
    "        fields[i] = field\n",
    "    lattices = model.forward(temps,fields)\n",
    "    \n",
    "    \n",
    "    probs = model.get_sample_prob(lattices,temps,fields,1000)\n",
    "    energies_old = model.get_energies(lattices).view(-1)\n",
    "    \n",
    "    torch.mean(probs*energies_old).backward(retain_graph=True)\n",
    "    \n",
    "    d_t = temp.grad\n",
    "\n",
    "    return d_t\n",
    "\n",
    "def get_hc_fluc(field,temp,size):\n",
    "    field = torch.tensor(field).cuda()\n",
    "    field.requires_grad_()\n",
    "    temps = torch.zeros(size).cuda()\n",
    "    fields = torch.ones(size).cuda()*field\n",
    "    for i in range(size):\n",
    "        temps[i] = temp\n",
    "    lattices = model.forward(temps,fields)\n",
    "    energies_old = model.get_energies(lattices).view(-1)\n",
    "    \n",
    "    term_one = torch.mean(energies_old**2)\n",
    "    term_two = torch.mean(energies_old)**2\n",
    "    fluct = term_one-term_two\n",
    "    x = fluct / temp\n",
    "    #print(d_u)\n",
    "    return x"
   ]
  },
  {
   "cell_type": "code",
   "execution_count": 42,
   "metadata": {},
   "outputs": [],
   "source": [
    "def map_heat_cap():\n",
    "    b = np.linspace(-0.4,0.4,81)\n",
    "    t = np.linspace(1.5,3.5,24)\n",
    "    \n",
    "    b_plot = []\n",
    "    t_plot = []\n",
    "    d_plot = []\n",
    "    x_plot = []\n",
    "    for b_it in b:\n",
    "        #print(b_it)\n",
    "        for t_it in t:\n",
    "            b_plot.append(b_it)\n",
    "            t_plot.append(t_it)\n",
    "            d_it = get_heat_cap(b_it,t_it,10000).cpu().numpy()\n",
    "            x_it = get_hc_fluc(b_it,t_it,10000).cpu().detach().numpy()\n",
    "            d_plot.append(d_it)\n",
    "            x_plot.append(x_it)\n",
    "            #print(d_it/x_it)\n",
    "    #print(b_it)\n",
    "    b_plot = np.asarray(b_plot).reshape(-1)\n",
    "    t_plot = np.asarray(t_plot).reshape(-1)\n",
    "    d_plot = np.asarray(d_plot).reshape(-1)\n",
    "    x_plot = np.asarray(x_plot).reshape(-1)\n",
    "    print(b_plot.shape)\n",
    "    print(t_plot.shape)\n",
    "    print(d_plot.shape)\n",
    "    vma = max(np.max(d_plot),np.max(x_plot))\n",
    "    vmi = min(np.min(d_plot),np.min(x_plot))\n",
    "    plt.hist2d(b_plot,t_plot, bins = (81,24), weights = d_plot,cmap='inferno')\n",
    "    plt.colorbar()\n",
    "    plt.show()\n",
    "    plt.hist2d(b_plot,t_plot, bins = (81,24), weights = x_plot,cmap='inferno')\n",
    "    plt.colorbar()\n",
    "    plt.show()\n",
    "    return d_plot,x_plot"
   ]
  },
  {
   "cell_type": "code",
   "execution_count": 43,
   "metadata": {},
   "outputs": [
    {
     "name": "stdout",
     "output_type": "stream",
     "text": [
      "(1944,)\n",
      "(1944,)\n",
      "(1944,)\n"
     ]
    },
    {
     "data": {
      "image/png": "[encoded data removed]",
      "text/plain": [
       "<Figure size 360x360 with 2 Axes>"
      ]
     },
     "metadata": {
      "needs_background": "light"
     },
     "output_type": "display_data"
    },
    {
     "data": {
      "image/png": "[encoded data removed]",
      "text/plain": [
       "<Figure size 360x360 with 2 Axes>"
      ]
     },
     "metadata": {
      "needs_background": "light"
     },
     "output_type": "display_data"
    }
   ],
   "source": [
    "d_plot_hc,x_plot_hc = map_heat_cap()"
   ]
  },
  {
   "cell_type": "code",
   "execution_count": 47,
   "metadata": {},
   "outputs": [],
   "source": [
    "b = np.linspace(-0.4,0.4,81)\n",
    "t = np.linspace(1.5,3.5,24)\n",
    "b_plot = []\n",
    "t_plot = []\n",
    "for b_it in b:\n",
    "        #print(b_it)\n",
    "        for t_it in t:\n",
    "            b_plot.append(b_it)\n",
    "            t_plot.append(t_it)\n",
    "b_plot = np.asarray(b_plot).reshape(-1)\n",
    "t_plot = np.asarray(t_plot).reshape(-1)"
   ]
  },
  {
   "cell_type": "code",
   "execution_count": 57,
   "metadata": {},
   "outputs": [
    {
     "data": {
      "image/png": "[encoded data removed]",
      "text/plain": [
       "<Figure size 504x360 with 2 Axes>"
      ]
     },
     "metadata": {
      "needs_background": "light"
     },
     "output_type": "display_data"
    },
    {
     "data": {
      "image/png": "[encoded data removed]",
      "text/plain": [
       "<Figure size 504x360 with 2 Axes>"
      ]
     },
     "metadata": {
      "needs_background": "light"
     },
     "output_type": "display_data"
    }
   ],
   "source": [
    "plt.hist2d(b_plot,t_plot, bins = (81,24), weights = d_plot_mag,cmap='inferno')\n",
    "plt.rcParams[\"figure.figsize\"] = (7,5)\n",
    "plt.xlabel('Magnetic Field',fontsize=16,**hfont)\n",
    "plt.ylabel('Temperature',fontsize=16,**hfont)\n",
    "plt.xticks(fontsize = 16,fontname = \"Arial\") \n",
    "plt.yticks(fontsize = 16,fontname = \"Arial\") \n",
    "plt.yticks([1.5,2.0,2.5,3.0,3.5])\n",
    "plt.xticks([-0.4,-0.2,0.0,0.2,0.4])\n",
    "cb = plt.colorbar()\n",
    "imaxes = plt.gca()\n",
    "plt.axes(cb.ax)\n",
    "plt.yticks(fontsize=16,fontname = \"Arial\")\n",
    "plt.show()\n",
    "plt.hist2d(b_plot,t_plot, bins = (81,24), weights = x_plot_mag,cmap='inferno')\n",
    "plt.rcParams[\"figure.figsize\"] = (7,5)\n",
    "plt.xlabel('Magnetic Field',fontsize=16,**hfont)\n",
    "plt.ylabel('Temperature',fontsize=16,**hfont)\n",
    "plt.xticks(fontsize = 16,fontname = \"Arial\") \n",
    "plt.yticks(fontsize = 16,fontname = \"Arial\") \n",
    "plt.yticks([1.5,2.0,2.5,3.0,3.5])\n",
    "plt.xticks([-0.4,-0.2,0.0,0.2,0.4])\n",
    "cb = plt.colorbar()\n",
    "imaxes = plt.gca()\n",
    "plt.axes(cb.ax)\n",
    "plt.yticks(fontsize=16,fontname = \"Arial\")\n",
    "#cb.set_ticks([0.0,0.25,0.5,0.75,1.0])\n",
    "plt.show()"
   ]
  },
  {
   "cell_type": "code",
   "execution_count": null,
   "metadata": {},
   "outputs": [],
   "source": []
  },
  {
   "cell_type": "code",
   "execution_count": 52,
   "metadata": {},
   "outputs": [
    {
     "data": {
      "image/png": "[encoded data removed]",
      "text/plain": [
       "<Figure size 504x360 with 2 Axes>"
      ]
     },
     "metadata": {
      "needs_background": "light"
     },
     "output_type": "display_data"
    },
    {
     "data": {
      "image/png": "[encoded data removed]",
      "text/plain": [
       "<Figure size 504x360 with 2 Axes>"
      ]
     },
     "metadata": {
      "needs_background": "light"
     },
     "output_type": "display_data"
    }
   ],
   "source": [
    "mpl.rc('font',family='Arial')\n",
    "hfont = {'fontname':'Arial'}\n",
    "temps = np.linspace(1.5,3.5,24)\n",
    "plt.hist2d(b_plot,t_plot, bins = (81,24), weights = d_plot_hc,cmap='inferno')\n",
    "\n",
    "plt.rcParams[\"figure.figsize\"] = (7,5)\n",
    "plt.xlabel('Magnetic Field',fontsize=16,**hfont)\n",
    "plt.ylabel('Temperature',fontsize=16,**hfont)\n",
    "plt.xticks(fontsize = 16,fontname = \"Arial\") \n",
    "plt.yticks(fontsize = 16,fontname = \"Arial\") \n",
    "plt.yticks([1.5,2.0,2.5,3.0,3.5])\n",
    "plt.xticks([-0.4,-0.2,0.0,0.2,0.4])\n",
    "cb = plt.colorbar()\n",
    "imaxes = plt.gca()\n",
    "plt.axes(cb.ax)\n",
    "plt.yticks(fontsize=16,fontname = \"Arial\")\n",
    "#cb.set_ticks([0.0,0.25,0.5,0.75,1.0])\n",
    "\n",
    "plt.show()\n",
    "\n",
    "\n",
    "\n",
    "\n",
    "\n",
    "plt.hist2d(b_plot,t_plot, bins = (81,24), weights = x_plot_hc,cmap='inferno')\n",
    "\n",
    "plt.rcParams[\"figure.figsize\"] = (7,5)\n",
    "plt.xlabel('Magnetic Field',fontsize=16,**hfont)\n",
    "plt.ylabel('Temperature',fontsize=16,**hfont)\n",
    "plt.xticks(fontsize = 16,fontname = \"Arial\") \n",
    "plt.yticks(fontsize = 16,fontname = \"Arial\") \n",
    "plt.yticks([1.5,2.0,2.5,3.0,3.5])\n",
    "plt.xticks([-0.4,-0.2,0.0,0.2,0.4])\n",
    "cb = plt.colorbar()\n",
    "imaxes = plt.gca()\n",
    "plt.axes(cb.ax)\n",
    "plt.yticks(fontsize=16,fontname = \"Arial\")\n",
    "#cb.set_ticks([0.0,0.25,0.5,0.75,1.0])\n",
    "\n",
    "plt.show()"
   ]
  },
  {
   "cell_type": "markdown",
   "metadata": {},
   "source": []
  },
  {
   "cell_type": "code",
   "execution_count": null,
   "metadata": {},
   "outputs": [],
   "source": [
    "def examine_phase(model,lattices,tmp,temp_b,field_b,Ag_conc):\n",
    "    #print(lattices)\n",
    "    prob = model.get_sample_prob(lattices,temp_b,field_b,1000).view(-1)\n",
    "    with torch.no_grad():\n",
    "        \n",
    "        energies = (model.get_energies(lattices)/(tmp)).view(-1)\n",
    "        \n",
    "        \n",
    "        pot = -(field_b.view(-1)*lattices.sum(dim=1).view(-1))/(tmp)\n",
    "        pot = energies+prob+pot\n",
    "        log_rw = -pot\n",
    "        stored = log_rw.mean()\n",
    "        log_rw_corr = log_rw - stored\n",
    "        rw = torch.exp(log_rw_corr)\n",
    "        rw_norm = rw/(rw.sum())\n",
    "        est_part = torch.exp(log_rw_corr).mean()\n",
    "        log_z = torch.log(est_part)+stored\n",
    "        \n",
    "        conc_mean = (Ag_conc.view(-1)*rw_norm.view(-1)).sum().cpu().detach().numpy().item()\n",
    "\n",
    "        var = torch.sum((rw_norm**2)*(Ag_conc-conc_mean)**2)\n",
    "        conc_var = (var).cpu().detach().numpy()\n",
    "        gp = -tmp*log_z\n",
    "    return conc_mean,conc_var,gp,((energies*(tmp)*rw_norm).sum())"
   ]
  },
  {
   "cell_type": "code",
   "execution_count": null,
   "metadata": {},
   "outputs": [],
   "source": [
    "\n",
    "temps = np.linspace(1.5,3.5,101)\n",
    "field_sim = [-0.4,-0.2,0,0.2,0.4]\n",
    "\n",
    "fields_test = np.linspace(0.0,0.4,9)\n",
    "\n",
    "fe_out_stored = np.zeros((9,101))\n",
    "fe_out_std_stored = np.zeros((9,101))\n",
    "\n",
    "for k in range(fields_test.shape[0]):\n",
    "    fs = fields_test[k]\n",
    "    fe_comp = np.zeros((101,10))\n",
    "    count = 0\n",
    "    for tmp in temps:\n",
    "        temp = torch.zeros(2000).cuda()\n",
    "        for i in range(temp.shape[0]):\n",
    "            temp[i] = tmp\n",
    "        \n",
    "        field = torch.zeros(2000).cuda()\n",
    "        for i in range(temp.shape[0]):\n",
    "            field[i] = fs\n",
    "\n",
    "        out = np.zeros((10))\n",
    "        for i in range(10):\n",
    "            lattices = model.forward(temp,field)\n",
    "            Ag_conc = lattices.sum(dim=1)\n",
    "            conc_mean,conc_var,pot,energy = examine_phase(model,lattices,tmp,temp,field,Ag_conc)\n",
    "            fe_comp[count,i] = pot/100\n",
    "\n",
    "        count = count + 1\n",
    "\n",
    "    out = fe_comp.mean(axis = 1)\n",
    "    outstd = fe_comp.std(axis = 1)\n",
    "    \n",
    "    fe_out_stored[k,:] = out\n",
    "    fe_out_std_stored[k,:] = outstd\n"
   ]
  },
  {
   "cell_type": "code",
   "execution_count": 49,
   "metadata": {},
   "outputs": [],
   "source": [
    "np.savetxt(\"fe_stored.csv\", fe_out_stored, delimiter=\",\")\n",
    "np.savetxt(\"fe_std.csv\",  fe_out_std_stored, delimiter=\",\")\n",
    "\n"
   ]
  },
  {
   "cell_type": "code",
   "execution_count": null,
   "metadata": {},
   "outputs": [],
   "source": [
    "temps = np.linspace(1.5,3.5,5)\n",
    "\n",
    "fields_test = np.linspace(0.0,0.0,10)\n",
    "\n",
    "fe_out_stored_zero = np.zeros((10,5))\n",
    "\n",
    "for k in range(fields_test.shape[0]):\n",
    "    fs = fields_test[k]\n",
    "    \n",
    "    count = 0\n",
    "    for tmp in temps:\n",
    "        temp = torch.zeros(10000).cuda()\n",
    "        for i in range(temp.shape[0]):\n",
    "            temp[i] = tmp\n",
    "        field = torch.zeros(10000).cuda()\n",
    "        for i in range(temp.shape[0]):\n",
    "            field[i] = fs\n",
    "\n",
    "        \n",
    "        lattices = model.forward(temp,field)\n",
    "        Ag_conc = lattices.sum(dim=1)\n",
    "        conc_mean,conc_var,pot,energy = examine_phase(model,lattices,tmp,temp,field,Ag_conc)\n",
    "        fe_out_stored_zero[k,count] = pot/100\n",
    "\n",
    "        count = count + 1\n"
   ]
  },
  {
   "cell_type": "code",
   "execution_count": null,
   "metadata": {},
   "outputs": [],
   "source": [
    "np.savetxt(\"fe_stored_zero.csv\",fe_out_stored_zero, delimiter=\",\")"
   ]
  },
  {
   "cell_type": "code",
   "execution_count": 32,
   "metadata": {},
   "outputs": [
    {
     "name": "stdout",
     "output_type": "stream",
     "text": [
      "[ 0 63 92]\n",
      "[ 88  80 141]\n",
      "[188  80 144]\n",
      "[255  99  97]\n",
      "[255 166   0]\n"
     ]
    }
   ],
   "source": [
    "from matplotlib.colors import ListedColormap, LinearSegmentedColormap\n",
    "\n",
    "#003f5c\n",
    "#58508d\n",
    "#bc5090\n",
    "#ff6361\n",
    "#ffa600\n",
    "N = 5\n",
    "newcolors = []\n",
    "newcolors.append((0,63,92))\n",
    "newcolors.append((88,80,141)) \n",
    "newcolors.append((188,80,144)) \n",
    "newcolors.append((255,99,97)) \n",
    "newcolors.append((255,166,0)) \n",
    "\n",
    "newcolors_norm = []\n",
    "for i in newcolors:\n",
    "    curr = np.asarray(i)\n",
    "    print(curr)\n",
    "    curr = curr/255.0\n",
    "    curr = tuple(curr)\n",
    "    newcolors_norm.append(curr)\n",
    "\n",
    "cmap_name = 'my_list'\n",
    "newcmp = LinearSegmentedColormap.from_list(cmap_name,newcolors_norm)"
   ]
  },
  {
   "cell_type": "code",
   "execution_count": 70,
   "metadata": {},
   "outputs": [],
   "source": [
    "temp = torch.zeros(9).cuda()\n",
    "for i in range(temp.shape[0]):\n",
    "    temp[i] = 1.5\n",
    "tmp = temp[0]\n",
    "field = torch.zeros(9).cuda()\n",
    "for i in range(temp.shape[0]):\n",
    "    field[i] = 0.4\n",
    "\n",
    "lattices = model.forward(temp,field)\n",
    "#print(lattices)\n",
    "print_set_config(lattices.cpu().detach().numpy(),\"9\")"
   ]
  },
  {
   "cell_type": "code",
   "execution_count": 59,
   "metadata": {},
   "outputs": [],
   "source": [
    "def test_symmetry_one(num_samples):\n",
    "    temp = torch.zeros(1000).cuda()\n",
    "    field = torch.zeros(1000).cuda()\n",
    "    for i in range(temp.shape[0]):\n",
    "        temp[i] = bounds_t[0] + (bounds_t[1]-bounds_t[0])*np.random.rand()\n",
    "        field[i] = bounds_f[0] + (bounds_f[1]-bounds_f[1])*np.random.rand()\n",
    "        if i > 900:\n",
    "            field[i] = 0.0\n",
    "    \n",
    "    lattices = model.forward(temp,field)\n",
    "    \n",
    "    lattices_g = copy.deepcopy(lattices)\n",
    "    lattices_g = lattices_g.view(-1,Dim,Dim)\n",
    "    \n",
    "    for i in range(1000):\n",
    "        lattices_g[i] = roll(lattices_g[i,:,:].view(1,Dim,Dim),np.random.randint(Dim),1)\n",
    "\n",
    "        lattices_g[i] = roll(lattices_g[i,:,:].view(1,Dim,Dim),np.random.randint(Dim),2)\n",
    "\n",
    "        lattices_g[i] = torch.rot90(lattices_g[i,:,:].view(1,Dim,Dim),np.random.randint(4),[1,2])\n",
    "        \n",
    "        if field[i] == 0.0:\n",
    "            if np.random.rand() > 0.5:\n",
    "                lattices_g[i] = lattices_g[i] * -1.0\n",
    "        \n",
    "    lattices_g = lattices_g.reshape(-1,Dim*Dim)\n",
    "    \n",
    "    lat_init = lattices[150,:]\n",
    "    lat_g = lattices_g[150,:]\n",
    "    \n",
    "    plt.imshow(np.reshape((lat_init.cpu().detach().numpy() + 1.)/2. , (10,10)), cmap = 'Greys',vmin=0,vmax=1)\n",
    "    plt.gca().set_xticks([])\n",
    "    plt.gca().set_yticks([])\n",
    "    plt.savefig('Lat_init_no_bug.pdf',bbox_inches='tight')\n",
    "    plt.show()\n",
    "    plt.imshow(np.reshape((lat_g.cpu().detach().numpy() + 1.)/2. , (10,10)), cmap = 'Greys',vmin=0,vmax=1)\n",
    "    plt.gca().set_xticks([])\n",
    "    plt.gca().set_yticks([])\n",
    "    plt.savefig('Lat_g_no_bug.pdf',bbox_inches='tight')\n",
    "    plt.show()\n",
    "    log_prob_init = model.get_sample_prob(lattices,temp,field,1000)\n",
    "    \n",
    "    \n",
    "    log_prob_g = model.get_sample_prob(lattices_g,temp,field,1000)\n",
    "    \n",
    "    correlation_matrix = np.corrcoef(log_prob_init.cpu().detach().numpy(), log_prob_g.cpu().detach().numpy())\n",
    "    correlation_xy = correlation_matrix[0,1]\n",
    "    r_squared = correlation_xy**2\n",
    "\n",
    "    print(r_squared)\n",
    "    plt.rcParams[\"figure.figsize\"] = (5,5)\n",
    "    plt.scatter(log_prob_init.cpu().detach().numpy(),log_prob_g.cpu().detach().numpy(),color=newcmp(0.0),alpha=0.16)\n",
    "    c_temp = 0.0*np.ones((log_prob_init.cpu().detach().numpy()[150].shape))\n",
    "    col = plt.cm.hsv([0.0])  \n",
    "    print(col)\n",
    "    print(c_temp)\n",
    "    print(log_prob_init.cpu().detach().numpy()[150])\n",
    "    plt.scatter(log_prob_init.cpu().detach().numpy()[150],log_prob_g.cpu().detach().numpy()[150],color=newcmp(0.75))\n",
    "    plt.gca().set(xlim=(-75, 5), ylim=(-75, 5))\n",
    "    plt.gca().set_aspect('equal', adjustable='box')\n",
    "    plt.xlabel('Log Prob x',fontsize=16,**hfont)\n",
    "    plt.ylabel('Log Prob G(x)',fontsize=16,**hfont)\n",
    "    plt.xticks(fontsize = 16,fontname = \"Arial\") \n",
    "    plt.yticks(fontsize = 16,fontname = \"Arial\")\n",
    "    plt.yticks([0,-20,-40,-60])\n",
    "    plt.xticks([0,-20,-40,-60])\n",
    "    \n",
    "    space = np.linspace(-75,5)\n",
    "    plt.plot(space,space,color=newcmp(0.75),linestyle = '--')\n",
    "    plt.text(-70, -10, 'R$^{2}$ = '+str(round(r_squared, 4)),  fontsize = 24,fontname = \"Arial\",va='center', rotation='horizontal')\n",
    "    \n",
    "    plt.savefig('Symmetries_1_19_no_bug.pdf',bbox_inches='tight')\n",
    "    \n",
    "    plt.show()\n",
    "    "
   ]
  },
  {
   "cell_type": "code",
   "execution_count": 61,
   "metadata": {},
   "outputs": [
    {
     "data": {
      "image/png": "[encoded data removed]",
      "text/plain": [
       "<Figure size 360x360 with 1 Axes>"
      ]
     },
     "metadata": {},
     "output_type": "display_data"
    },
    {
     "data": {
      "image/png": "[encoded data removed]",
      "text/plain": [
       "<Figure size 360x360 with 1 Axes>"
      ]
     },
     "metadata": {},
     "output_type": "display_data"
    },
    {
     "name": "stdout",
     "output_type": "stream",
     "text": [
      "0.9995122243012686\n",
      "[[1. 0. 0. 1.]]\n",
      "0.0\n",
      "-33.46216\n"
     ]
    },
    {
     "data": {
      "image/png": "[encoded data removed]",
      "text/plain": [
       "<Figure size 360x360 with 1 Axes>"
      ]
     },
     "metadata": {
      "needs_background": "light"
     },
     "output_type": "display_data"
    }
   ],
   "source": [
    "mpl.rcParams['pdf.fonttype'] = 42\n",
    "mpl.rcParams['ps.fonttype'] = 42\n",
    "test_symmetry_one(2500)"
   ]
  },
  {
   "cell_type": "code",
   "execution_count": 693,
   "metadata": {},
   "outputs": [
    {
     "data": {
      "image/png": "[encoded data removed]",
      "text/plain": [
       "<Figure size 504x360 with 1 Axes>"
      ]
     },
     "metadata": {},
     "output_type": "display_data"
    }
   ],
   "source": [
    "plt.rcParams[\"figure.figsize\"] = (7,5)\n",
    "plt.xlabel('Magnetic Field',fontsize=16,**hfont)\n",
    "plt.ylabel('Temperature',fontsize=16,**hfont)\n",
    "plt.yticks([])\n",
    "plt.xticks([])\n",
    "plt.xlim([0.0,1.0])\n",
    "plt.ylim([0.0,1.0])\n",
    "plt.vlines(0.333333,0.0,1.0,color='black',linewidth=1.0)\n",
    "plt.vlines(0.66666666,0.0,1.0,color='black',linewidth=1.0)\n",
    "plt.hlines(0.333333,0.0,1.0,color='black',linewidth=1.0)\n",
    "plt.hlines(0.66666666,0.0,1.0,color='black',linewidth=1.0)\n",
    "plt.savefig('Frame.pdf',bbox_inches='tight')\n",
    "plt.show()"
   ]
  },
  {
   "cell_type": "code",
   "execution_count": null,
   "metadata": {},
   "outputs": [],
   "source": [
    "def get_Ness(model,lattices,tmp,temp_b,field_b):\n",
    "    size = lattices.shape[0]\n",
    "    iters = int(size/1000)\n",
    "    lattices = lattices.view(-1,iters,100)\n",
    "    for i in range(iters):\n",
    "        energies = (model.get_energies(lattices[:,i,:])/(tmp)).view(-1)\n",
    "        prob = model.get_sample_prob(lattices[:,i,:],temp_b,field_b,1000).view(-1)\n",
    "        temp_pot = -(field_b.view(-1)*lattices[:,i,:].sum(dim=1).view(-1))/(tmp)\n",
    "        temp_pot = energies+prob+temp_pot\n",
    "        if i ==0:\n",
    "            pot = temp_pot\n",
    "        else:\n",
    "            pot = torch.cat((pot,temp_pot),dim=0)\n",
    "    log_rw = -pot\n",
    "    log_rw = log_rw - log_rw.mean()\n",
    "    rw = torch.exp(log_rw)\n",
    "    \n",
    "    Ness = torch.sum(rw)**2 / torch.sum(rw**2)\n",
    "    return Ness"
   ]
  },
  {
   "cell_type": "code",
   "execution_count": null,
   "metadata": {
    "scrolled": true
   },
   "outputs": [
    {
     "name": "stdout",
     "output_type": "stream",
     "text": [
      "done\n",
      "done\n",
      "done\n",
      "done\n",
      "done\n",
      "done\n",
      "done\n",
      "done\n",
      "done\n",
      "done\n",
      "done\n",
      "done\n",
      "done\n",
      "done\n",
      "done\n",
      "done\n",
      "done\n",
      "done\n",
      "done\n",
      "done\n",
      "done\n",
      "done\n",
      "done\n",
      "done\n",
      "done\n",
      "done\n",
      "done\n",
      "done\n",
      "done\n",
      "done\n",
      "done\n",
      "done\n",
      "done\n",
      "done\n",
      "done\n",
      "done\n",
      "done\n",
      "done\n",
      "done\n",
      "done\n",
      "done\n",
      "done\n",
      "done\n",
      "done\n",
      "done\n",
      "done\n",
      "done\n",
      "done\n",
      "done\n",
      "done\n",
      "done\n",
      "done\n",
      "done\n",
      "done\n",
      "done\n",
      "done\n",
      "done\n",
      "done\n",
      "done\n",
      "done\n",
      "done\n",
      "done\n",
      "done\n",
      "done\n",
      "done\n",
      "done\n",
      "done\n",
      "done\n",
      "done\n",
      "done\n",
      "done\n",
      "done\n",
      "done\n",
      "done\n",
      "done\n",
      "done\n",
      "done\n",
      "done\n",
      "done\n",
      "done\n",
      "done\n"
     ]
    }
   ],
   "source": [
    "chem_p = np.linspace(-0.4,0.4,80)\n",
    "temps = np.linspace(1.5,3.5,24)\n",
    "num = 10000\n",
    "temps_f = torch.zeros(1000).cuda()\n",
    "ch_p_f = torch.zeros(1000).cuda()\n",
    "Ness = np.zeros((temps.shape[0],chem_p.shape[0]))\n",
    "for i in range(temps.shape[0]):\n",
    "    for j in range(chem_p.shape[0]):\n",
    "        for m in range(10):\n",
    "            for k in range(1000):\n",
    "                temps_f[k] = temps[i]\n",
    "                ch_p_f[k] = chem_p[j]\n",
    "            temp_lattices = model.forward(temps_f,ch_p_f)\n",
    "            if m ==0:\n",
    "                lattices = temp_lattices\n",
    "            else:\n",
    "                lattices = torch.cat((lattices,temp_lattices),dim=0)\n",
    "        N_temp = get_Ness(model,lattices,temps[i],temps_f,ch_p_f)\n",
    "        Ness[i,j] = N_temp/num\n",
    "        print(\"done\")"
   ]
  },
  {
   "cell_type": "code",
   "execution_count": 23,
   "metadata": {},
   "outputs": [],
   "source": [
    "all_temps = []\n",
    "all_chem_p = []\n",
    "for i in range(temps.shape[0]):\n",
    "    for j in range(80):\n",
    "        all_temps.append(temps[i])\n",
    "        all_chem_p.append(chem_p[j])"
   ]
  },
  {
   "cell_type": "code",
   "execution_count": 58,
   "metadata": {},
   "outputs": [
    {
     "data": {
      "image/png": "[encoded data removed]",
      "text/plain": [
       "<Figure size 504x360 with 2 Axes>"
      ]
     },
     "metadata": {
      "needs_background": "light"
     },
     "output_type": "display_data"
    }
   ],
   "source": [
    "import matplotlib as mpl\n",
    "mpl.rc('font',family='Arial')\n",
    "\n",
    "\n",
    "hfont = {'fontname':'Arial'}\n",
    "temps = np.linspace(1.5,3.5,24)\n",
    "plt.hist2d(all_chem_p,all_temps,bins = (80,24), weights = Ness.reshape(-1),cmap=\"inferno\",vmin=0.0,vmax=1.0)\n",
    "plt.rcParams[\"figure.figsize\"] = (7,5)\n",
    "plt.xlabel('Magnetic Field',fontsize=16,**hfont)\n",
    "plt.ylabel('Temperature',fontsize=16,**hfont)\n",
    "plt.xticks(fontsize = 16,fontname = \"Arial\") \n",
    "plt.yticks(fontsize = 16,fontname = \"Arial\") \n",
    "plt.yticks([1.5,2.0,2.5,3.0,3.5])\n",
    "plt.xticks([-0.4,-0.2,0.0,0.2,0.4])\n",
    "cb = plt.colorbar()\n",
    "imaxes = plt.gca()\n",
    "plt.axes(cb.ax)\n",
    "plt.yticks(fontsize=16,fontname = \"Arial\")\n",
    "cb.set_ticks([0.0,0.25,0.5,0.75,1.0])\n",
    "#plt.savefig(\"NESS.pdf\",bbox_inches='tight')\n",
    "\n"
   ]
  },
  {
   "cell_type": "code",
   "execution_count": 36,
   "metadata": {},
   "outputs": [
    {
     "name": "stdout",
     "output_type": "stream",
     "text": [
      "0.0\n"
     ]
    }
   ],
   "source": [
    "flat_Ness = Ness.reshape(-1)\n",
    "\n",
    "count = 0\n",
    "for i in range(flat_Ness.shape[0]):\n",
    "    if flat_Ness[i] <0.3:\n",
    "        count+=1\n",
    "    \n",
    "print(count/flat_Ness.shape[0])"
   ]
  },
  {
   "cell_type": "code",
   "execution_count": 37,
   "metadata": {},
   "outputs": [
    {
     "name": "stderr",
     "output_type": "stream",
     "text": [
      "findfont: Font family ['Arial'] not found. Falling back to DejaVu Sans.\n"
     ]
    },
    {
     "name": "stdout",
     "output_type": "stream",
     "text": [
      "0.474382221698761\n"
     ]
    },
    {
     "data": {
      "image/png": "[encoded data removed]",
      "text/plain": [
       "<Figure size 360x360 with 1 Axes>"
      ]
     },
     "metadata": {
      "needs_background": "light"
     },
     "output_type": "display_data"
    }
   ],
   "source": [
    "plt.hist(Ness.reshape(-1),bins = 20,range = [0,1])\n",
    "print(np.min(Ness))"
   ]
  },
  {
   "cell_type": "code",
   "execution_count": null,
   "metadata": {},
   "outputs": [],
   "source": []
  },
  {
   "cell_type": "code",
   "execution_count": null,
   "metadata": {},
   "outputs": [],
   "source": []
  }
 ],
 "metadata": {
  "kernelspec": {
   "display_name": "Python 3",
   "language": "python",
   "name": "python3"
  },
  "language_info": {
   "codemirror_mode": {
    "name": "ipython",
    "version": 3
   },
   "file_extension": ".py",
   "mimetype": "text/x-python",
   "name": "python",
   "nbconvert_exporter": "python",
   "pygments_lexer": "ipython3",
   "version": "3.7.8"
  }
 },
 "nbformat": 4,
 "nbformat_minor": 2
}
