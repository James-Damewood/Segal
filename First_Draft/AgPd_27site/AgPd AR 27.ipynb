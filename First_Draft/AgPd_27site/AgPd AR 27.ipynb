{
 "cells": [
  {
   "cell_type": "code",
   "execution_count": 1,
   "metadata": {},
   "outputs": [],
   "source": [
    "import torch"
   ]
  },
  {
   "cell_type": "code",
   "execution_count": 2,
   "metadata": {},
   "outputs": [
    {
     "name": "stdout",
     "output_type": "stream",
     "text": [
      "True\n"
     ]
    }
   ],
   "source": [
    "import numpy as np\n",
    "import csv\n",
    "import random\n",
    "import math\n",
    "import matplotlib\n",
    "\n",
    "import matplotlib.pyplot as plt\n",
    "\n",
    "%matplotlib inline\n",
    "\n",
    "#import torch\n",
    "import torch.nn as nn\n",
    "import torch.nn.functional as F\n",
    "from torch.autograd import Variable\n",
    "import copy\n",
    "import torchvision\n",
    "from torchvision import transforms\n",
    "import torchvision.transforms.functional as TF\n",
    "import torchvision.datasets as datasets\n",
    "import torch.optim as optim\n",
    "from torch import utils\n",
    "from torch.utils import data\n",
    "from torch.utils.data import Dataset, DataLoader\n",
    "use_cuda = torch.cuda.is_available()\n",
    "torch.cuda.set_device(2)\n",
    "CUDA_LAUNCH_BLOCKING=1\n",
    "#torch.autograd.set_detect_anomaly(True)\n",
    "print (use_cuda)\n",
    "\n",
    "torch.backends.cudnn.enabled\n",
    "import os\n",
    "\n",
    "import sigopt\n",
    "import time\n"
   ]
  },
  {
   "cell_type": "code",
   "execution_count": 3,
   "metadata": {},
   "outputs": [],
   "source": [
    "from ase import Atoms\n",
    "from ase.calculators.emt import EMT\n",
    "from ase.db import connect\n",
    "\n",
    "\n",
    "from clease.tools import update_db\n",
    "from clease import Concentration\n",
    "from clease import CEBulk\n",
    "from clease import Evaluate\n",
    "from clease import NewStructures\n",
    "from clease.calculator import Clease\n",
    "from clease.calculator import attach_calculator\n",
    "\n",
    "from mpl_toolkits.mplot3d import Axes3D  # noqa: F401 unused import\n",
    "\n",
    "import matplotlib.pyplot as plt\n",
    "import numpy as np\n",
    "\n",
    "import json\n",
    "with open('agpd_dft_eci_ref_duplication_1_18.json') as json_file: \n",
    "    eci = json.load(json_file) \n",
    "    \n",
    "conc = Concentration(basis_elements=[['Ag', 'Pd']])\n",
    "settings = CEBulk(crystalstructure='fcc',\n",
    "                   a=4.09,\n",
    "                   size=[3,3,3],\n",
    "                   concentration=conc,\n",
    "                   db_name=\"auni_ar.db\",\n",
    "                   max_cluster_size=4,\n",
    "                   max_cluster_dia=[8.0, 6.5, 5.5])\n",
    "\n",
    "atoms = settings.atoms.copy()\n",
    "atoms = attach_calculator(settings, atoms=atoms, eci=eci)\n",
    "\n",
    "gmeans = np.linspace(0,1,51)\n",
    "gmeans_ten = torch.tensor(gmeans).cuda()\n",
    "\n",
    "k_b = 0.00008617\n",
    "\n",
    "def get_concentrations(lattices):\n",
    "    lattices = ((lattices+1)/2).view(lattices.shape[0],-1)\n",
    "    Ag_conc = torch.sum(lattices,dim=1)/(Dim*Dim*Dim)\n",
    "    return Ag_conc"
   ]
  },
  {
   "cell_type": "code",
   "execution_count": 4,
   "metadata": {},
   "outputs": [],
   "source": [
    "###### Based off Wu et Al. Solving Statistical Mechanics Using Variational Autoregressive Networks\n",
    "\n",
    "\n",
    "def KL_loss(DBG,lattices,epoch,temp,field,num_temps,num_fields):\n",
    "    lattices = lattices.detach()\n",
    "    probs = DBG.get_sample_prob(lattices,temp,field,epoch).view(lattices.shape[0])\n",
    "    with torch.no_grad():\n",
    "        energies = DBG.get_energies(lattices).view(lattices.shape[0])\n",
    "        energies_norm = energies.view(-1)/(temp.view(-1)*k_b)\n",
    "       \n",
    "        F = (energies_norm + probs).view(-1,1)\n",
    "        F_new = F - (field.view(-1,1) * lattices.view(-1,DBG.Nz).sum(dim=1).view(-1,1))/(k_b*temp.view(-1,1))\n",
    "        \n",
    "        batch = int(lattices.shape[0]/(num_temps*num_fields))\n",
    "        F_mean = F_new.view(-1,num_fields).view(num_temps,-1,num_fields)\n",
    "        \n",
    "        F_mean = F_mean.mean(dim=1).view(num_temps,1,num_fields).expand(num_temps,batch,num_fields)\n",
    "        R = (F_new.view(-1) - F_mean.reshape(-1))/torch.abs(F_mean.reshape(-1))\n",
    "        \n",
    "    #print(energies_norm.mean())\n",
    "    assert not R.requires_grad\n",
    "    assert probs.requires_grad\n",
    "    return torch.mean(R*probs)"
   ]
  },
  {
   "cell_type": "code",
   "execution_count": 5,
   "metadata": {},
   "outputs": [],
   "source": [
    "temps_sim = [200,375,550,725,900]\n",
    "field_sim = [-0.2,-0.1,0.0,0.1,0.2]\n",
    "temp_temp = [0]\n",
    "field_temp = [0]\n",
    "coordinate_cutoff = 4.0\n",
    "def train_model(model,optimizer,batch_size,epochs,temp_type,chem_type,temp_range):\n",
    "    field_sim = [-0.2,-0.1,0.0,0.1,0.2]\n",
    "    if temp_range == 'Large':\n",
    "        temps_sim = [100,300,500,700,900]\n",
    "    else:\n",
    "        temps_sim = [200,375,550,725,900]\n",
    "    epoch = 0\n",
    "    temp = torch.zeros(len(temps_sim)*batch_size).cuda()\n",
    "    field = torch.zeros(len(temps_sim)*batch_size).cuda()\n",
    "\n",
    "    print_log_header()\n",
    "\n",
    "    while epoch < epochs:\n",
    "        if temp_type == 'Random Single':\n",
    "            num_temps = 1\n",
    "            t = temps_sim[0] + (temps_sim[-1]-temps_sim[0])*np.random.rand()\n",
    "            for i in range(len(temps_sim)*batch_size):\n",
    "                temp[i] = t\n",
    "        elif temp_type == 'Random':\n",
    "            t_fixed = []\n",
    "            for i in range(5):\n",
    "                t_temp = temps_sim[0] + (temps_sim[-1]-temps_sim[0])*np.random.rand()\n",
    "                t_fixed.append(t_temp)\n",
    "            num_temps = 5\n",
    "            for i in range(len(temps_sim)*batch_size):\n",
    "                temp[i] = t_fixed[int(i/batch_size)]\n",
    "        else:\n",
    "            num_temps = 5\n",
    "            for i in range(len(temps_sim)*batch_size):\n",
    "                temp[i] = temps_sim[int(i/batch_size)]\n",
    "            \n",
    "        if chem_type == 'Random Single':\n",
    "            num_fields = 1\n",
    "            f = -0.2 * 0.4*np.random.rand()\n",
    "            for i in range(len(temps_sim)*batch_size):\n",
    "                field[i] = f\n",
    "        elif chem_type == 'Random':\n",
    "            f_fixed = []\n",
    "            for i in range(5):\n",
    "                f_temp = -0.2 * 0.4*np.random.rand()\n",
    "                f_fixed.append(f_temp)\n",
    "            num_fields = 5\n",
    "            for i in range(len(temps_sim)*batch_size):\n",
    "                field[i] = f_fixed[int(i%(len(field_sim)))]\n",
    "        else:\n",
    "            num_fields = 5\n",
    "            for i in range(len(temps_sim)*batch_size):\n",
    "                field[i] = field_sim[int(i%(len(field_sim)))]\n",
    "        \n",
    "        \n",
    "        epoch = epoch + 1\n",
    "\n",
    "        lattices = model.forward(temp,field)\n",
    "        \n",
    "        \n",
    "        kl_loss = KL_loss(model,lattices,epoch,temp,field,num_temps,num_fields)\n",
    "        \n",
    "        optimizer.zero_grad()\n",
    "        kl_loss.backward()\n",
    "        optimizer.step()\n",
    "            \n",
    "       \n",
    "    return model"
   ]
  },
  {
   "cell_type": "code",
   "execution_count": 6,
   "metadata": {},
   "outputs": [],
   "source": [
    "def print_log_header():\n",
    "    print ('{:>8} {:>12}'\\\n",
    "       .format('epoch','train loss'))\n",
    "    \n",
    "def print_training_log(epoch, train_loss, test_loss=None):\n",
    "    if test_loss is not None:\n",
    "        print ('{:>8} {:>8} {:>12.4f} {:>12.4f}'\\\n",
    "                   .format(epoch, train_loss, test_loss))\n",
    "        f.write('{:>8} {:>8} {:>12.4f} {:>12.4f}\\n'\\\n",
    "                   .format(epoch, train_loss, test_loss))\n",
    "    else:\n",
    "        print ('{:>8} {:>8}'\\\n",
    "                   .format(epoch, train_loss))"
   ]
  },
  {
   "cell_type": "code",
   "execution_count": 7,
   "metadata": {},
   "outputs": [],
   "source": [
    "def one_hot_to_sites(lattices,Nz):\n",
    "    lattices = lattices.view(-1,Nz,2)\n",
    "    lattices = torch.argmax(lattices,dim=2)\n",
    "    lattices = 2*lattices - 1.0\n",
    "    lattices = lattices.view(-1,Nz)\n",
    "    return lattices.float()\n",
    "    \n",
    "def sites_to_one_hot(lattices):\n",
    "    lattices = lattices.view(lattices.shape[0],-1)\n",
    "    lattices = (0.5*(lattices + 1)).long()\n",
    "    one_hot_lattices = torch.zeros(lattices.shape[0],lattices.shape[1],2).float().cuda()\n",
    "    one_hot_lattices = one_hot_lattices.scatter_(2,lattices.view(lattices.shape[0],-1,1),1.0)\n",
    "    return one_hot_lattices.detach()"
   ]
  },
  {
   "cell_type": "code",
   "execution_count": 8,
   "metadata": {},
   "outputs": [],
   "source": [
    "def mask_weight(m,disp):\n",
    "    num_sites = m.shape[1]\n",
    "    num_components = 2\n",
    "    mask = torch.zeros(m.shape)\n",
    "    for i in range(m.shape[0]):\n",
    "        for j in range(m.shape[1]):\n",
    "            if (disp == 0):\n",
    "                if (j == 0 or j == 1 ):\n",
    "                    mask[i,j] = 1.0\n",
    "                elif ((j-2) < num_components*int(i/num_components) ):\n",
    "                    mask[i,j] = 1.0\n",
    "            if (disp == 1):\n",
    "                if (j == 0 or j==1 ):\n",
    "                    mask[i,j] = 1.0\n",
    "                if ((j-2) < num_components*int(i/num_components) + num_components):\n",
    "                    mask[i,j] = 1.0\n",
    "    mask = mask.detach()\n",
    "    m_masked = m*mask\n",
    "    return m_masked\n",
    "\n",
    "# Zero out gradients\n",
    "def get_zero_grad_hook(mask):\n",
    "    def hook(grad):\n",
    "        return grad * mask\n",
    "    return hook"
   ]
  },
  {
   "cell_type": "code",
   "execution_count": 9,
   "metadata": {},
   "outputs": [],
   "source": [
    "class autoreg_model(nn.Module):\n",
    "    def __init__(self,Nz,assignments):\n",
    "        super().__init__()\n",
    "        self.Nz = Nz\n",
    "        self.Dim = int(math.sqrt(Nz))\n",
    "        self.assignments = assignments\n",
    "        self.activation = activation_functions[assignments['activation']]\n",
    "        self.lsoftmax = torch.nn.LogSoftmax(dim=2)\n",
    "        self.softmax = torch.nn.Softmax(dim=2)\n",
    "        self.num_layers = int(assignments['Layers'])\n",
    "        self.shared_layer = nn.Linear(2*self.Nz+2,2*self.Nz,bias=False)\n",
    "        with torch.no_grad():\n",
    "            self.shared_layer.weight.copy_(np.sqrt(2)*mask_weight(self.shared_layer.weight,0))\n",
    "        self.mask_1 = mask_weight(torch.ones_like(self.shared_layer.weight),0).cuda()\n",
    "        self.shared_layer.weight.register_hook(get_zero_grad_hook(self.mask_1))\n",
    "        \n",
    "        self.shared_layer_2 = nn.Linear(2*self.Nz+2,2*self.Nz,bias=False)\n",
    "        with torch.no_grad():\n",
    "            self.shared_layer_2.weight.copy_(np.sqrt(2)*mask_weight(self.shared_layer_2.weight,1))\n",
    "        self.mask_2 = mask_weight(torch.ones_like(self.shared_layer_2.weight),1).cuda()\n",
    "        self.shared_layer_2.weight.register_hook(get_zero_grad_hook(self.mask_2))\n",
    "        \n",
    "        self.shared_layer_3 = nn.Linear(2*self.Nz+2,2*self.Nz,bias=False)\n",
    "        with torch.no_grad():\n",
    "            self.shared_layer_3.weight.copy_(np.sqrt(2)*mask_weight(self.shared_layer_3.weight,1))\n",
    "        self.mask_3 = mask_weight(torch.ones_like(self.shared_layer_3.weight),1).cuda()\n",
    "        self.shared_layer_3.weight.register_hook(get_zero_grad_hook(self.mask_3))\n",
    "        \n",
    "        self.shared_layer_4 = nn.Linear(2*self.Nz+2,2*self.Nz,bias=False)\n",
    "        with torch.no_grad():\n",
    "            self.shared_layer_4.weight.copy_(np.sqrt(2)*mask_weight(self.shared_layer_4.weight,1))\n",
    "        self.mask_4 = mask_weight(torch.ones_like(self.shared_layer_4.weight),1).cuda()\n",
    "        self.shared_layer_4.weight.register_hook(get_zero_grad_hook(self.mask_4))\n",
    "        \n",
    "    def get_sample_prob(self,lattices,temp,field,epoch):\n",
    "        #print(self.shared_layer.weight)\n",
    "        \n",
    "        batch_size = temp.shape[0]\n",
    "        samples = sites_to_one_hot(lattices).view(batch_size,-1)\n",
    "        net_in = torch.cat((field.view(-1,1)*10,samples),dim=1)\n",
    "        net_in = torch.cat((temp.view(-1,1)/1000,net_in),dim=1)\n",
    "        conditional = self.activation(self.shared_layer(net_in))\n",
    "        conditional = torch.cat((field.view(-1,1)*10,conditional),dim=1)\n",
    "        conditional = torch.cat((temp.view(-1,1)/1000,conditional),dim=1)\n",
    "        conditional = self.shared_layer_2(conditional)\n",
    "        if self.num_layers > 2:\n",
    "            conditional = self.activation(conditional)\n",
    "            conditional = torch.cat((field.view(-1,1)*10,conditional),dim=1)\n",
    "            conditional = torch.cat((temp.view(-1,1)/1000,conditional),dim=1)\n",
    "            conditional = self.shared_layer_3(conditional)\n",
    "            \n",
    "        if self.num_layers > 3:\n",
    "            conditional = self.activation(conditional)\n",
    "            conditional = torch.cat((field.view(-1,1)*10,conditional),dim=1)\n",
    "            conditional = torch.cat((temp.view(-1,1)/1000,conditional),dim=1)\n",
    "            conditional = self.shared_layer_4(conditional)\n",
    "        \n",
    "        conditional = conditional.view(-1,self.Nz,2)\n",
    "        Probs = self.lsoftmax(conditional)\n",
    "        samples = samples.detach()\n",
    "        #assert sample.requires_grad == False\n",
    "        assert Probs.requires_grad == True\n",
    "        site_prob = Probs*(samples.view(-1,self.Nz,2))\n",
    "        probs = torch.sum(torch.sum(site_prob,dim=2),dim=1)\n",
    "        return probs\n",
    "        \n",
    "    def forward(self,temp,field):\n",
    "        \n",
    "        batch_size = temp.shape[0]\n",
    "        temp = temp.view(-1,1)\n",
    "        field = field.view(-1,1)\n",
    "        lattices = torch.zeros(batch_size,2*self.Nz).cuda()\n",
    "        for site in range(self.Nz):\n",
    "            net_in = torch.cat((field*10,lattices),dim=1)\n",
    "            net_in = torch.cat((temp/1000,net_in),dim=1)\n",
    "            conditional = self.activation(self.shared_layer(net_in))\n",
    "            conditional = torch.cat((field*10,conditional),dim=1)\n",
    "            conditional = torch.cat((temp/1000,conditional),dim=1)\n",
    "            conditional = self.shared_layer_2(conditional)\n",
    "            if self.num_layers > 2:\n",
    "                conditional = self.activation(conditional)\n",
    "                conditional = torch.cat((field.view(-1,1)*10,conditional),dim=1)\n",
    "                conditional = torch.cat((temp.view(-1,1)/1000,conditional),dim=1)\n",
    "                conditional = self.shared_layer_3(conditional)\n",
    "            \n",
    "            if self.num_layers > 3:\n",
    "                conditional = self.activation(conditional)\n",
    "                conditional = torch.cat((field.view(-1,1)*10,conditional),dim=1)\n",
    "                conditional = torch.cat((temp.view(-1,1)/1000,conditional),dim=1)\n",
    "                conditional = self.shared_layer_4(conditional)\n",
    "            \n",
    "            conditional = conditional.view(-1,self.Nz,2)\n",
    "            Probs = self.softmax(conditional)\n",
    "            To_Sample = Probs[:,site,:]\n",
    "            sample = torch.multinomial(To_Sample,1).view(-1,1)\n",
    "            lattices = lattices.view(-1,self.Nz,2)\n",
    "            lattices[:,site,:] = lattices[:,site,:].scatter_(1,sample,1)\n",
    "            lattices = lattices.view(-1,2*self.Nz)\n",
    "        #print(lattices.requires_grad)\n",
    "        lattices = one_hot_to_sites(lattices,self.Nz)\n",
    "        return lattices\n",
    "\n",
    "def create_model(Nz,assignments):\n",
    "    class Discrete_Boltzmann_Generator(nn.Module):\n",
    "        def __init__(self,Nz,assignments):\n",
    "            super().__init__()\n",
    "            self.Nz = Nz\n",
    "            self.Dim = int(math.sqrt(Nz))\n",
    "            self.assignment = assignments\n",
    "            self.Model = autoreg_model(Nz,assignments)\n",
    "            atoms.numbers = np.ones((self.Nz))*46\n",
    "            self.U_pd = atoms.get_potential_energy()\n",
    "            atoms.numbers = np.ones((self.Nz))*47\n",
    "            self.U_ag = atoms.get_potential_energy()\n",
    "            \n",
    "        def forward(self,temp,field):\n",
    "            return self.Model.forward(temp,field)\n",
    "            \n",
    "        def get_energies(self,lattices):\n",
    "            lattices = lattices.view(lattices.shape[0],-1)\n",
    "            energies = torch.zeros(lattices.shape[0]).cuda()\n",
    "            for lattice_num in range(lattices.shape[0]):\n",
    "                energies[lattice_num] = self.get_cluster_energy(lattices[lattice_num,:])\n",
    "            #print(energies)\n",
    "            return energies\n",
    "        \n",
    "        def get_cluster_energy(self,lattice):\n",
    "            atoms.numbers = (((lattice + 1)/2)*1 + 46).int().cpu().detach().numpy()\n",
    "            energy_t = atoms.get_potential_energy()\n",
    "            return energy_t\n",
    "        \n",
    "        def get_sample_prob(self,sample,temp,field,epoch):\n",
    "            return self.Model.get_sample_prob(sample,temp,field,epoch)\n",
    "        \n",
    "    model = Discrete_Boltzmann_Generator(Nz,assignments).cuda()\n",
    "    temp_range = assignments['temp_range']\n",
    "    batch_size = int(assignments['batch_size'])\n",
    "    optimizer = optimizers[assignments['optimizer']](model.parameters(), lr=10**assignments['log_learning_rate'])\n",
    "    epochs = assignments['epochs']\n",
    "    temp_type = assignments['temp_type']\n",
    "    chem_type = assignments['Chem_type']\n",
    "    model = train_model(model,optimizer,batch_size,epochs,temp_type,chem_type,temp_range)\n",
    "    \n",
    "    return model"
   ]
  },
  {
   "cell_type": "code",
   "execution_count": 10,
   "metadata": {},
   "outputs": [],
   "source": [
    "class Discrete_Boltzmann_Generator(nn.Module):\n",
    "    def __init__(self,Nz,assignments):\n",
    "        super().__init__()\n",
    "        self.Nz = Nz\n",
    "        self.Dim = int(math.sqrt(Nz))\n",
    "        self.assignment = assignments\n",
    "        self.Model = autoreg_model(Nz,assignments)\n",
    "        atoms.numbers = np.ones((self.Nz))*46\n",
    "        self.U_pd = atoms.get_potential_energy()\n",
    "        atoms.numbers = np.ones((self.Nz))*47\n",
    "        self.U_ag = atoms.get_potential_energy()\n",
    "            \n",
    "    def forward(self,temp,field):\n",
    "        return self.Model.forward(temp,field)\n",
    "            \n",
    "    def get_energies(self,lattices):\n",
    "        lattices = lattices.view(lattices.shape[0],-1)\n",
    "        energies = torch.zeros(lattices.shape[0]).cuda()\n",
    "        for lattice_num in range(lattices.shape[0]):\n",
    "            energies[lattice_num] = self.get_cluster_energy(lattices[lattice_num,:])\n",
    "            \n",
    "        return energies\n",
    "        \n",
    "    def get_cluster_energy(self,lattice):\n",
    "        atoms.numbers = (((lattice + 1)/2)*1 + 46).int().cpu().detach().numpy()\n",
    "        energy_t = atoms.get_potential_energy()\n",
    "        return energy_t\n",
    "        \n",
    "    def get_sample_prob(self,sample,temp,field,epoch):\n",
    "        return self.Model.get_sample_prob(sample,temp,field,epoch)\n",
    "        "
   ]
  },
  {
   "cell_type": "code",
   "execution_count": 11,
   "metadata": {},
   "outputs": [],
   "source": [
    "activation_functions = {\n",
    "    'relu': nn.ReLU(),\n",
    "    'sigmoid': nn.Sigmoid(),\n",
    "    'tanh': nn.Tanh(),\n",
    "}\n",
    "\n",
    "optimizers = {\n",
    "    'gradient_descent': optim.SGD,\n",
    "    'rmsprop': optim.RMSprop,\n",
    "    'adam': optim.Adam,\n",
    "}\n",
    "\n",
    "\n",
    "Dim = 3"
   ]
  },
  {
   "cell_type": "code",
   "execution_count": 12,
   "metadata": {},
   "outputs": [],
   "source": [
    "def get_Ness(model,lattices,tmp,temp_b,field_b):\n",
    "    size = lattices.shape[0]\n",
    "    iters = int(size/1000)\n",
    "    lattices = lattices.view(-1,iters,27)\n",
    "    for i in range(iters):\n",
    "        energies = (model.get_energies(lattices[:,i,:])/(tmp*k_b)).view(-1)\n",
    "        prob = model.get_sample_prob(lattices[:,i,:],temp_b,field_b,1000).view(-1)\n",
    "        temp_pot = -(field_b.view(-1)*lattices[:,i,:].sum(dim=1).view(-1))/(tmp*k_b)\n",
    "        temp_pot = energies+prob+temp_pot\n",
    "        if i ==0:\n",
    "            pot = temp_pot\n",
    "        else:\n",
    "            pot = torch.cat((pot,temp_pot),dim=0)\n",
    "    log_rw = -pot\n",
    "    log_rw = log_rw - log_rw.mean()\n",
    "    rw = torch.exp(log_rw)\n",
    "    \n",
    "    Ness = torch.sum(rw)**2 / torch.sum(rw**2)\n",
    "    return Ness"
   ]
  },
  {
   "cell_type": "code",
   "execution_count": 13,
   "metadata": {},
   "outputs": [],
   "source": [
    "from sigopt import Connection\n",
    "import socket\n",
    "\n",
    "#conn = Connection(client_token=\"RAFA GB TOKEN\")\n",
    "experiment_id = 357554\n",
    "hostname = socket.gethostname()\n",
    "experiment = conn.experiments(experiment_id).fetch()\n",
    "assignments = conn.experiments(experiment.id).best_assignments().fetch().data[0].assignments"
   ]
  },
  {
   "cell_type": "code",
   "execution_count": 14,
   "metadata": {},
   "outputs": [
    {
     "name": "stdout",
     "output_type": "stream",
     "text": [
      "Assignments({\n",
      "  \"Chem_type\": \"Fixed\",\n",
      "  \"Layers\": \"3\",\n",
      "  \"activation\": \"sigmoid\",\n",
      "  \"batch_size\": \"250\",\n",
      "  \"epochs\": 17228.762093926078,\n",
      "  \"log_learning_rate\": -2.524528017542186,\n",
      "  \"optimizer\": \"adam\",\n",
      "  \"temp_range\": \"Small\",\n",
      "  \"temp_type\": \"Random\"\n",
      "})\n"
     ]
    }
   ],
   "source": [
    "print(assignments)"
   ]
  },
  {
   "cell_type": "code",
   "execution_count": 16,
   "metadata": {},
   "outputs": [
    {
     "name": "stdout",
     "output_type": "stream",
     "text": [
      "   epoch   train loss\n"
     ]
    },
    {
     "ename": "KeyboardInterrupt",
     "evalue": "",
     "output_type": "error",
     "traceback": [
      "\u001b[0;31m---------------------------------------------------------------------------\u001b[0m",
      "\u001b[0;31mKeyboardInterrupt\u001b[0m                         Traceback (most recent call last)",
      "\u001b[0;32m<ipython-input-16-7c732410bde0>\u001b[0m in \u001b[0;36m<module>\u001b[0;34m\u001b[0m\n\u001b[1;32m      3\u001b[0m \u001b[0mstart\u001b[0m \u001b[0;34m=\u001b[0m \u001b[0mtime\u001b[0m\u001b[0;34m.\u001b[0m\u001b[0mtime\u001b[0m\u001b[0;34m(\u001b[0m\u001b[0;34m)\u001b[0m\u001b[0;34m\u001b[0m\u001b[0;34m\u001b[0m\u001b[0m\n\u001b[1;32m      4\u001b[0m \u001b[0;34m\u001b[0m\u001b[0m\n\u001b[0;32m----> 5\u001b[0;31m \u001b[0mmodel\u001b[0m \u001b[0;34m=\u001b[0m \u001b[0mcreate_model\u001b[0m\u001b[0;34m(\u001b[0m\u001b[0;36m27\u001b[0m\u001b[0;34m,\u001b[0m\u001b[0massignments\u001b[0m\u001b[0;34m)\u001b[0m\u001b[0;34m\u001b[0m\u001b[0;34m\u001b[0m\u001b[0m\n\u001b[0m\u001b[1;32m      6\u001b[0m \u001b[0;34m\u001b[0m\u001b[0m\n\u001b[1;32m      7\u001b[0m \u001b[0mend\u001b[0m \u001b[0;34m=\u001b[0m \u001b[0mtime\u001b[0m\u001b[0;34m.\u001b[0m\u001b[0mtime\u001b[0m\u001b[0;34m(\u001b[0m\u001b[0;34m)\u001b[0m\u001b[0;34m\u001b[0m\u001b[0;34m\u001b[0m\u001b[0m\n",
      "\u001b[0;32m<ipython-input-11-69986a9a4a22>\u001b[0m in \u001b[0;36mcreate_model\u001b[0;34m(Nz, assignments)\u001b[0m\n\u001b[1;32m    168\u001b[0m     \u001b[0mtemp_type\u001b[0m \u001b[0;34m=\u001b[0m \u001b[0massignments\u001b[0m\u001b[0;34m[\u001b[0m\u001b[0;34m'temp_type'\u001b[0m\u001b[0;34m]\u001b[0m\u001b[0;34m\u001b[0m\u001b[0;34m\u001b[0m\u001b[0m\n\u001b[1;32m    169\u001b[0m     \u001b[0mchem_type\u001b[0m \u001b[0;34m=\u001b[0m \u001b[0massignments\u001b[0m\u001b[0;34m[\u001b[0m\u001b[0;34m'Chem_type'\u001b[0m\u001b[0;34m]\u001b[0m\u001b[0;34m\u001b[0m\u001b[0;34m\u001b[0m\u001b[0m\n\u001b[0;32m--> 170\u001b[0;31m     \u001b[0mmodel\u001b[0m \u001b[0;34m=\u001b[0m \u001b[0mtrain_model\u001b[0m\u001b[0;34m(\u001b[0m\u001b[0mmodel\u001b[0m\u001b[0;34m,\u001b[0m\u001b[0moptimizer\u001b[0m\u001b[0;34m,\u001b[0m\u001b[0mbatch_size\u001b[0m\u001b[0;34m,\u001b[0m\u001b[0mepochs\u001b[0m\u001b[0;34m,\u001b[0m\u001b[0mtemp_type\u001b[0m\u001b[0;34m,\u001b[0m\u001b[0mchem_type\u001b[0m\u001b[0;34m,\u001b[0m\u001b[0mtemp_range\u001b[0m\u001b[0;34m)\u001b[0m\u001b[0;34m\u001b[0m\u001b[0;34m\u001b[0m\u001b[0m\n\u001b[0m\u001b[1;32m    171\u001b[0m \u001b[0;34m\u001b[0m\u001b[0m\n\u001b[1;32m    172\u001b[0m     \u001b[0;32mreturn\u001b[0m \u001b[0mmodel\u001b[0m\u001b[0;34m\u001b[0m\u001b[0;34m\u001b[0m\u001b[0m\n",
      "\u001b[0;32m<ipython-input-7-8dae2b71bb06>\u001b[0m in \u001b[0;36mtrain_model\u001b[0;34m(model, optimizer, batch_size, epochs, temp_type, chem_type, temp_range)\u001b[0m\n\u001b[1;32m     64\u001b[0m \u001b[0;34m\u001b[0m\u001b[0m\n\u001b[1;32m     65\u001b[0m \u001b[0;34m\u001b[0m\u001b[0m\n\u001b[0;32m---> 66\u001b[0;31m         \u001b[0mkl_loss\u001b[0m \u001b[0;34m=\u001b[0m \u001b[0mKL_loss\u001b[0m\u001b[0;34m(\u001b[0m\u001b[0mmodel\u001b[0m\u001b[0;34m,\u001b[0m\u001b[0mlattices\u001b[0m\u001b[0;34m,\u001b[0m\u001b[0mepoch\u001b[0m\u001b[0;34m,\u001b[0m\u001b[0mtemp\u001b[0m\u001b[0;34m,\u001b[0m\u001b[0mfield\u001b[0m\u001b[0;34m,\u001b[0m\u001b[0mnum_temps\u001b[0m\u001b[0;34m,\u001b[0m\u001b[0mnum_fields\u001b[0m\u001b[0;34m)\u001b[0m\u001b[0;34m\u001b[0m\u001b[0;34m\u001b[0m\u001b[0m\n\u001b[0m\u001b[1;32m     67\u001b[0m \u001b[0;34m\u001b[0m\u001b[0m\n\u001b[1;32m     68\u001b[0m         \u001b[0moptimizer\u001b[0m\u001b[0;34m.\u001b[0m\u001b[0mzero_grad\u001b[0m\u001b[0;34m(\u001b[0m\u001b[0;34m)\u001b[0m\u001b[0;34m\u001b[0m\u001b[0;34m\u001b[0m\u001b[0m\n",
      "\u001b[0;32m<ipython-input-6-a0eaf2c83ce7>\u001b[0m in \u001b[0;36mKL_loss\u001b[0;34m(DBG, lattices, epoch, temp, field, num_temps, num_fields)\u001b[0m\n\u001b[1;32m     60\u001b[0m     \u001b[0mprobs\u001b[0m \u001b[0;34m=\u001b[0m \u001b[0mDBG\u001b[0m\u001b[0;34m.\u001b[0m\u001b[0mget_sample_prob\u001b[0m\u001b[0;34m(\u001b[0m\u001b[0mlattices\u001b[0m\u001b[0;34m,\u001b[0m\u001b[0mtemp\u001b[0m\u001b[0;34m,\u001b[0m\u001b[0mfield\u001b[0m\u001b[0;34m,\u001b[0m\u001b[0mepoch\u001b[0m\u001b[0;34m)\u001b[0m\u001b[0;34m.\u001b[0m\u001b[0mview\u001b[0m\u001b[0;34m(\u001b[0m\u001b[0mlattices\u001b[0m\u001b[0;34m.\u001b[0m\u001b[0mshape\u001b[0m\u001b[0;34m[\u001b[0m\u001b[0;36m0\u001b[0m\u001b[0;34m]\u001b[0m\u001b[0;34m)\u001b[0m\u001b[0;34m\u001b[0m\u001b[0;34m\u001b[0m\u001b[0m\n\u001b[1;32m     61\u001b[0m     \u001b[0;32mwith\u001b[0m \u001b[0mtorch\u001b[0m\u001b[0;34m.\u001b[0m\u001b[0mno_grad\u001b[0m\u001b[0;34m(\u001b[0m\u001b[0;34m)\u001b[0m\u001b[0;34m:\u001b[0m\u001b[0;34m\u001b[0m\u001b[0;34m\u001b[0m\u001b[0m\n\u001b[0;32m---> 62\u001b[0;31m         \u001b[0menergies\u001b[0m \u001b[0;34m=\u001b[0m \u001b[0mDBG\u001b[0m\u001b[0;34m.\u001b[0m\u001b[0mget_energies\u001b[0m\u001b[0;34m(\u001b[0m\u001b[0mlattices\u001b[0m\u001b[0;34m)\u001b[0m\u001b[0;34m.\u001b[0m\u001b[0mview\u001b[0m\u001b[0;34m(\u001b[0m\u001b[0mlattices\u001b[0m\u001b[0;34m.\u001b[0m\u001b[0mshape\u001b[0m\u001b[0;34m[\u001b[0m\u001b[0;36m0\u001b[0m\u001b[0;34m]\u001b[0m\u001b[0;34m)\u001b[0m\u001b[0;34m\u001b[0m\u001b[0;34m\u001b[0m\u001b[0m\n\u001b[0m\u001b[1;32m     63\u001b[0m         \u001b[0menergies_norm\u001b[0m \u001b[0;34m=\u001b[0m \u001b[0menergies\u001b[0m\u001b[0;34m.\u001b[0m\u001b[0mview\u001b[0m\u001b[0;34m(\u001b[0m\u001b[0;34m-\u001b[0m\u001b[0;36m1\u001b[0m\u001b[0;34m)\u001b[0m\u001b[0;34m/\u001b[0m\u001b[0;34m(\u001b[0m\u001b[0mtemp\u001b[0m\u001b[0;34m.\u001b[0m\u001b[0mview\u001b[0m\u001b[0;34m(\u001b[0m\u001b[0;34m-\u001b[0m\u001b[0;36m1\u001b[0m\u001b[0;34m)\u001b[0m\u001b[0;34m*\u001b[0m\u001b[0mk_b\u001b[0m\u001b[0;34m)\u001b[0m\u001b[0;34m\u001b[0m\u001b[0;34m\u001b[0m\u001b[0m\n\u001b[1;32m     64\u001b[0m         \u001b[0;31m#print(probs.mean())\u001b[0m\u001b[0;34m\u001b[0m\u001b[0;34m\u001b[0m\u001b[0;34m\u001b[0m\u001b[0m\n",
      "\u001b[0;32m<ipython-input-11-69986a9a4a22>\u001b[0m in \u001b[0;36mget_energies\u001b[0;34m(self, lattices)\u001b[0m\n\u001b[1;32m    143\u001b[0m             \u001b[0menergies\u001b[0m \u001b[0;34m=\u001b[0m \u001b[0mtorch\u001b[0m\u001b[0;34m.\u001b[0m\u001b[0mzeros\u001b[0m\u001b[0;34m(\u001b[0m\u001b[0mlattices\u001b[0m\u001b[0;34m.\u001b[0m\u001b[0mshape\u001b[0m\u001b[0;34m[\u001b[0m\u001b[0;36m0\u001b[0m\u001b[0;34m]\u001b[0m\u001b[0;34m)\u001b[0m\u001b[0;34m.\u001b[0m\u001b[0mcuda\u001b[0m\u001b[0;34m(\u001b[0m\u001b[0;34m)\u001b[0m\u001b[0;34m\u001b[0m\u001b[0;34m\u001b[0m\u001b[0m\n\u001b[1;32m    144\u001b[0m             \u001b[0;32mfor\u001b[0m \u001b[0mlattice_num\u001b[0m \u001b[0;32min\u001b[0m \u001b[0mrange\u001b[0m\u001b[0;34m(\u001b[0m\u001b[0mlattices\u001b[0m\u001b[0;34m.\u001b[0m\u001b[0mshape\u001b[0m\u001b[0;34m[\u001b[0m\u001b[0;36m0\u001b[0m\u001b[0;34m]\u001b[0m\u001b[0;34m)\u001b[0m\u001b[0;34m:\u001b[0m\u001b[0;34m\u001b[0m\u001b[0;34m\u001b[0m\u001b[0m\n\u001b[0;32m--> 145\u001b[0;31m                 \u001b[0menergies\u001b[0m\u001b[0;34m[\u001b[0m\u001b[0mlattice_num\u001b[0m\u001b[0;34m]\u001b[0m \u001b[0;34m=\u001b[0m \u001b[0mself\u001b[0m\u001b[0;34m.\u001b[0m\u001b[0mget_cluster_energy\u001b[0m\u001b[0;34m(\u001b[0m\u001b[0mlattices\u001b[0m\u001b[0;34m[\u001b[0m\u001b[0mlattice_num\u001b[0m\u001b[0;34m,\u001b[0m\u001b[0;34m:\u001b[0m\u001b[0;34m]\u001b[0m\u001b[0;34m)\u001b[0m\u001b[0;34m\u001b[0m\u001b[0;34m\u001b[0m\u001b[0m\n\u001b[0m\u001b[1;32m    146\u001b[0m             \u001b[0;31m#print(energies)\u001b[0m\u001b[0;34m\u001b[0m\u001b[0;34m\u001b[0m\u001b[0;34m\u001b[0m\u001b[0m\n\u001b[1;32m    147\u001b[0m             \u001b[0;32mreturn\u001b[0m \u001b[0menergies\u001b[0m\u001b[0;34m\u001b[0m\u001b[0;34m\u001b[0m\u001b[0m\n",
      "\u001b[0;32m<ipython-input-11-69986a9a4a22>\u001b[0m in \u001b[0;36mget_cluster_energy\u001b[0;34m(self, lattice)\u001b[0m\n\u001b[1;32m    151\u001b[0m             \u001b[0;31m## Au = 79\u001b[0m\u001b[0;34m\u001b[0m\u001b[0;34m\u001b[0m\u001b[0;34m\u001b[0m\u001b[0m\n\u001b[1;32m    152\u001b[0m             \u001b[0matoms\u001b[0m\u001b[0;34m.\u001b[0m\u001b[0mnumbers\u001b[0m \u001b[0;34m=\u001b[0m \u001b[0;34m(\u001b[0m\u001b[0;34m(\u001b[0m\u001b[0;34m(\u001b[0m\u001b[0mlattice\u001b[0m \u001b[0;34m+\u001b[0m \u001b[0;36m1\u001b[0m\u001b[0;34m)\u001b[0m\u001b[0;34m/\u001b[0m\u001b[0;36m2\u001b[0m\u001b[0;34m)\u001b[0m\u001b[0;34m*\u001b[0m\u001b[0;36m1\u001b[0m \u001b[0;34m+\u001b[0m \u001b[0;36m46\u001b[0m\u001b[0;34m)\u001b[0m\u001b[0;34m.\u001b[0m\u001b[0mint\u001b[0m\u001b[0;34m(\u001b[0m\u001b[0;34m)\u001b[0m\u001b[0;34m.\u001b[0m\u001b[0mcpu\u001b[0m\u001b[0;34m(\u001b[0m\u001b[0;34m)\u001b[0m\u001b[0;34m.\u001b[0m\u001b[0mdetach\u001b[0m\u001b[0;34m(\u001b[0m\u001b[0;34m)\u001b[0m\u001b[0;34m.\u001b[0m\u001b[0mnumpy\u001b[0m\u001b[0;34m(\u001b[0m\u001b[0;34m)\u001b[0m\u001b[0;34m\u001b[0m\u001b[0;34m\u001b[0m\u001b[0m\n\u001b[0;32m--> 153\u001b[0;31m             \u001b[0menergy_t\u001b[0m \u001b[0;34m=\u001b[0m \u001b[0matoms\u001b[0m\u001b[0;34m.\u001b[0m\u001b[0mget_potential_energy\u001b[0m\u001b[0;34m(\u001b[0m\u001b[0;34m)\u001b[0m\u001b[0;34m\u001b[0m\u001b[0;34m\u001b[0m\u001b[0m\n\u001b[0m\u001b[1;32m    154\u001b[0m             \u001b[0;31m#lattice = ((lattice+1)/2).view(-1)\u001b[0m\u001b[0;34m\u001b[0m\u001b[0;34m\u001b[0m\u001b[0;34m\u001b[0m\u001b[0m\n\u001b[1;32m    155\u001b[0m             \u001b[0;31m#Au_conc = torch.sum(lattice,dim=0)/(self.Nz)\u001b[0m\u001b[0;34m\u001b[0m\u001b[0;34m\u001b[0m\u001b[0;34m\u001b[0m\u001b[0m\n",
      "\u001b[0;32m~/.local/lib/python3.7/site-packages/ase/atoms.py\u001b[0m in \u001b[0;36mget_potential_energy\u001b[0;34m(self, force_consistent, apply_constraint)\u001b[0m\n\u001b[1;32m    698\u001b[0m                 self, force_consistent=force_consistent)\n\u001b[1;32m    699\u001b[0m         \u001b[0;32melse\u001b[0m\u001b[0;34m:\u001b[0m\u001b[0;34m\u001b[0m\u001b[0;34m\u001b[0m\u001b[0m\n\u001b[0;32m--> 700\u001b[0;31m             \u001b[0menergy\u001b[0m \u001b[0;34m=\u001b[0m \u001b[0mself\u001b[0m\u001b[0;34m.\u001b[0m\u001b[0m_calc\u001b[0m\u001b[0;34m.\u001b[0m\u001b[0mget_potential_energy\u001b[0m\u001b[0;34m(\u001b[0m\u001b[0mself\u001b[0m\u001b[0;34m)\u001b[0m\u001b[0;34m\u001b[0m\u001b[0;34m\u001b[0m\u001b[0m\n\u001b[0m\u001b[1;32m    701\u001b[0m         \u001b[0;32mif\u001b[0m \u001b[0mapply_constraint\u001b[0m\u001b[0;34m:\u001b[0m\u001b[0;34m\u001b[0m\u001b[0;34m\u001b[0m\u001b[0m\n\u001b[1;32m    702\u001b[0m             \u001b[0;32mfor\u001b[0m \u001b[0mconstraint\u001b[0m \u001b[0;32min\u001b[0m \u001b[0mself\u001b[0m\u001b[0;34m.\u001b[0m\u001b[0mconstraints\u001b[0m\u001b[0;34m:\u001b[0m\u001b[0;34m\u001b[0m\u001b[0;34m\u001b[0m\u001b[0m\n",
      "\u001b[0;32m~/.local/lib/python3.7/site-packages/ase/calculators/calculator.py\u001b[0m in \u001b[0;36mget_potential_energy\u001b[0;34m(self, atoms, force_consistent)\u001b[0m\n\u001b[1;32m    640\u001b[0m \u001b[0;34m\u001b[0m\u001b[0m\n\u001b[1;32m    641\u001b[0m     \u001b[0;32mdef\u001b[0m \u001b[0mget_potential_energy\u001b[0m\u001b[0;34m(\u001b[0m\u001b[0mself\u001b[0m\u001b[0;34m,\u001b[0m \u001b[0matoms\u001b[0m\u001b[0;34m=\u001b[0m\u001b[0;32mNone\u001b[0m\u001b[0;34m,\u001b[0m \u001b[0mforce_consistent\u001b[0m\u001b[0;34m=\u001b[0m\u001b[0;32mFalse\u001b[0m\u001b[0;34m)\u001b[0m\u001b[0;34m:\u001b[0m\u001b[0;34m\u001b[0m\u001b[0;34m\u001b[0m\u001b[0m\n\u001b[0;32m--> 642\u001b[0;31m         \u001b[0menergy\u001b[0m \u001b[0;34m=\u001b[0m \u001b[0mself\u001b[0m\u001b[0;34m.\u001b[0m\u001b[0mget_property\u001b[0m\u001b[0;34m(\u001b[0m\u001b[0;34m'energy'\u001b[0m\u001b[0;34m,\u001b[0m \u001b[0matoms\u001b[0m\u001b[0;34m)\u001b[0m\u001b[0;34m\u001b[0m\u001b[0;34m\u001b[0m\u001b[0m\n\u001b[0m\u001b[1;32m    643\u001b[0m         \u001b[0;32mif\u001b[0m \u001b[0mforce_consistent\u001b[0m\u001b[0;34m:\u001b[0m\u001b[0;34m\u001b[0m\u001b[0;34m\u001b[0m\u001b[0m\n\u001b[1;32m    644\u001b[0m             \u001b[0;32mif\u001b[0m \u001b[0;34m'free_energy'\u001b[0m \u001b[0;32mnot\u001b[0m \u001b[0;32min\u001b[0m \u001b[0mself\u001b[0m\u001b[0;34m.\u001b[0m\u001b[0mresults\u001b[0m\u001b[0;34m:\u001b[0m\u001b[0;34m\u001b[0m\u001b[0;34m\u001b[0m\u001b[0m\n",
      "\u001b[0;32m~/.local/lib/python3.7/site-packages/ase/calculators/calculator.py\u001b[0m in \u001b[0;36mget_property\u001b[0;34m(self, name, atoms, allow_calculation)\u001b[0m\n\u001b[1;32m    693\u001b[0m             \u001b[0;32mif\u001b[0m \u001b[0;32mnot\u001b[0m \u001b[0mallow_calculation\u001b[0m\u001b[0;34m:\u001b[0m\u001b[0;34m\u001b[0m\u001b[0;34m\u001b[0m\u001b[0m\n\u001b[1;32m    694\u001b[0m                 \u001b[0;32mreturn\u001b[0m \u001b[0;32mNone\u001b[0m\u001b[0;34m\u001b[0m\u001b[0;34m\u001b[0m\u001b[0m\n\u001b[0;32m--> 695\u001b[0;31m             \u001b[0mself\u001b[0m\u001b[0;34m.\u001b[0m\u001b[0mcalculate\u001b[0m\u001b[0;34m(\u001b[0m\u001b[0matoms\u001b[0m\u001b[0;34m,\u001b[0m \u001b[0;34m[\u001b[0m\u001b[0mname\u001b[0m\u001b[0;34m]\u001b[0m\u001b[0;34m,\u001b[0m \u001b[0msystem_changes\u001b[0m\u001b[0;34m)\u001b[0m\u001b[0;34m\u001b[0m\u001b[0;34m\u001b[0m\u001b[0m\n\u001b[0m\u001b[1;32m    696\u001b[0m \u001b[0;34m\u001b[0m\u001b[0m\n\u001b[1;32m    697\u001b[0m         \u001b[0;32mif\u001b[0m \u001b[0mname\u001b[0m \u001b[0;34m==\u001b[0m \u001b[0;34m'magmom'\u001b[0m \u001b[0;32mand\u001b[0m \u001b[0;34m'magmom'\u001b[0m \u001b[0;32mnot\u001b[0m \u001b[0;32min\u001b[0m \u001b[0mself\u001b[0m\u001b[0;34m.\u001b[0m\u001b[0mresults\u001b[0m\u001b[0;34m:\u001b[0m\u001b[0;34m\u001b[0m\u001b[0;34m\u001b[0m\u001b[0m\n",
      "\u001b[0;32m~/miniconda3/envs/james_mlmat/lib/python3.7/site-packages/clease/calculator/clease.py\u001b[0m in \u001b[0;36mcalculate\u001b[0;34m(self, atoms, properties, system_changes)\u001b[0m\n\u001b[1;32m    176\u001b[0m         \"\"\"\n\u001b[1;32m    177\u001b[0m         \u001b[0mCalculator\u001b[0m\u001b[0;34m.\u001b[0m\u001b[0mcalculate\u001b[0m\u001b[0;34m(\u001b[0m\u001b[0mself\u001b[0m\u001b[0;34m,\u001b[0m \u001b[0matoms\u001b[0m\u001b[0;34m)\u001b[0m\u001b[0;34m\u001b[0m\u001b[0;34m\u001b[0m\u001b[0m\n\u001b[0;32m--> 178\u001b[0;31m         \u001b[0mself\u001b[0m\u001b[0;34m.\u001b[0m\u001b[0mupdate_energy\u001b[0m\u001b[0;34m(\u001b[0m\u001b[0;34m)\u001b[0m\u001b[0;34m\u001b[0m\u001b[0;34m\u001b[0m\u001b[0m\n\u001b[0m\u001b[1;32m    179\u001b[0m         \u001b[0mself\u001b[0m\u001b[0;34m.\u001b[0m\u001b[0menergy\u001b[0m \u001b[0;34m=\u001b[0m \u001b[0mself\u001b[0m\u001b[0;34m.\u001b[0m\u001b[0mupdater\u001b[0m\u001b[0;34m.\u001b[0m\u001b[0mget_energy\u001b[0m\u001b[0;34m(\u001b[0m\u001b[0;34m)\u001b[0m\u001b[0;34m\u001b[0m\u001b[0;34m\u001b[0m\u001b[0m\n\u001b[1;32m    180\u001b[0m         \u001b[0mself\u001b[0m\u001b[0;34m.\u001b[0m\u001b[0mresults\u001b[0m\u001b[0;34m[\u001b[0m\u001b[0;34m'energy'\u001b[0m\u001b[0;34m]\u001b[0m \u001b[0;34m=\u001b[0m \u001b[0mself\u001b[0m\u001b[0;34m.\u001b[0m\u001b[0menergy\u001b[0m\u001b[0;34m\u001b[0m\u001b[0;34m\u001b[0m\u001b[0m\n",
      "\u001b[0;32m~/miniconda3/envs/james_mlmat/lib/python3.7/site-packages/clease/calculator/clease.py\u001b[0m in \u001b[0;36mupdate_energy\u001b[0;34m(self)\u001b[0m\n\u001b[1;32m    201\u001b[0m     \u001b[0;32mdef\u001b[0m \u001b[0mupdate_energy\u001b[0m\u001b[0;34m(\u001b[0m\u001b[0mself\u001b[0m\u001b[0;34m)\u001b[0m\u001b[0;34m:\u001b[0m\u001b[0;34m\u001b[0m\u001b[0;34m\u001b[0m\u001b[0m\n\u001b[1;32m    202\u001b[0m         \u001b[0;34m\"\"\"Update correlation function and get new energy.\"\"\"\u001b[0m\u001b[0;34m\u001b[0m\u001b[0;34m\u001b[0m\u001b[0m\n\u001b[0;32m--> 203\u001b[0;31m         \u001b[0mself\u001b[0m\u001b[0;34m.\u001b[0m\u001b[0mupdate_cf\u001b[0m\u001b[0;34m(\u001b[0m\u001b[0;34m)\u001b[0m\u001b[0;34m\u001b[0m\u001b[0;34m\u001b[0m\u001b[0m\n\u001b[0m\u001b[1;32m    204\u001b[0m         \u001b[0mself\u001b[0m\u001b[0;34m.\u001b[0m\u001b[0menergy\u001b[0m \u001b[0;34m=\u001b[0m \u001b[0mself\u001b[0m\u001b[0;34m.\u001b[0m\u001b[0mupdater\u001b[0m\u001b[0;34m.\u001b[0m\u001b[0mget_energy\u001b[0m\u001b[0;34m(\u001b[0m\u001b[0;34m)\u001b[0m\u001b[0;34m\u001b[0m\u001b[0;34m\u001b[0m\u001b[0m\n\u001b[1;32m    205\u001b[0m \u001b[0;34m\u001b[0m\u001b[0m\n",
      "\u001b[0;32m~/miniconda3/envs/james_mlmat/lib/python3.7/site-packages/clease/calculator/clease.py\u001b[0m in \u001b[0;36mupdate_cf\u001b[0;34m(self, system_changes)\u001b[0m\n\u001b[1;32m    235\u001b[0m                               for x in swapped_indices]\n\u001b[1;32m    236\u001b[0m         \u001b[0;32mfor\u001b[0m \u001b[0mchange\u001b[0m \u001b[0;32min\u001b[0m \u001b[0msystem_changes\u001b[0m\u001b[0;34m:\u001b[0m\u001b[0;34m\u001b[0m\u001b[0;34m\u001b[0m\u001b[0m\n\u001b[0;32m--> 237\u001b[0;31m             \u001b[0mself\u001b[0m\u001b[0;34m.\u001b[0m\u001b[0mupdater\u001b[0m\u001b[0;34m.\u001b[0m\u001b[0mupdate_cf\u001b[0m\u001b[0;34m(\u001b[0m\u001b[0mchange\u001b[0m\u001b[0;34m)\u001b[0m\u001b[0;34m\u001b[0m\u001b[0;34m\u001b[0m\u001b[0m\n\u001b[0m\u001b[1;32m    238\u001b[0m \u001b[0;34m\u001b[0m\u001b[0m\n\u001b[1;32m    239\u001b[0m     \u001b[0;34m@\u001b[0m\u001b[0mproperty\u001b[0m\u001b[0;34m\u001b[0m\u001b[0;34m\u001b[0m\u001b[0m\n",
      "\u001b[0;31mKeyboardInterrupt\u001b[0m: "
     ]
    }
   ],
   "source": [
    "import time\n",
    "\n",
    "start = time.time()\n",
    "\n",
    "model = create_model(27,assignments)\n",
    "\n",
    "end = time.time()"
   ]
  },
  {
   "cell_type": "code",
   "execution_count": 16,
   "metadata": {},
   "outputs": [
    {
     "name": "stdout",
     "output_type": "stream",
     "text": [
      "10.888580753207206\n"
     ]
    }
   ],
   "source": [
    "print((end-start)/3600)"
   ]
  },
  {
   "cell_type": "code",
   "execution_count": 129,
   "metadata": {},
   "outputs": [
    {
     "name": "stdout",
     "output_type": "stream",
     "text": [
      "OrderedDict([('Model.shared_layer.weight', tensor([[-1.2502, -1.9782, -0.0000,  ...,  0.0000, -0.0000,  0.0000],\n",
      "        [-2.4255, -1.2256, -0.0000,  ..., -0.0000, -0.0000,  0.0000],\n",
      "        [ 1.7603,  2.4205, -0.4082,  ...,  0.0000, -0.0000, -0.0000],\n",
      "        ...,\n",
      "        [ 0.3974, -1.2016, -0.2421,  ...,  0.0000, -0.0000,  0.0000],\n",
      "        [-0.5705,  0.4740, -0.2030,  ..., -0.6116, -0.0000,  0.0000],\n",
      "        [ 0.4986, -1.9070, -0.1840,  ...,  0.8193,  0.0000, -0.0000]],\n",
      "       device='cuda:2')), ('Model.shared_layer_2.weight', tensor([[ 0.0930, -1.0539,  1.8338,  ...,  0.0000,  0.0000,  0.0000],\n",
      "        [-7.2681, -4.3877, -1.2788,  ..., -0.0000,  0.0000, -0.0000],\n",
      "        [ 2.7341,  1.9317, -2.5720,  ..., -0.0000, -0.0000, -0.0000],\n",
      "        ...,\n",
      "        [ 1.4490, -0.1030, -0.5304,  ..., -0.4326, -0.0000,  0.0000],\n",
      "        [ 2.0215,  0.6431, -1.5658,  ..., -3.0577,  1.0529, -4.8558],\n",
      "        [-2.1417,  0.4233, -0.6102,  ..., -4.3729,  0.8589, -4.8501]],\n",
      "       device='cuda:2')), ('Model.shared_layer_3.weight', tensor([[ 0.4331, -0.6014, -0.5922,  ...,  0.0000, -0.0000,  0.0000],\n",
      "        [-0.2357,  0.7908,  0.7390,  ..., -0.0000,  0.0000,  0.0000],\n",
      "        [ 0.8967, -0.5468,  1.5746,  ...,  0.0000,  0.0000, -0.0000],\n",
      "        ...,\n",
      "        [-0.0300,  0.0867, -0.4247,  ...,  1.4670,  0.0000, -0.0000],\n",
      "        [ 0.0490, -0.0709,  0.2573,  ...,  0.1859, -1.4866, -2.7389],\n",
      "        [ 0.1862,  0.1222, -0.3928,  ..., -0.0033,  1.4900,  2.6811]],\n",
      "       device='cuda:2')), ('Model.shared_layer_4.weight', tensor([[ 0.1642, -0.1797,  0.1880,  ...,  0.0000,  0.0000,  0.0000],\n",
      "        [-0.0254,  0.1828,  0.1514,  ...,  0.0000,  0.0000,  0.0000],\n",
      "        [-0.0993, -0.0725, -0.1560,  ...,  0.0000,  0.0000,  0.0000],\n",
      "        ...,\n",
      "        [-0.0651, -0.0424,  0.1096,  ..., -0.0641, -0.0000,  0.0000],\n",
      "        [-0.1367,  0.1854, -0.1259,  ...,  0.1448,  0.1785,  0.0822],\n",
      "        [ 0.1558,  0.0413, -0.1116,  ...,  0.1234, -0.0697, -0.0979]],\n",
      "       device='cuda:2'))])\n"
     ]
    }
   ],
   "source": [
    "print(model.state_dict())"
   ]
  },
  {
   "cell_type": "code",
   "execution_count": 42,
   "metadata": {},
   "outputs": [],
   "source": [
    "torch.save(model.state_dict(), \"AgPdCE_small_model_june6\")"
   ]
  },
  {
   "cell_type": "code",
   "execution_count": 15,
   "metadata": {},
   "outputs": [],
   "source": [
    "model = Discrete_Boltzmann_Generator(27,assignments)"
   ]
  },
  {
   "cell_type": "code",
   "execution_count": 16,
   "metadata": {},
   "outputs": [],
   "source": [
    "load_params = torch.load(\"AgPdCE_small_model_june6\")\n"
   ]
  },
  {
   "cell_type": "code",
   "execution_count": 23,
   "metadata": {},
   "outputs": [],
   "source": [
    "model.Model.shared_layer.weight = nn.Parameter(load_params[\"Model.shared_layer.weight\"])\n",
    "model.Model.shared_layer_2.weight = nn.Parameter(load_params[\"Model.shared_layer_2.weight\"])\n",
    "model.Model.shared_layer_3.weight = nn.Parameter(load_params[\"Model.shared_layer_3.weight\"])\n",
    "model.Model.shared_layer_4.weight = nn.Parameter(load_params[\"Model.shared_layer_4.weight\"])"
   ]
  },
  {
   "cell_type": "code",
   "execution_count": 24,
   "metadata": {},
   "outputs": [
    {
     "data": {
      "text/plain": [
       "Discrete_Boltzmann_Generator(\n",
       "  (Model): autoreg_model(\n",
       "    (activation): Sigmoid()\n",
       "    (lsoftmax): LogSoftmax(dim=2)\n",
       "    (softmax): Softmax(dim=2)\n",
       "    (shared_layer): Linear(in_features=56, out_features=54, bias=False)\n",
       "    (shared_layer_2): Linear(in_features=56, out_features=54, bias=False)\n",
       "    (shared_layer_3): Linear(in_features=56, out_features=54, bias=False)\n",
       "    (shared_layer_4): Linear(in_features=56, out_features=54, bias=False)\n",
       "  )\n",
       ")"
      ]
     },
     "execution_count": 24,
     "metadata": {},
     "output_type": "execute_result"
    }
   ],
   "source": [
    "\n",
    "model.cuda()"
   ]
  },
  {
   "cell_type": "code",
   "execution_count": 18,
   "metadata": {},
   "outputs": [],
   "source": [
    "def get_Ness(model,lattices,tmp,temp_b,field_b):\n",
    "    size = lattices.shape[0]\n",
    "    iters = int(size/1000)\n",
    "    lattices = lattices.view(-1,iters,27)\n",
    "    for i in range(iters):\n",
    "        energies = (model.get_energies(lattices[:,i,:])/(k_b*tmp)).view(-1)\n",
    "        prob = model.get_sample_prob(lattices[:,i,:],temp_b,field_b,1000).view(-1)\n",
    "        temp_pot = -(field_b.view(-1)*lattices[:,i,:].sum(dim=1).view(-1))/(k_b*tmp)\n",
    "        temp_pot = energies+prob+temp_pot\n",
    "        if i ==0:\n",
    "            pot = temp_pot\n",
    "        else:\n",
    "            pot = torch.cat((pot,temp_pot),dim=0)\n",
    "    log_rw = -pot\n",
    "    log_rw = log_rw - log_rw.mean()\n",
    "    \n",
    "    \n",
    "    log_rw = log_rw.view(-1)\n",
    "    Top_term = 2*torch.logsumexp(log_rw,dim=0)\n",
    "    Bottom_term = torch.logsumexp(2*log_rw,dim=0)\n",
    "    Log_Ness = Top_term - Bottom_term\n",
    "    return torch.exp(Log_Ness)"
   ]
  },
  {
   "cell_type": "code",
   "execution_count": null,
   "metadata": {},
   "outputs": [],
   "source": [
    "chem_p = np.linspace(-0.2,0.2,40)\n",
    "temps = np.linspace(200,900,20)\n",
    "num = 10000\n",
    "temps_f = torch.zeros(1000).cuda()\n",
    "ch_p_f = torch.zeros(1000).cuda()\n",
    "Ness = np.zeros((temps.shape[0],chem_p.shape[0]))\n",
    "for i in range(temps.shape[0]):\n",
    "    for j in range(chem_p.shape[0]):\n",
    "        for m in range(10):\n",
    "            for k in range(1000):\n",
    "                temps_f[k] = temps[i]\n",
    "                ch_p_f[k] = chem_p[j]\n",
    "            temp_lattices = model.forward(temps_f,ch_p_f)\n",
    "            if m ==0:\n",
    "                lattices = temp_lattices\n",
    "            else:\n",
    "                lattices = torch.cat((lattices,temp_lattices),dim=0)\n",
    "        \n",
    "        N_temp = get_Ness(model,lattices,temps[i],temps_f,ch_p_f)\n",
    "        Ness[i,j] = N_temp/num\n"
   ]
  },
  {
   "cell_type": "code",
   "execution_count": 24,
   "metadata": {},
   "outputs": [
    {
     "name": "stdout",
     "output_type": "stream",
     "text": [
      "(20, 40)\n"
     ]
    }
   ],
   "source": [
    "print(Ness.shape)"
   ]
  },
  {
   "cell_type": "code",
   "execution_count": 67,
   "metadata": {},
   "outputs": [
    {
     "data": {
      "image/png": "[encoded data removed]",
      "text/plain": [
       "<Figure size 504x360 with 2 Axes>"
      ]
     },
     "metadata": {
      "needs_background": "light"
     },
     "output_type": "display_data"
    }
   ],
   "source": [
    "import matplotlib as mpl\n",
    "mpl.rc('font',family='Arial')\n",
    "hfont = {'fontname':'Arial',\"fontsize\":16}\n",
    "\n",
    "plt.hist2d(all_chem_p,all_temps,bins = (40,20), weights = Ness.reshape(-1),cmap='inferno',vmin=0.0,vmax=1.0)\n",
    "plt.rcParams[\"figure.figsize\"] = (7,5)\n",
    "plt.xlabel('Chemical Potential (eV)',fontsize=16,fontname = \"Arial\")\n",
    "plt.ylabel('Temperature (K)',fontsize=16,fontname = \"Arial\")\n",
    "plt.yticks(fontsize=16,fontname = \"Arial\")\n",
    "plt.xticks(fontsize=16,fontname = \"Arial\")\n",
    "plt.yticks([200,400,600,800])\n",
    "plt.xticks([-0.4,-0.2,0.0,0.2,0.4])\n",
    "cb = plt.colorbar()\n",
    "imaxes = plt.gca()\n",
    "plt.axes(cb.ax)\n",
    "cb.ax.tick_params(labelsize=16)\n",
    "cb.set_ticks([0.0,0.25,0.50,0.75,1.0])\n",
    "#plt.savefig(\"NESS_AGPD_june6.pdf\",bbox_inches='tight')"
   ]
  },
  {
   "cell_type": "code",
   "execution_count": 25,
   "metadata": {},
   "outputs": [],
   "source": [
    "def examine_phase(model,lattices,tmp,temp_b,field_b,Ag_conc):\n",
    "    #print(lattices)\n",
    "    prob = model.get_sample_prob(lattices,temp_b,field_b,1000).view(-1)\n",
    "    with torch.no_grad():\n",
    "        energies = (model.get_energies(lattices)/(tmp*k_b)).view(-1)\n",
    "        \n",
    "        pot = -(field_b.view(-1)*lattices.sum(dim=1).view(-1))/(tmp*k_b)\n",
    "        pot = energies+prob+pot\n",
    "        log_rw = -pot\n",
    "        stored = log_rw.mean()\n",
    "        log_rw_corr = log_rw - stored\n",
    "        rw = torch.exp(log_rw_corr)\n",
    "        rw_norm = rw/(rw.sum())\n",
    "        est_part = torch.exp(log_rw_corr).mean()\n",
    "        log_z = torch.log(est_part)+stored\n",
    "        conc_mean = (Ag_conc.view(-1)*rw_norm.view(-1)).sum().cpu().detach().numpy().item()\n",
    "\n",
    "        var = torch.sum((rw_norm**2)*(Ag_conc-conc_mean)**2)\n",
    "        conc_var = (var).cpu().detach().numpy()\n",
    "        gp = -k_b*tmp*log_z\n",
    "        \n",
    "        energies_ev = (energies*tmp*rw_norm).sum()\n",
    "        energies_sqrd_ev = (((energies*k_b*tmp)**2)*rw_norm).sum()\n",
    "        \n",
    "        hc = (energies_sqrd_ev - energies_ev**2)/(k_b*tmp**2)\n",
    "        \n",
    "    return conc_mean,conc_var,gp,(energies*(tmp*k_b)*rw_norm).sum(),hc"
   ]
  },
  {
   "cell_type": "code",
   "execution_count": 26,
   "metadata": {},
   "outputs": [],
   "source": [
    "def get_conc_at_temp(temp):\n",
    "    \n",
    "    chemical_pots = np.linspace(-0.2,0.2,41)\n",
    "    concs = np.linspace(-.2,.2,41)\n",
    "    concs_rw = np.linspace(-.2,.2,41)\n",
    "    concs_var = np.linspace(-.2,.2,41)\n",
    "    free_energies = np.linspace(-.2,.2,41)\n",
    "    heat_caps = np.linspace(-.2,.2,41)\n",
    "    temps = torch.zeros(10000).cuda()\n",
    "    counter = 0\n",
    "    for chpot in chemical_pots:\n",
    "        temps = torch.zeros(10000).cuda()\n",
    "        fields = torch.zeros(10000).cuda()\n",
    "        for i in range(10000):\n",
    "            temps[i] = temp\n",
    "            fields[i] = chpot\n",
    "            \n",
    "        lattices = model.forward(temps,fields)\n",
    "        concs_iter = get_concentrations(lattices).view(-1)\n",
    "        concs[counter] = concs_iter.mean().cpu().detach().numpy()\n",
    "        \n",
    "        conc_mean,conc_var,gp,energies,hc = examine_phase(model,lattices,temp,temps,fields,concs_iter)\n",
    "        free_energies[counter] = gp.cpu().detach().numpy()\n",
    "        heat_caps[counter] = hc.cpu().detach().numpy()\n",
    "        concs_var[counter] = conc_var\n",
    "        concs_rw[counter] = conc_mean\n",
    "        counter = counter + 1\n",
    "        \n",
    "    return chemical_pots,concs,concs_rw,concs_var,free_energies,heat_caps"
   ]
  },
  {
   "cell_type": "code",
   "execution_count": 27,
   "metadata": {},
   "outputs": [],
   "source": [
    "concs_sim_np = np.loadtxt(open(\"AgPdDFT_ref_SGC_3_concs_final_paper_np_41_6.csv\", \"rb\"), delimiter=\",\", skiprows=0)\n",
    "#concs_sim_pn = np.loadtxt(open(\"AgPdDFT_ref_SGC_3_concs_final_paper_pn_41_6.csv\", \"rb\"), delimiter=\",\", skiprows=0)"
   ]
  },
  {
   "cell_type": "code",
   "execution_count": 28,
   "metadata": {},
   "outputs": [],
   "source": [
    "chemical_pots_low,concs_low,concs_rw_low,concs_var_low,fe_low,hc_low = get_conc_at_temp(250)\n",
    "chemical_pots_high,concs_high,concs_rw_high,concs_var_high,fe_high,hc_high = get_conc_at_temp(750)"
   ]
  },
  {
   "cell_type": "code",
   "execution_count": 29,
   "metadata": {},
   "outputs": [
    {
     "name": "stdout",
     "output_type": "stream",
     "text": [
      "[ 0 63 92]\n",
      "[ 88  80 141]\n",
      "[188  80 144]\n",
      "[255  99  97]\n",
      "[255 166   0]\n"
     ]
    }
   ],
   "source": [
    "from matplotlib.colors import ListedColormap, LinearSegmentedColormap\n",
    "\n",
    "#003f5c\n",
    "#58508d\n",
    "#bc5090\n",
    "#ff6361\n",
    "#ffa600\n",
    "N = 5\n",
    "newcolors = []\n",
    "newcolors.append((0,63,92))\n",
    "newcolors.append((88,80,141)) \n",
    "newcolors.append((188,80,144)) \n",
    "newcolors.append((255,99,97)) \n",
    "newcolors.append((255,166,0)) \n",
    "\n",
    "newcolors_norm = []\n",
    "for i in newcolors:\n",
    "    curr = np.asarray(i)\n",
    "    print(curr)\n",
    "    curr = curr/255.0\n",
    "    curr = tuple(curr)\n",
    "    newcolors_norm.append(curr)\n",
    "\n",
    "cmap_name = 'my_list'\n",
    "newcmp = LinearSegmentedColormap.from_list(cmap_name,newcolors_norm)"
   ]
  },
  {
   "cell_type": "code",
   "execution_count": 30,
   "metadata": {},
   "outputs": [
    {
     "name": "stdout",
     "output_type": "stream",
     "text": [
      "#ffa600\n",
      "#e95d71\n",
      "#79508e\n",
      "#003f5c\n"
     ]
    }
   ],
   "source": [
    "color = newcmp(1.0)\n",
    "print(matplotlib.colors.rgb2hex(color))\n",
    "color = newcmp(0.66666)\n",
    "print(matplotlib.colors.rgb2hex(color))\n",
    "color = newcmp(0.333333)\n",
    "print(matplotlib.colors.rgb2hex(color))\n",
    "color = newcmp(0.0)\n",
    "print(matplotlib.colors.rgb2hex(color))"
   ]
  },
  {
   "cell_type": "code",
   "execution_count": 35,
   "metadata": {},
   "outputs": [
    {
     "data": {
      "image/png": "[encoded data removed]",
      "text/plain": [
       "<Figure size 288x576 with 2 Axes>"
      ]
     },
     "metadata": {
      "needs_background": "light"
     },
     "output_type": "display_data"
    }
   ],
   "source": [
    "fig, axs = plt.subplots(2, sharex=True, sharey=True, gridspec_kw={'hspace': 0.1})\n",
    "import matplotlib as mpl\n",
    "import matplotlib.font_manager as font_manager\n",
    "\n",
    "\n",
    "mpl.rc('font',family='Arial')\n",
    "hfont = {'fontname':'Arial'}\n",
    "axs[0].scatter(chemical_pots_low*2.0,np.flip(concs_sim_np[:,1]),color=newcmp(0.0),label='MCMC Simulation',alpha=0.75,s = 100,marker='s')\n",
    "axs[0].scatter(chemical_pots_low*2.0,concs_rw_high,color=newcmp(0.66666),label='SNIS',alpha=1.0)\n",
    "axs[0].set_yticks([0,0.2,0.4,0.6,0.8,1.0])\n",
    "axs[0].tick_params(\n",
    "    axis='x',          # changes apply to the x-axis\n",
    "    which='both',      # both major and minor ticks are affected\n",
    "    bottom=False,      # ticks along the bottom edge are off\n",
    "    top=False,         # ticks along the top edge are off\n",
    "    labelbottom=False)\n",
    "axs[0].tick_params(labelsize=16)\n",
    "prop = font = font_manager.FontProperties(family='Arial',size=10)\n",
    "axs[0].legend(loc = 4,prop=font)\n",
    "axs[0].text(-0.4, 0.95, '750 K', fontsize = 16,fontname = \"Arial\",va='center', rotation='horizontal')\n",
    "\n",
    "\n",
    "axs[1].scatter(chemical_pots_low*2.0,np.flip(concs_sim_np[:,0]),color=newcmp(0.0),alpha=0.75,s = 100,marker='s')\n",
    "axs[1].scatter(chemical_pots_low*2.0,concs_rw_low,color=newcmp(0.6666666),alpha=1.0)\n",
    "axs[1].text(-0.4, 0.95, '250 K', fontsize = 16,fontname = \"Arial\",va='center', rotation='horizontal')\n",
    "\n",
    "axs[1].set_yticks([0,0.2,0.4,0.6,0.8,1.0])\n",
    "axs[1].tick_params(labelsize=16)\n",
    "\n",
    "plt.xlabel('Chemical Potential (eV)',fontsize=16,fontname = \"Arial\")\n",
    "plt.xticks([-0.4,-0.2,0.0,0.2,0.4])\n",
    "#fig.ylabel('Prob.',fontsize=14,**hfont)\n",
    "fig.text(-0.1, 0.5, 'Composition (%Ag)', fontsize = 16,fontname = \"Arial\",va='center', rotation='vertical')\n",
    "plt.xticks(fontsize = 16,fontname = \"Arial\") \n",
    "plt.rcParams[\"figure.figsize\"] = (4,8)\n",
    "plt.savefig('ag_pd_concs_July_10.pdf',bbox_inches='tight')"
   ]
  },
  {
   "cell_type": "code",
   "execution_count": 37,
   "metadata": {},
   "outputs": [
    {
     "data": {
      "image/png": "[encoded data removed]",
      "text/plain": [
       "<Figure size 504x360 with 1 Axes>"
      ]
     },
     "metadata": {
      "needs_background": "light"
     },
     "output_type": "display_data"
    }
   ],
   "source": [
    "\n",
    "plt.plot(chemical_pots_low*2.0,np.log10(abs(concs_rw_low-np.flip(concs_sim_np[:,0]))),color=newcmp(0.0))\n",
    "\n",
    "plt.rcParams[\"figure.figsize\"] = (7,5)\n",
    "mpl.rc('font',family='Arial')\n",
    "mpl.rc('font',family='Arial')\n",
    "hfont = {'fontname':'Arial'}\n",
    "plt.xlabel('Chemical Potential (eV)',fontsize=16,fontname=\"Arial\")\n",
    "plt.xticks([-0.4,-0.3,-0.2,-0.1,0.0,0.1,0.2,0.3,0.4])\n",
    "plt.yticks([0.0,-1.0,-2.0,-3.0,-4.0,-5.0,-6,-7,-8])\n",
    "plt.ylabel('Log Difference',fontsize=16,fontname=\"Arial\")\n",
    "plt.xticks(fontsize = 16,fontname = \"Arial\") \n",
    "plt.yticks(fontsize = 16,fontname = \"Arial\") \n",
    "plt.savefig('AgPdError1_July_10.pdf',bbox_inches='tight')\n",
    "    \n",
    "plt.show()"
   ]
  },
  {
   "cell_type": "code",
   "execution_count": 38,
   "metadata": {},
   "outputs": [
    {
     "data": {
      "image/png": "[encoded data removed]",
      "text/plain": [
       "<Figure size 504x360 with 1 Axes>"
      ]
     },
     "metadata": {
      "needs_background": "light"
     },
     "output_type": "display_data"
    }
   ],
   "source": [
    "plt.plot(chemical_pots_low*2.0,np.log10(abs(concs_rw_high-np.flip(concs_sim_np[:,1]))),color=newcmp(0.0))\n",
    "\n",
    "plt.rcParams[\"figure.figsize\"] = (7,5)\n",
    "mpl.rc('font',family='Arial')\n",
    "mpl.rc('font',family='Arial')\n",
    "hfont = {'fontname':'Arial'}\n",
    "plt.xlabel('Chemical Potential (eV)',fontsize=16,fontname=\"Arial\")\n",
    "plt.xticks([-0.4,-0.3,-0.2,-0.1,0.0,0.1,0.2,0.3,0.4])\n",
    "plt.yticks([0.0,-1.0,-2.0,-3.0,-4.0,-5.0,-6,-7,-8])\n",
    "plt.ylabel('Log Difference',fontsize=16,fontname=\"Arial\")\n",
    "plt.xticks(fontsize = 16,fontname = \"Arial\") \n",
    "plt.yticks(fontsize = 16,fontname = \"Arial\") \n",
    "plt.savefig('AgPdError2_July_10.pdf',bbox_inches='tight')\n",
    "    \n",
    "plt.show()"
   ]
  },
  {
   "cell_type": "code",
   "execution_count": 66,
   "metadata": {},
   "outputs": [
    {
     "name": "stdout",
     "output_type": "stream",
     "text": [
      "835\n",
      "[46 47 46 47 47 46 46 47 47 46 46 47 47 47 47 46 47 46 47 47 46 47 46 47\n",
      " 46 46 47]\n"
     ]
    }
   ],
   "source": [
    "########## AgPd Crystal\n",
    "from ase.io import write\n",
    "\n",
    "tmp = 240.\n",
    "field = -0.02\n",
    "tmps = torch.zeros(1000).cuda()\n",
    "fields = torch.zeros(1000).cuda()\n",
    "for i in range(1000):\n",
    "    tmps[i] = tmp\n",
    "    fields[i] = field\n",
    "    \n",
    "lats = model.forward(tmps,fields)\n",
    "energies = model.get_energies(lats)\n",
    "min_index = -1\n",
    "min_energy = 9999999\n",
    "for i in range(1000):\n",
    "    curr_energy = energies[i]\n",
    "    if curr_energy < min_energy:\n",
    "        min_energy = curr_energy\n",
    "        min_index = i\n",
    "\n",
    "print(min_index)\n",
    "lat = lats[50,:]\n",
    "\n",
    "\n",
    "atoms.numbers = ((((lat + 1)/2)*1 + 46).int().cpu().detach().numpy()).reshape(-1)\n",
    "print(atoms.numbers)\n",
    "\n",
    "write('atoms_agpd_02.png',atoms)"
   ]
  },
  {
   "cell_type": "code",
   "execution_count": null,
   "metadata": {},
   "outputs": [],
   "source": []
  }
 ],
 "metadata": {
  "kernelspec": {
   "display_name": "Python 3",
   "language": "python",
   "name": "python3"
  },
  "language_info": {
   "codemirror_mode": {
    "name": "ipython",
    "version": 3
   },
   "file_extension": ".py",
   "mimetype": "text/x-python",
   "name": "python",
   "nbconvert_exporter": "python",
   "pygments_lexer": "ipython3",
   "version": "3.7.8"
  }
 },
 "nbformat": 4,
 "nbformat_minor": 4
}
