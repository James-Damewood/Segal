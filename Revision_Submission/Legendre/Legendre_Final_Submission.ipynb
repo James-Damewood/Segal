{
 "cells": [
  {
   "cell_type": "code",
   "execution_count": 1,
   "metadata": {},
   "outputs": [
    {
     "name": "stdout",
     "output_type": "stream",
     "text": [
      "True\n"
     ]
    }
   ],
   "source": [
    "import numpy as np\n",
    "import csv\n",
    "import random\n",
    "import math\n",
    "import matplotlib\n",
    "\n",
    "import matplotlib.pyplot as plt\n",
    "%matplotlib inline\n",
    "\n",
    "import torch\n",
    "import torch.nn as nn\n",
    "import torch.nn.functional as F\n",
    "from torch.autograd import Variable\n",
    "import copy\n",
    "import torchvision\n",
    "from torchvision import transforms\n",
    "import torchvision.transforms.functional as TF\n",
    "import torchvision.datasets as datasets\n",
    "import torch.optim as optim\n",
    "from torch import utils\n",
    "from torch.utils import data\n",
    "from torch.utils.data import Dataset, DataLoader\n",
    "use_cuda = torch.cuda.is_available()\n",
    "torch.cuda.set_device(0)\n",
    "CUDA_LAUNCH_BLOCKING=1\n",
    "#torch.autograd.set_detect_anomaly(True)\n",
    "print (use_cuda)\n",
    "\n",
    "torch.backends.cudnn.enabled\n",
    "import os\n",
    "\n",
    "\n",
    "import time\n",
    "import pandas\n",
    "import seaborn\n",
    "import sklearn as sk"
   ]
  },
  {
   "cell_type": "code",
   "execution_count": null,
   "metadata": {},
   "outputs": [],
   "source": []
  },
  {
   "cell_type": "code",
   "execution_count": 2,
   "metadata": {},
   "outputs": [],
   "source": [
    "Dim = 5\n",
    "J = np.zeros((Dim*Dim,Dim*Dim))\n",
    "for i in range(Dim*Dim):\n",
    "    for j in range(Dim*Dim):\n",
    "        if ((i + 1 == j and j%Dim != 0) or (i - 1 == j and i%Dim != 0)):\n",
    "            J[i,j] = 1\n",
    "        if (i + Dim == j or i - Dim == j):\n",
    "            J[i,j] = 1\n",
    "        if ((i % Dim == 0 and j % Dim == Dim - 1) and (i + (Dim-1) == j)):\n",
    "            J[i,j] = 1\n",
    "        if ((j % Dim == 0 and i % Dim == Dim - 1) and (j + (Dim-1) == i)):\n",
    "            J[i,j] = 1\n",
    "        if ((i < Dim and j > Dim*Dim - 1 - Dim) and (i + (Dim*Dim - Dim) == j)):\n",
    "            J[i,j] = 1\n",
    "        if ((j < Dim and i > Dim*Dim - 1 - Dim) and (j + (Dim*Dim - Dim) == i)):\n",
    "            J[i,j] = 1\n",
    "J = torch.tensor(J).float()"
   ]
  },
  {
   "cell_type": "code",
   "execution_count": 3,
   "metadata": {},
   "outputs": [],
   "source": [
    "def get_potential(lattices):\n",
    "    ising_energy = -0.5 * np.matmul(lattices.reshape((-1,1,Dim*Dim)) , np.matmul(J,lattices.reshape((-1,Dim*Dim,1))))\n",
    "    \n",
    "    mag = lattices.sum(axis = 1)/25\n",
    "    drop_one = -20*np.exp(-(mag-0.5)**2 / (0.25))\n",
    "    drop_two = -25*np.exp(-(mag+0.5)**2 / (0.25))\n",
    "    return ising_energy + drop_one+drop_two"
   ]
  },
  {
   "cell_type": "code",
   "execution_count": 4,
   "metadata": {},
   "outputs": [
    {
     "name": "stdout",
     "output_type": "stream",
     "text": [
      "0\n",
      "1000000\n",
      "2000000\n",
      "3000000\n",
      "4000000\n",
      "5000000\n",
      "6000000\n",
      "7000000\n",
      "8000000\n",
      "9000000\n",
      "10000000\n",
      "11000000\n",
      "12000000\n",
      "13000000\n",
      "14000000\n",
      "15000000\n",
      "16000000\n",
      "17000000\n",
      "18000000\n",
      "19000000\n",
      "20000000\n",
      "21000000\n",
      "22000000\n",
      "23000000\n",
      "24000000\n",
      "25000000\n",
      "26000000\n",
      "27000000\n",
      "28000000\n",
      "29000000\n",
      "30000000\n",
      "31000000\n",
      "32000000\n",
      "33000000\n"
     ]
    }
   ],
   "source": [
    "Z = {}\n",
    "def split(word): \n",
    "    return [int(char) for char in word] \n",
    "temp = 2.0\n",
    "\n",
    "num = 0\n",
    "while num < 2**(Dim*Dim):\n",
    "    if num % 1000000 == 0:\n",
    "        print(num)\n",
    "    b = bin(num)[2:].zfill(Dim*Dim)\n",
    "    b = split(b)\n",
    "    b = np.asarray(b)\n",
    "    lattice = b*2.0 - 1.0\n",
    "    lattice = lattice.reshape((1,-1))\n",
    "    pot = get_potential(lattice)\n",
    "    mag = lattice.sum(axis = 1)/25\n",
    "    mag = tuple(mag)\n",
    "    if mag in Z:\n",
    "        Z[mag] += np.exp(-pot/temp)\n",
    "    else:\n",
    "        Z[mag] = np.exp(-pot/temp)\n",
    "    num = num + 1\n",
    "    "
   ]
  },
  {
   "cell_type": "code",
   "execution_count": 5,
   "metadata": {},
   "outputs": [],
   "source": [
    "concs = []\n",
    "fe = []\n",
    "for conc in Z.keys():\n",
    "    c = conc[0]\n",
    "    concs.append(c)\n",
    "    high = (-1.0,)\n",
    "    low = (1.0,)\n",
    "    fe_curr = -temp*np.log(Z[conc])[0,0,0]\n",
    "    fe_low = -temp*np.log(Z[low])[0,0,0]\n",
    "    fe_high = -temp*np.log(Z[high])[0,0,0]\n",
    "    \n",
    "    c = (c + 1) / 2\n",
    "    fe_act = fe_curr.item()\n",
    "    fe.append(fe_act)\n",
    "    "
   ]
  },
  {
   "cell_type": "code",
   "execution_count": 6,
   "metadata": {},
   "outputs": [],
   "source": [
    "fe = np.asarray(fe)\n",
    "\n",
    "np.save(\"Legendre_Exact_Free_Energy_Final_Submission\",fe)\n",
    "np.save(\"Legendre_Exact_Free_Energy_Conc_Final_Submission\",concs)"
   ]
  },
  {
   "cell_type": "code",
   "execution_count": 7,
   "metadata": {},
   "outputs": [],
   "source": [
    "fe = np.load(\"Legendre_Exact_Free_Energy_Final_Submission.npy\")\n",
    "concs = np.load(\"Legendre_Exact_Free_Energy_Conc_Final_Submission.npy\")"
   ]
  },
  {
   "cell_type": "code",
   "execution_count": 8,
   "metadata": {},
   "outputs": [
    {
     "name": "stdout",
     "output_type": "stream",
     "text": [
      "[0.   0.04 0.08 0.12 0.16 0.2  0.24 0.28 0.32 0.36 0.4  0.44 0.48 0.52\n",
      " 0.56 0.6  0.64 0.68 0.72 0.76 0.8  0.84 0.88 0.92 0.96 1.  ]\n"
     ]
    }
   ],
   "source": [
    "fe_new = (fe - min(fe))/25\n",
    "\n",
    "concs_new = (np.asarray(concs)+1.0)/2.0\n",
    "\n",
    "print(concs_new)"
   ]
  },
  {
   "cell_type": "code",
   "execution_count": 9,
   "metadata": {},
   "outputs": [
    {
     "name": "stdout",
     "output_type": "stream",
     "text": [
      "0.3513179394015613\n"
     ]
    }
   ],
   "source": [
    "#6\n",
    "#14\n",
    "critical= (fe_new[20]-fe_new[6]) / (concs_new[20]-concs_new[6])\n",
    "print(critical)"
   ]
  },
  {
   "cell_type": "code",
   "execution_count": 10,
   "metadata": {},
   "outputs": [],
   "source": [
    "import copy\n",
    "def constr_other_line(u):\n",
    "    max_val = -10000\n",
    "    max_index = -1\n",
    "    for i in range(concs_new.shape[0]):\n",
    "        curr = concs_new[i]*u - fe_new[i]\n",
    "        if curr > max_val:\n",
    "            max_val = curr\n",
    "            max_index = copy.deepcopy(i)\n",
    "    outline = []\n",
    "    for i in range(concs_new.shape[0]):\n",
    "        val = fe_new[max_index] + u * (concs_new[i]-concs_new[max_index])\n",
    "        outline.append(val)\n",
    "    return outline"
   ]
  },
  {
   "cell_type": "code",
   "execution_count": 11,
   "metadata": {},
   "outputs": [
    {
     "data": {
      "text/plain": [
       "0.3513179394015613"
      ]
     },
     "execution_count": 11,
     "metadata": {},
     "output_type": "execute_result"
    }
   ],
   "source": [
    "critical/2.0\n",
    "critical"
   ]
  },
  {
   "cell_type": "code",
   "execution_count": 12,
   "metadata": {},
   "outputs": [
    {
     "name": "stdout",
     "output_type": "stream",
     "text": [
      "[ 0 63 92]\n",
      "[ 88  80 141]\n",
      "[188  80 144]\n",
      "[255  99  97]\n",
      "[255 166   0]\n"
     ]
    }
   ],
   "source": [
    "from matplotlib.colors import ListedColormap, LinearSegmentedColormap\n",
    "\n",
    "#003f5c\n",
    "#58508d\n",
    "#bc5090\n",
    "#ff6361\n",
    "#ffa600\n",
    "N = 5\n",
    "newcolors = []\n",
    "newcolors.append((0,63,92))\n",
    "newcolors.append((88,80,141)) \n",
    "newcolors.append((188,80,144)) \n",
    "newcolors.append((255,99,97)) \n",
    "newcolors.append((255,166,0)) \n",
    "\n",
    "newcolors_norm = []\n",
    "for i in newcolors:\n",
    "    curr = np.asarray(i)\n",
    "    print(curr)\n",
    "    curr = curr/255.0\n",
    "    curr = tuple(curr)\n",
    "    newcolors_norm.append(curr)\n",
    "\n",
    "cmap_name = 'my_list'\n",
    "newcmp = LinearSegmentedColormap.from_list(cmap_name,newcolors_norm)"
   ]
  },
  {
   "cell_type": "code",
   "execution_count": 40,
   "metadata": {},
   "outputs": [
    {
     "data": {
      "image/png": "[encoded data removed]",
      "text/plain": [
       "<Figure size 504x360 with 1 Axes>"
      ]
     },
     "metadata": {
      "needs_background": "light"
     },
     "output_type": "display_data"
    }
   ],
   "source": [
    "import matplotlib as mpl\n",
    "import matplotlib.font_manager as font_manager\n",
    "mpl.rc('font',family='Arial')\n",
    "hfont = {'fontname':'Arial'}\n",
    "plt.rcParams[\"figure.figsize\"] = (7,5)\n",
    "\n",
    "plt.plot(concs_new,fe_new,color='black')\n",
    "plt.plot(concs_new,constr_other_line(-0.2),color=newcmp(0.0),label = '\\u0394'+'\\u03BC'+'=-0.200')\n",
    "plt.plot(concs_new,constr_other_line(critical),color=newcmp(0.5),label = '\\u0394'+'\\u03BC'+'=0.351')\n",
    "plt.plot(concs_new,constr_other_line(0.55),color=newcmp(1.0),label = '\\u0394'+'\\u03BC'+'=0.550')\n",
    "plt.xlabel('Composition',fontsize=16,fontname = \"Arial\")\n",
    "plt.xticks([0.0,0.25,0.5,0.75,1.0])\n",
    "plt.yticks([-0.2,0.0,0.2,0.4])\n",
    "plt.ylabel('Free Energy',fontsize=16,fontname = \"Arial\")\n",
    "\n",
    "plt.xlim(0.0,1.0)\n",
    "font = font_manager.FontProperties(family='Arial',size=12)\n",
    "plt.legend(loc = 4,prop=font)\n",
    "plt.xticks(fontsize = 16,fontname = \"Arial\") \n",
    "plt.yticks(fontsize = 16,fontname = \"Arial\") \n",
    "plt.savefig('Legendre_final_Submission.pdf',bbox_inches = 'tight')"
   ]
  },
  {
   "cell_type": "code",
   "execution_count": 14,
   "metadata": {},
   "outputs": [],
   "source": [
    "\n",
    "###### Based off Wu et Al. Solving Statistical Mechanics Using Variational Autoregressive Networks\n",
    "\n",
    "def KL_loss(DBG,lattices,epoch,temp,field,num_fields):\n",
    "    lattices = lattices.detach()\n",
    "    probs = DBG.get_sample_prob(lattices,temp,field).view(lattices.shape[0])\n",
    "\n",
    "    with torch.no_grad():\n",
    "        energies = DBG.get_energies(lattices).view(lattices.shape[0])\n",
    "        energies_norm = energies.view(-1)\n",
    "        F = (energies_norm + probs*(temp.view(-1))).view(-1,1)\n",
    "        \n",
    "        F_new = F - (field.view(-1,1) * lattices.view(-1,DBG.Nz).sum(dim=1).view(-1,1))\n",
    "        F_mean = F_new.view(-1,num_fields).view(1,-1,num_fields)\n",
    "        F_mean = F_mean.mean(dim=1).view(1,1,num_fields).expand(1,int(lattices.shape[0]/num_fields),num_fields)\n",
    "        \n",
    "        R = (F_new.view(-1) - F_mean.reshape(-1))/torch.abs(F_mean.reshape(-1))\n",
    "\n",
    "    assert not R.requires_grad\n",
    "    assert probs.requires_grad\n",
    "    return torch.mean(R*probs)"
   ]
  },
  {
   "cell_type": "code",
   "execution_count": 15,
   "metadata": {},
   "outputs": [],
   "source": [
    "def initialize_model(DBG,optimizer,batch_size,temp_init,mode,is_anneal,anneal_rate,factor):\n",
    "    epoch = 0\n",
    "    temp = torch.zeros(batch_size).cuda()\n",
    "    field = torch.zeros(batch_size).cuda()\n",
    "    field_sim = torch.zeros(5).cuda()\n",
    "    print_log_header()\n",
    "    epochs = np.zeros((3000))\n",
    "    while epoch < 3000:\n",
    "        for i in range(5):\n",
    "            field_sim[i] = -0.5 + 1.4*np.random.rand()\n",
    "        #field_sim = np.asarray([-0.1,0.175,0.3,0.5])\n",
    "        for i in range(batch_size):\n",
    "            temp[i] = temp_init + (anneal_rate**epoch)*factor\n",
    "        for i in range(batch_size):\n",
    "            field[i] = field_sim[int(i%(len(field_sim)))]\n",
    "        epoch = epoch + 1\n",
    "        lattices = DBG.forward(temp,field)\n",
    "        kl_loss = KL_loss(DBG,lattices,epoch,temp,field,field_sim.shape[0])\n",
    "\n",
    "        optimizer.zero_grad()\n",
    "        kl_loss.backward()\n",
    "        optimizer.step()\n",
    "            \n",
    "        #if epoch % 5 == 0:\n",
    "            #print(epoch)\n",
    "       \n",
    "    print(\"Done Training\")\n",
    "    return DBG"
   ]
  },
  {
   "cell_type": "code",
   "execution_count": 16,
   "metadata": {},
   "outputs": [],
   "source": [
    "def print_log_header():\n",
    "    print ('{:>8} {:>12}'\\\n",
    "       .format('epoch','train loss'))\n",
    "    \n",
    "def print_training_log(epoch, train_loss, test_loss=None):\n",
    "    if test_loss is not None:\n",
    "        print ('{:>8} {:>8} {:>12.4f} {:>12.4f}'\\\n",
    "                   .format(epoch, train_loss, test_loss))\n",
    "        f.write('{:>8} {:>8} {:>12.4f} {:>12.4f}\\n'\\\n",
    "                   .format(epoch, train_loss, test_loss))\n",
    "    else:\n",
    "        print ('{:>8} {:>8}'\\\n",
    "                   .format(epoch, train_loss))"
   ]
  },
  {
   "cell_type": "code",
   "execution_count": 17,
   "metadata": {},
   "outputs": [],
   "source": [
    "def one_hot_to_sites(lattices,Nz):\n",
    "    lattices = lattices.view(-1,Nz,2)\n",
    "    lattices = torch.argmax(lattices,dim=2)\n",
    "    lattices = 2*lattices - 1.0\n",
    "    lattices = lattices.view(-1,Nz)\n",
    "    return lattices.float()\n",
    "    \n",
    "def sites_to_one_hot(lattices):\n",
    "    lattices = lattices.view(lattices.shape[0],-1)\n",
    "    lattices = (0.5*(lattices + 1)).long()\n",
    "    one_hot_lattices = torch.zeros(lattices.shape[0],lattices.shape[1],2).float().cuda()\n",
    "    one_hot_lattices = one_hot_lattices.scatter_(2,lattices.view(lattices.shape[0],-1,1),1.0)\n",
    "    return one_hot_lattices.detach()"
   ]
  },
  {
   "cell_type": "code",
   "execution_count": 18,
   "metadata": {},
   "outputs": [],
   "source": [
    "# Zero out gradients\n",
    "def get_zero_grad_hook(mask):\n",
    "    def hook(grad):\n",
    "        return grad * mask\n",
    "    return hook\n",
    "\n",
    "\n",
    "def mask_weight(m,disp):\n",
    "    num_sites = m.shape[1]\n",
    "    num_components = 2\n",
    "    mask = torch.zeros(m.shape)\n",
    "    for i in range(m.shape[0]):\n",
    "        for j in range(m.shape[1]):\n",
    "            if (disp == 0):\n",
    "                if (j == 0 or j == 1 ):\n",
    "                    mask[i,j] = 1.0\n",
    "                elif ((j-2) < num_components*int(i/num_components) ):\n",
    "                    mask[i,j] = 1.0\n",
    "            if (disp == 1):\n",
    "                if (j == 0 or j==1 ):\n",
    "                    mask[i,j] = 1.0\n",
    "                if ((j-2) < num_components*int(i/num_components) + num_components):\n",
    "                    mask[i,j] = 1.0\n",
    "    mask = mask.detach()\n",
    "    m_masked = m*mask\n",
    "    return m_masked"
   ]
  },
  {
   "cell_type": "code",
   "execution_count": 19,
   "metadata": {},
   "outputs": [],
   "source": [
    "class autoreg_model(nn.Module):\n",
    "    def __init__(self,Nz,assignments):\n",
    "        super().__init__()\n",
    "        self.Nz = Nz\n",
    "        self.Dim = int(math.sqrt(Nz))\n",
    "        self.assignments = assignments\n",
    "        self.activation = nn.Sigmoid()\n",
    "        self.lsoftmax = torch.nn.LogSoftmax(dim=2)\n",
    "        self.softmax = torch.nn.Softmax(dim=2)\n",
    "        \n",
    "        self.shared_layer = nn.Linear(2*self.Nz+2,2*self.Nz,bias=False)\n",
    "        with torch.no_grad():\n",
    "            self.shared_layer.weight.copy_(np.sqrt(2)*mask_weight(self.shared_layer.weight,0))\n",
    "        self.mask_1 = mask_weight(torch.ones_like(self.shared_layer.weight),0).cuda()\n",
    "        \n",
    "        self.shared_layer.weight.register_hook(get_zero_grad_hook(self.mask_1))\n",
    "        \n",
    "        \n",
    "        self.shared_layer_2 = nn.Linear(2*self.Nz+2,2*self.Nz,bias=False)\n",
    "        with torch.no_grad():\n",
    "            self.shared_layer_2.weight.copy_(np.sqrt(2)*mask_weight(self.shared_layer_2.weight,1))\n",
    "        self.mask_2 = mask_weight(torch.ones_like(self.shared_layer_2.weight),1).cuda()\n",
    "        \n",
    "        self.shared_layer_2.weight.register_hook(get_zero_grad_hook(self.mask_2))\n",
    "        \n",
    "        \n",
    "    def get_sample_prob(self,lattices,temp,field):\n",
    "        #print(self.shared_layer.weight)\n",
    "        \n",
    "        batch_size = temp.shape[0]\n",
    "        samples = sites_to_one_hot(lattices).view(batch_size,-1)\n",
    "        net_in = torch.cat((field.view(-1,1)*10,samples),dim=1)\n",
    "        net_in = torch.cat((temp.view(-1,1),net_in),dim=1)\n",
    "        conditional = self.activation(self.shared_layer(net_in))\n",
    "        conditional = torch.cat((field.view(-1,1)*10,conditional),dim=1)\n",
    "        conditional = torch.cat((temp.view(-1,1),conditional),dim=1)\n",
    "        conditional = self.shared_layer_2(conditional)\n",
    "        conditional = conditional.view(-1,self.Nz,2)\n",
    "        Probs = self.lsoftmax(conditional)\n",
    "        samples = samples.detach()\n",
    "\n",
    "        assert Probs.requires_grad == True\n",
    "        site_prob = Probs*(samples.view(-1,self.Nz,2))\n",
    "        probs = torch.sum(torch.sum(site_prob,dim=2),dim=1)\n",
    "        return probs\n",
    "        \n",
    "    def forward(self,temp,field):\n",
    "        \n",
    "        batch_size = temp.shape[0]\n",
    "        temp = temp.view(-1,1)\n",
    "        field = field.view(-1,1)\n",
    "        lattices = torch.zeros(batch_size,2*self.Nz).cuda()\n",
    "        for site in range(self.Nz):\n",
    "            net_in = torch.cat((field*10,lattices),dim=1)\n",
    "            net_in = torch.cat((temp,net_in),dim=1)\n",
    "            conditional = self.activation(self.shared_layer(net_in))\n",
    "            conditional = torch.cat((field*10,conditional),dim=1)\n",
    "            conditional = torch.cat((temp,conditional),dim=1)\n",
    "            conditional = self.shared_layer_2(conditional)\n",
    "            conditional = conditional.view(-1,self.Nz,2)\n",
    "            Probs = self.softmax(conditional)\n",
    "            To_Sample = Probs[:,site,:]\n",
    "            \n",
    "            sample = torch.multinomial(To_Sample,1).view(-1,1)\n",
    "            #print(lattices[:,site])\n",
    "            lattices = lattices.view(-1,self.Nz,2)\n",
    "            lattices[:,site,:] = lattices[:,site,:].scatter_(1,sample,1)\n",
    "            lattices = lattices.view(-1,2*self.Nz)\n",
    "        #print(lattices.requires_grad)\n",
    "        lattices = one_hot_to_sites(lattices,self.Nz)\n",
    "        return lattices\n",
    "\n",
    "def create_model(Nz,assignments,mode):\n",
    "    class Discrete_Boltzmann_Generator(nn.Module):\n",
    "        def __init__(self,Nz,assignments):\n",
    "            super().__init__()\n",
    "            self.Nz = Nz\n",
    "            self.Dim = int(math.sqrt(Nz))\n",
    "            self.assignment = assignments\n",
    "            self.Model = autoreg_model(Nz,assignments)\n",
    "            \n",
    "        def forward(self,temp,field):\n",
    "            return self.Model.forward(temp,field)\n",
    "            \n",
    "        def get_energies(self,lattices):\n",
    "            energies = -0.5 * torch.matmul(lattices.view(-1,1,self.Dim*self.Dim) , torch.matmul(J,lattices.view(-1,self.Dim*self.Dim,1)))\n",
    "            mag = lattices.sum(dim = 1)/25\n",
    "            drop_one = -20*torch.exp(-(mag-0.5)**2 / (0.25))\n",
    "            drop_two = -25*torch.exp(-(mag+0.5)**2 / (0.25))\n",
    "            return energies.view(-1) + drop_one.view(-1) + drop_two.view(-1)\n",
    "        \n",
    "        \n",
    "        def get_sample_prob(self,sample,temp,field):\n",
    "            return self.Model.get_sample_prob(sample,temp,field)\n",
    "        \n",
    "    model = Discrete_Boltzmann_Generator(Nz,assignments).cuda()\n",
    "    batch_size = assignments['batch_size']\n",
    "    optimizer = optimizers[assignments['optimizer']](model.parameters(), lr=10**assignments['log_learning_rate'])\n",
    "    is_anneal = assignments['is_anneal']\n",
    "    anneal_rate = assignments['anneal_rate']\n",
    "    factor = assignments['factor']\n",
    "    model = initialize_model(model,optimizer,batch_size,2.0,mode,is_anneal,anneal_rate,factor)\n",
    "    \n",
    "    return model"
   ]
  },
  {
   "cell_type": "code",
   "execution_count": 20,
   "metadata": {},
   "outputs": [],
   "source": [
    "activation_functions = {\n",
    "    'relu': nn.ReLU(),\n",
    "    'sigmoid': nn.Sigmoid(),\n",
    "    'tanh': nn.Tanh(),\n",
    "}\n",
    "\n",
    "optimizers = {\n",
    "    'gradient_descent': optim.SGD,\n",
    "    'rmsprop': optim.RMSprop,\n",
    "    'adam': optim.Adam,\n",
    "}\n",
    "\n",
    "assignments = {\n",
    "    \"batch_size\": 500,\n",
    "    \"log_learning_rate\": -3,\n",
    "    \"optimizer\": \"adam\",\n",
    "    \"is_anneal\": 0,\n",
    "    \"anneal_rate\": 0.999,\n",
    "    \"factor\": 10.0,\n",
    "}\n",
    "\n",
    "Dim = 5\n",
    "\n"
   ]
  },
  {
   "cell_type": "code",
   "execution_count": 21,
   "metadata": {},
   "outputs": [],
   "source": [
    "J = J.cuda()"
   ]
  },
  {
   "cell_type": "code",
   "execution_count": 22,
   "metadata": {},
   "outputs": [
    {
     "name": "stdout",
     "output_type": "stream",
     "text": [
      "   epoch   train loss\n",
      "Done Training\n"
     ]
    }
   ],
   "source": [
    "model = create_model(25,assignments,1)"
   ]
  },
  {
   "cell_type": "code",
   "execution_count": 37,
   "metadata": {},
   "outputs": [],
   "source": [
    "torch.save(model.state_dict(), \"Legendre_Model_Final_Submission.pth\")"
   ]
  },
  {
   "cell_type": "code",
   "execution_count": 24,
   "metadata": {},
   "outputs": [],
   "source": [
    "def examine_model_simple(model,chemp):\n",
    "    batch_size = 20000\n",
    "    temp = torch.zeros(batch_size).cuda()\n",
    "    field = torch.zeros(batch_size).cuda()\n",
    "    for i in range(batch_size):\n",
    "        temp[i] = 2.0\n",
    "    for i in range(batch_size):\n",
    "        field[i] = chemp\n",
    "    lattices = model.forward(temp,field)\n",
    "    \n",
    "    energies = model.get_energies(lattices)  \n",
    "    concs = lattices.sum(dim = 1)\n",
    "    probs = model.get_sample_prob(lattices,temp,field)\n",
    "    fe = energies/temp + probs - field*lattices.sum(dim=1)/temp\n",
    "    \n",
    "    log_rw = -fe\n",
    "    stored = log_rw.mean()\n",
    "    log_rw_corr = log_rw - stored\n",
    "    rw = torch.exp(log_rw_corr)\n",
    "    rw_norm = rw/(rw.sum())\n",
    "    \n",
    "    concs = concs.cpu().detach().numpy()\n",
    "    concs_out = ((concs/25) + 1) /2\n",
    "    rw_norm = rw_norm.cpu().detach().numpy()\n",
    "    #plt.hist(concs,bins = 51,range = (0.0,1.0),weights = rw_norm)\n",
    "    return concs_out,rw_norm"
   ]
  },
  {
   "cell_type": "code",
   "execution_count": 25,
   "metadata": {},
   "outputs": [],
   "source": [
    "J = J.cpu()"
   ]
  },
  {
   "cell_type": "code",
   "execution_count": 26,
   "metadata": {},
   "outputs": [],
   "source": [
    "def perfect_probs(chemp):\n",
    "    arr = np.linspace(-25,25,51)\n",
    "    temp = 2.0\n",
    "    num = 0\n",
    "    while num < 2**(Dim*Dim):\n",
    "        if num % 1000000 == 0:\n",
    "            print(num)\n",
    "        b = bin(num)[2:].zfill(Dim*Dim)\n",
    "        b = split(b)\n",
    "        b = np.asarray(b)\n",
    "        lattice = b*2.0 - 1.0\n",
    "        lattice = lattice.reshape((1,-1))\n",
    "        pot = get_potential(lattice)\n",
    "        conc = lattice.sum(axis = 1)\n",
    "        \n",
    "        weight = np.exp(-pot/temp) * np.exp((chemp*conc)/temp)\n",
    "        \n",
    "        arr[int(conc)+25] += weight\n",
    "        \n",
    "        num = num + 1\n",
    "    return arr"
   ]
  },
  {
   "cell_type": "code",
   "execution_count": 36,
   "metadata": {},
   "outputs": [
    {
     "name": "stdout",
     "output_type": "stream",
     "text": [
      "0\n"
     ]
    },
    {
     "ename": "NameError",
     "evalue": "name 'split' is not defined",
     "output_type": "error",
     "traceback": [
      "\u001b[0;31m---------------------------------------------------------------------------\u001b[0m",
      "\u001b[0;31mNameError\u001b[0m                                 Traceback (most recent call last)",
      "\u001b[0;32m<ipython-input-36-bca76a746acc>\u001b[0m in \u001b[0;36m<module>\u001b[0;34m\u001b[0m\n\u001b[0;32m----> 1\u001b[0;31m \u001b[0marr_1\u001b[0m \u001b[0;34m=\u001b[0m\u001b[0mperfect_probs\u001b[0m\u001b[0;34m(\u001b[0m\u001b[0;34m-\u001b[0m\u001b[0;36m0.2\u001b[0m\u001b[0;34m/\u001b[0m\u001b[0;36m2\u001b[0m\u001b[0;34m)\u001b[0m\u001b[0;34m\u001b[0m\u001b[0;34m\u001b[0m\u001b[0m\n\u001b[0m\u001b[1;32m      2\u001b[0m \u001b[0marr_2\u001b[0m \u001b[0;34m=\u001b[0m \u001b[0mperfect_probs\u001b[0m\u001b[0;34m(\u001b[0m\u001b[0mcritical\u001b[0m\u001b[0;34m/\u001b[0m\u001b[0;36m2\u001b[0m\u001b[0;34m)\u001b[0m\u001b[0;34m\u001b[0m\u001b[0;34m\u001b[0m\u001b[0m\n\u001b[1;32m      3\u001b[0m \u001b[0marr_3\u001b[0m \u001b[0;34m=\u001b[0m \u001b[0mperfect_probs\u001b[0m\u001b[0;34m(\u001b[0m\u001b[0;36m0.55\u001b[0m\u001b[0;34m/\u001b[0m\u001b[0;36m2\u001b[0m\u001b[0;34m)\u001b[0m\u001b[0;34m\u001b[0m\u001b[0;34m\u001b[0m\u001b[0m\n",
      "\u001b[0;32m<ipython-input-35-b3efbb06a362>\u001b[0m in \u001b[0;36mperfect_probs\u001b[0;34m(chemp)\u001b[0m\n\u001b[1;32m      7\u001b[0m             \u001b[0mprint\u001b[0m\u001b[0;34m(\u001b[0m\u001b[0mnum\u001b[0m\u001b[0;34m)\u001b[0m\u001b[0;34m\u001b[0m\u001b[0;34m\u001b[0m\u001b[0m\n\u001b[1;32m      8\u001b[0m         \u001b[0mb\u001b[0m \u001b[0;34m=\u001b[0m \u001b[0mbin\u001b[0m\u001b[0;34m(\u001b[0m\u001b[0mnum\u001b[0m\u001b[0;34m)\u001b[0m\u001b[0;34m[\u001b[0m\u001b[0;36m2\u001b[0m\u001b[0;34m:\u001b[0m\u001b[0;34m]\u001b[0m\u001b[0;34m.\u001b[0m\u001b[0mzfill\u001b[0m\u001b[0;34m(\u001b[0m\u001b[0mDim\u001b[0m\u001b[0;34m*\u001b[0m\u001b[0mDim\u001b[0m\u001b[0;34m)\u001b[0m\u001b[0;34m\u001b[0m\u001b[0;34m\u001b[0m\u001b[0m\n\u001b[0;32m----> 9\u001b[0;31m         \u001b[0mb\u001b[0m \u001b[0;34m=\u001b[0m \u001b[0msplit\u001b[0m\u001b[0;34m(\u001b[0m\u001b[0mb\u001b[0m\u001b[0;34m)\u001b[0m\u001b[0;34m\u001b[0m\u001b[0;34m\u001b[0m\u001b[0m\n\u001b[0m\u001b[1;32m     10\u001b[0m         \u001b[0mb\u001b[0m \u001b[0;34m=\u001b[0m \u001b[0mnp\u001b[0m\u001b[0;34m.\u001b[0m\u001b[0masarray\u001b[0m\u001b[0;34m(\u001b[0m\u001b[0mb\u001b[0m\u001b[0;34m)\u001b[0m\u001b[0;34m\u001b[0m\u001b[0;34m\u001b[0m\u001b[0m\n\u001b[1;32m     11\u001b[0m         \u001b[0mlattice\u001b[0m \u001b[0;34m=\u001b[0m \u001b[0mb\u001b[0m\u001b[0;34m*\u001b[0m\u001b[0;36m2.0\u001b[0m \u001b[0;34m-\u001b[0m \u001b[0;36m1.0\u001b[0m\u001b[0;34m\u001b[0m\u001b[0;34m\u001b[0m\u001b[0m\n",
      "\u001b[0;31mNameError\u001b[0m: name 'split' is not defined"
     ]
    }
   ],
   "source": [
    "arr_1 =perfect_probs(-0.2/2)\n",
    "arr_2 = perfect_probs(critical/2)\n",
    "arr_3 = perfect_probs(0.55/2)"
   ]
  },
  {
   "cell_type": "code",
   "execution_count": 37,
   "metadata": {},
   "outputs": [],
   "source": [
    "np.save(\"Legendre_Exact_Probs_-0.1_Final_Submission\",arr_1)\n",
    "np.save(\"Legendre_Exact_Probs_critical_Final_Submission\",arr_2)\n",
    "np.save(\"Legendre_Exact_Probs_0.55_Final_Submission\",arr_3)\n",
    "\n"
   ]
  },
  {
   "cell_type": "code",
   "execution_count": 27,
   "metadata": {},
   "outputs": [],
   "source": [
    "arr_1 = np.load(\"Legendre_Exact_Probs_-0.1_Final_Submission.npy\")\n",
    "arr_2 = np.load(\"Legendre_Exact_Probs_critical_Final_Submission.npy\")\n",
    "arr_3 = np.load(\"Legendre_Exact_Probs_0.55_Final_Submission.npy\")"
   ]
  },
  {
   "cell_type": "code",
   "execution_count": 28,
   "metadata": {},
   "outputs": [],
   "source": [
    "data_ref_1 = arr_1/np.sum(arr_1)\n",
    "data_ref_2 = arr_2/np.sum(arr_2)\n",
    "data_ref_3 = arr_3/np.sum(arr_3)"
   ]
  },
  {
   "cell_type": "code",
   "execution_count": 29,
   "metadata": {},
   "outputs": [],
   "source": [
    "data_ref_1_store = []\n",
    "data_ref_2_store = []\n",
    "data_ref_3_store = []\n",
    "for i in range(data_ref_1.shape[0]):\n",
    "    if i % 2 == 0:\n",
    "        data_ref_1_store.append(data_ref_1[i])\n",
    "        data_ref_2_store.append(data_ref_2[i])\n",
    "        data_ref_3_store.append(data_ref_3[i])\n",
    "        "
   ]
  },
  {
   "cell_type": "code",
   "execution_count": 30,
   "metadata": {},
   "outputs": [
    {
     "data": {
      "text/plain": [
       "[<matplotlib.lines.Line2D at 0x7ff43d15f050>]"
      ]
     },
     "execution_count": 30,
     "metadata": {},
     "output_type": "execute_result"
    },
    {
     "name": "stderr",
     "output_type": "stream",
     "text": [
      "findfont: Font family ['Arial'] not found. Falling back to DejaVu Sans.\n"
     ]
    },
    {
     "data": {
      "image/png": "[encoded data removed]",
      "text/plain": [
       "<Figure size 432x576 with 1 Axes>"
      ]
     },
     "metadata": {
      "needs_background": "light"
     },
     "output_type": "display_data"
    }
   ],
   "source": [
    "plt.plot(np.linspace(0,1,26),data_ref_1_store)\n",
    "plt.plot(np.linspace(0,1,26),data_ref_2_store)\n",
    "plt.plot(np.linspace(0,1,26),data_ref_3_store)"
   ]
  },
  {
   "cell_type": "code",
   "execution_count": 31,
   "metadata": {},
   "outputs": [],
   "source": [
    "J = J.cuda()\n",
    "critical = .351\n",
    "\n",
    "concs_one,rw_one = examine_model_simple(model,-0.2/2)\n",
    "concs_two,rw_two = examine_model_simple(model,critical/2)\n",
    "concs_three,rw_three = examine_model_simple(model,0.55/2)"
   ]
  },
  {
   "cell_type": "code",
   "execution_count": 36,
   "metadata": {},
   "outputs": [
    {
     "data": {
      "image/png": "[encoded data removed]",
      "text/plain": [
       "<Figure size 180x360 with 3 Axes>"
      ]
     },
     "metadata": {
      "needs_background": "light"
     },
     "output_type": "display_data"
    }
   ],
   "source": [
    "fig, axs = plt.subplots(3, sharex=True, sharey=True, gridspec_kw={'hspace': 0.0},figsize = (2.5,5))\n",
    "\n",
    "axs[0].plot(np.linspace(0,1,26),data_ref_1_store,color=newcmp(0.0))\n",
    "axs[0].set_yticks([0,0.1,0.2])\n",
    "axs[0].set_ylim(0.0,0.30)\n",
    "axs[0].tick_params(labelsize=16)\n",
    "axs[1].plot(np.linspace(0,1,26),data_ref_2_store,color=newcmp(0.5))\n",
    "axs[1].set_yticks([0,0.1,0.2])\n",
    "axs[1].set_ylim(0.0,0.30)\n",
    "axs[1].tick_params(labelsize=16)\n",
    "axs[2].plot(np.linspace(0,1,26),data_ref_3_store,color=newcmp(1.0))\n",
    "axs[2].set_yticks([0,0.1,0.2])\n",
    "axs[2].set_ylim(0.0,0.30)\n",
    "axs[2].tick_params(labelsize=16)\n",
    "axs[0].hist(concs_one,bins = 51,range = (0.0,1.0),weights = rw_one,color=newcmp(0.0),alpha=0.7)\n",
    "axs[1].hist(concs_two,bins = 51,range = (0.0,1.0),weights = rw_two,color=newcmp(0.5),alpha=0.7)\n",
    "axs[2].hist(concs_three,bins = 51,range = (0.0,1.0),weights = rw_three,color=newcmp(1.0),alpha=0.7)\n",
    "\n",
    "\n",
    "plt.xlabel('Composition',fontsize=16,fontname = \"Arial\")\n",
    "#plt.xaxis.set_major_formatter(FormatStrFormatter('%.2f'))\n",
    "plt.xticks([0.0,0.5,1.0])\n",
    "#fig.ylabel('Prob.',fontsize=14,**hfont)\n",
    "fig.text(-.2, 0.5, 'Probability', fontsize = 16,fontname = \"Arial\",va='center', rotation='vertical')\n",
    "\n",
    "plt.xlim(0.0,1.0)\n",
    "plt.xticks(fontsize = 16,fontname = \"Arial\") \n",
    "#plt.yticks(fontsize = 14,fontname = \"Arial\") \n",
    "plt.savefig('Legendre_Sampling_Final_Submission.pdf',bbox_inches='tight')"
   ]
  },
  {
   "cell_type": "code",
   "execution_count": null,
   "metadata": {},
   "outputs": [],
   "source": []
  }
 ],
 "metadata": {
  "kernelspec": {
   "display_name": "Python [conda env:james_mlmat] *",
   "language": "python",
   "name": "conda-env-james_mlmat-py"
  },
  "language_info": {
   "codemirror_mode": {
    "name": "ipython",
    "version": 3
   },
   "file_extension": ".py",
   "mimetype": "text/x-python",
   "name": "python",
   "nbconvert_exporter": "python",
   "pygments_lexer": "ipython3",
   "version": "3.7.8"
  }
 },
 "nbformat": 4,
 "nbformat_minor": 2
}
