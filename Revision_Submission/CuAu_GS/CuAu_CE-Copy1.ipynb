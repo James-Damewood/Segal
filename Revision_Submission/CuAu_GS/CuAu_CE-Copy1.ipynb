{
 "cells": [
  {
   "cell_type": "code",
   "execution_count": 1,
   "metadata": {},
   "outputs": [],
   "source": [
    "import json\n",
    "\n",
    "f = open('metal_pbe_d3.json',)\n",
    "   \n",
    "data = json.load(f)"
   ]
  },
  {
   "cell_type": "code",
   "execution_count": 2,
   "metadata": {},
   "outputs": [
    {
     "name": "stdout",
     "output_type": "stream",
     "text": [
      "{'0': '../../Cu_Au_ce_structures/structure_num_69.cif', '1': '../../Cu_Au_ce_structures/structure_num_Au3_Cu_GS_4.cif', '2': '../../Cu_Au_ce_structures/structure_num_Au_GS_4.cif', '3': '../../Cu_Au_ce_structures/structure_num_Au_Cu_GS_4.cif', '4': '../../Cu_Au_ce_structures/structure_num_Cu_GS_4.cif', '5': '../../Cu_Au_ce_structures/structure_num_Cu3_Au_GS_4.cif'}\n",
      "{'0': -16.0042520373, '1': -15.9567457131, '2': -15.4290834074, '3': -16.567138466, '4': -17.3378225128, '5': -16.981820792}\n"
     ]
    }
   ],
   "source": [
    "ids = data['optimized_id']\n",
    "formulas = data['formula']\n",
    "nxyz = data['nxyz']\n",
    "original = data['original']\n",
    "energy = data['energy']\n",
    "\n",
    "print(original)\n",
    "print(energy)"
   ]
  },
  {
   "cell_type": "code",
   "execution_count": 3,
   "metadata": {},
   "outputs": [],
   "source": [
    "ids_lst = ids.keys()"
   ]
  },
  {
   "cell_type": "code",
   "execution_count": 4,
   "metadata": {},
   "outputs": [],
   "source": [
    "concs = []\n",
    "energies = []\n",
    "sizes = []\n",
    "names = []\n",
    "nxyz_l = []\n",
    "\n",
    "for idx in ids_lst:\n",
    "    \n",
    "    curr_latt = nxyz[idx]\n",
    "    au_conc = 0\n",
    "    for i in range(len(curr_latt)):\n",
    "        if curr_latt[i][0] == 79:\n",
    "            au_conc+=1\n",
    "    \n",
    "    concs.append(float(au_conc)/len(curr_latt))\n",
    "    \n",
    "    sizes.append(len(curr_latt))\n",
    "    \n",
    "    energies.append(energy[idx]/len(curr_latt))\n",
    "    \n",
    "    names.append(original[idx])\n",
    "    \n",
    "    nxyz_l.append(curr_latt)"
   ]
  },
  {
   "cell_type": "code",
   "execution_count": 5,
   "metadata": {},
   "outputs": [],
   "source": [
    "au_energy = None\n",
    "cu_energy = None\n",
    "for i in range(len(concs)):\n",
    "    if concs[i]==1.0:\n",
    "        au_energy = energies[i]\n",
    "    if concs[i]==0.0:\n",
    "        cu_energy = energies[i]"
   ]
  },
  {
   "cell_type": "code",
   "execution_count": 6,
   "metadata": {},
   "outputs": [],
   "source": [
    "form_energies = []\n",
    "for i in range(len(energies)):\n",
    "    f_energy = energies[i] - (1-concs[i])*cu_energy - (concs[i])*au_energy\n",
    "    form_energies.append(f_energy)"
   ]
  },
  {
   "cell_type": "code",
   "execution_count": 7,
   "metadata": {},
   "outputs": [
    {
     "data": {
      "text/plain": [
       "<matplotlib.collections.PathCollection at 0x7f8b3a838cd0>"
      ]
     },
     "execution_count": 7,
     "metadata": {},
     "output_type": "execute_result"
    },
    {
     "data": {
      "image/png": "[encoded data removed]",
      "text/plain": [
       "<Figure size 432x288 with 1 Axes>"
      ]
     },
     "metadata": {
      "needs_background": "light"
     },
     "output_type": "display_data"
    }
   ],
   "source": [
    "import matplotlib.pyplot as plt\n",
    "plt.scatter(concs,form_energies)"
   ]
  },
  {
   "cell_type": "code",
   "execution_count": 8,
   "metadata": {},
   "outputs": [
    {
     "name": "stdout",
     "output_type": "stream",
     "text": [
      "[0.75, 0.75, 1.0, 0.5, 0.0, 0.25]\n",
      "[-4.001063009325, -3.989186428275, -3.85727085185, -4.1417846165, -4.3344556282, -4.245455198]\n"
     ]
    }
   ],
   "source": [
    "print(concs)\n",
    "print(energies)"
   ]
  },
  {
   "cell_type": "code",
   "execution_count": 9,
   "metadata": {},
   "outputs": [],
   "source": [
    "from ase import Atoms\n",
    "from ase.calculators.emt import EMT\n",
    "from ase.db import connect\n",
    "import clease\n",
    "\n",
    "from clease.tools import update_db\n",
    "from clease import Concentration\n",
    "from clease import CEBulk\n",
    "from clease import Evaluate\n",
    "from clease import NewStructures\n",
    "from clease.calculator import Clease\n",
    "from clease.calculator import attach_calculator\n",
    "from ase.eos import EquationOfState\n",
    "import sys\n",
    "from ase.constraints import ExpCellFilter\n",
    "from ase.optimize import BFGS\n",
    "\n",
    "import pickle \n",
    "from ase.io.trajectory import TrajectoryWriter\n",
    "from ase.io import read\n",
    "from ase.io import iread"
   ]
  },
  {
   "cell_type": "code",
   "execution_count": 10,
   "metadata": {},
   "outputs": [],
   "source": [
    "data_dict = {\n",
    "    98864349: '00',\n",
    "    105293713: '01',\n",
    "    105320663 : '02',\n",
    "    108601703 : '03',\n",
    "    99046316: '04',\n",
    "    110606251 : '05',\n",
    "    99161827 : '06',\n",
    "    110964065 : '07',\n",
    "    105407871 : '08',\n",
    "    99046390 : '09',\n",
    "    108930040 : '10',\n",
    "    98949494 : '11',\n",
    "    99595542 : '12',\n",
    "    105482576 : '13',\n",
    "    110667022 : '14',\n",
    "    99330498 : '15',\n",
    "    99473709 : '16',\n",
    "    99329521 : '17',\n",
    "    98984969 : '18',\n",
    "    109929126 : '19',\n",
    "    108808332: '20',\n",
    "    108601491: '21',\n",
    "    99161952 : '22',\n",
    "    109476654 : '23',\n",
    "    99046384 : '24',\n",
    "    99329786 : '25',\n",
    "    99329474 : '26',\n",
    "    105348874 : '27',\n",
    "    99161696 : '28',\n",
    "    108892439 : '29',\n",
    "    110667147 : '30',\n",
    "    110812143 : '31',\n",
    "    105480880 : '32',\n",
    "    99329724 : '33',\n",
    "    110863183 : '34',\n",
    "    108492017 : '35',\n",
    "    105307263 : '36',\n",
    "    99329562: '37',\n",
    "    105314401: '38',\n",
    "    110606250 : '39',\n",
    "    108321355 : '40',\n",
    "    108491940: '41',\n",
    "    99329951: '42',\n",
    "    99329700: '43',\n",
    "    110729666: '44',\n",
    "    99162016: '45',\n",
    "    99329699 : '46',\n",
    "    99329672: '47',\n",
    "    99543151 : '48',\n",
    "    99161461 : '49',\n",
    "    99415514 : '50',\n",
    "    99330334 : '51',\n",
    "    105499686: '52',\n",
    "    100024906: '53',\n",
    "    99673164 : '54',\n",
    "    112061501 : '55',\n",
    "    99473796 : '56',\n",
    "    99753656 : '57',\n",
    "    105510331 : '58',\n",
    "    99330077 : '59',\n",
    "    99885754 : '60',\n",
    "    99473750 : '61',\n",
    "    105314402: '62',\n",
    "    105435216: '63',\n",
    "    99672949 : '64',\n",
    "    99595401 : '65',\n",
    "    99415433 : '66',\n",
    "    105480881  : '67', \n",
    "}"
   ]
  },
  {
   "cell_type": "code",
   "execution_count": 11,
   "metadata": {},
   "outputs": [],
   "source": [
    "with open('james_AuCu.pkl', 'rb') as f:\n",
    "    data = pickle.load(f)\n",
    "    \n",
    "data_sorted = sorted(data, key=lambda k: data_dict[k['geom_id']])"
   ]
  },
  {
   "cell_type": "code",
   "execution_count": 12,
   "metadata": {},
   "outputs": [],
   "source": [
    "stored_energies = []\n",
    "stored_conc = []\n",
    "size = []\n",
    "i = 0\n",
    "for i in range(68):\n",
    "\n",
    "    atoms_init = 'Cu_Au_ce_structures/structure_num_'\n",
    "    if i <10:\n",
    "        atoms_init = atoms_init + '0'\n",
    "    atoms_init = atoms_init + str(i)\n",
    "    atoms_init = atoms_init + '.cif'\n",
    "    \n",
    "    atoms = read(atoms_init)\n",
    "    #print(atoms)\n",
    "    atoms_temp = atoms.copy()\n",
    "    curr = data_sorted[i]\n",
    "    curr_energy = data_sorted[i]['energy']*27.2\n",
    "    curr_nxyz = data_sorted[i]['nxyz']\n",
    "    #print(curr_energy)\n",
    "    \n",
    "    for j in range(len(curr_nxyz[0])):\n",
    "        atoms_temp.numbers[j] = curr_nxyz[0][j][0]\n",
    "        atoms_temp.positions[j] = curr_nxyz[0][j][1:]\n",
    "        \n",
    "    stored_energies.append(curr_energy/len(atoms_temp.numbers))\n",
    "    count = 0\n",
    "    for j in range(len(atoms_temp.numbers)):\n",
    "        if (atoms_temp.numbers[j] == 79):\n",
    "            count = count + 1\n",
    "    \n",
    "    stored_conc.append(count/len(atoms_temp.numbers))\n",
    "    size.append(len(atoms_temp.numbers))\n",
    "    atoms_dft = 'Metals_Group_Traj_Files/structure_num_'\n",
    "    if i <10:\n",
    "        atoms_dft = atoms_dft + '0'\n",
    "    atoms_dft = atoms_dft + str(i)\n",
    "    atoms_dft = atoms_dft + '.traj'\n",
    "    \n",
    "    temp_writer = TrajectoryWriter(atoms_dft,mode = 'w')\n",
    "    temp_writer.write(atoms_temp,energy = curr_energy)\n",
    "    \n",
    "    i = i + 1"
   ]
  },
  {
   "cell_type": "code",
   "execution_count": 13,
   "metadata": {},
   "outputs": [
    {
     "name": "stdout",
     "output_type": "stream",
     "text": [
      "[1.0, 0.0, 0.9444444444444444, 0.125, 0.4166666666666667, 0.25, 0.625, 0.75, 0.75, 0.16666666666666666, 0.3125, 0.25, 0.4375, 0.75, 0.75, 0.5, 0.25, 0.3125, 0.25, 0.5625, 0.625, 0.125, 0.3333333333333333, 0.5, 0.16666666666666666, 0.8125, 0.5833333333333334, 0.6666666666666666, 0.375, 0.125, 0.75, 0.8, 0.7777777777777778, 0.375, 0.5625, 0.3333333333333333, 0.75, 0.4666666666666667, 0.8333333333333334, 0.6666666666666666, 0.5, 0.25, 0.6666666666666666, 0.5, 0.75, 0.3333333333333333, 0.3888888888888889, 0.5833333333333334, 0.5555555555555556, 0.5, 0.4444444444444444, 0.5, 0.34375, 0.53125, 0.140625, 0.921875, 0.125, 0.09375, 0.859375, 0.1875, 0.625, 0.6875, 0.75, 0.890625, 0.4375, 0.046875, 0.109375, 0.953125]\n",
      "68\n"
     ]
    }
   ],
   "source": [
    "print(stored_conc)\n",
    "print(len(stored_conc))"
   ]
  },
  {
   "cell_type": "code",
   "execution_count": 14,
   "metadata": {},
   "outputs": [],
   "source": [
    "form_energies = []\n",
    "\n",
    "for i in range(len(stored_energies)):\n",
    "    ind = len(stored_energies)-1-i\n",
    "    form_energies.append(0)\n",
    "\n",
    "for i in range(len(stored_energies)):\n",
    "    ind = len(stored_energies)-1-i\n",
    "    form_energies[ind] = stored_energies[ind] - stored_conc[ind]*stored_energies[0]-(1-stored_conc[ind])*stored_energies[1]"
   ]
  },
  {
   "cell_type": "code",
   "execution_count": 15,
   "metadata": {},
   "outputs": [
    {
     "name": "stdout",
     "output_type": "stream",
     "text": [
      "0.0\n",
      "0.0\n",
      "-0.12105973917558516\n",
      "0.1237962425966117\n",
      "-0.2302460757375826\n",
      "-0.022057605491990984\n",
      "0.7422435992623662\n",
      "-0.057302575555162605\n",
      "0.09921460216054179\n",
      "-0.07126957346451768\n",
      "0.3267715471282173\n",
      "-0.12826223637127754\n",
      "-0.1695396663689337\n",
      "-0.009254172555692719\n",
      "-0.031180468065794997\n",
      "0.03220350192056998\n",
      "0.0043165288995759\n",
      "0.24486640490495404\n",
      "0.10557862567181786\n",
      "0.26799408454213136\n",
      "0.03807219047431332\n",
      "0.1917636746391267\n",
      "0.15185718272642124\n",
      "0.5873728542009786\n",
      "0.13220148584872948\n",
      "0.04316924483827478\n",
      "-0.25647616048511157\n",
      "-0.096698039085791\n",
      "0.012573459293911071\n",
      "0.6960092112012148\n",
      "-0.02026580374646514\n",
      "-0.035573349973903046\n",
      "-0.07265328869591592\n",
      "0.0293712186307431\n",
      "0.3165390444871221\n",
      "0.20915144676405317\n",
      "0.09267633665564112\n",
      "-0.12436061862634018\n",
      "-0.041802939812122464\n",
      "0.031275778131433674\n",
      "0.28028644411518044\n",
      "0.03771506010985348\n",
      "0.20402138123156677\n",
      "0.32092863777315017\n",
      "-0.11204106044935003\n",
      "0.007045607931386755\n",
      "0.26594772195612215\n",
      "0.1489973284886501\n",
      "0.42184695858552956\n",
      "-0.17287816005955392\n",
      "0.21503100826210364\n",
      "0.06144165380551847\n",
      "0.30405213892768757\n",
      "-0.5162347156659735\n",
      "1.7245036155463254\n",
      "2.0774456099097875\n",
      "1.764280686685538\n",
      "2.076163464621203\n",
      "1.9109490809840537\n",
      "1.4330009309704224\n",
      "0.7602577964188697\n",
      "1.744625731996905\n",
      "1.8126631347221007\n",
      "1.990090056377099\n",
      "-0.3427254100527648\n",
      "2.3670802846709194\n",
      "1.952990026073337\n",
      "2.2449579882005963\n"
     ]
    }
   ],
   "source": [
    "\n",
    "i = 0\n",
    "for i in range(68):\n",
    "\n",
    "    atoms_init = 'Cu_Au_ce_structures/structure_num_'\n",
    "    if i <10:\n",
    "        atoms_init = atoms_init + '0'\n",
    "    atoms_init = atoms_init + str(i)\n",
    "    atoms_init = atoms_init + '.cif'\n",
    "    \n",
    "    atoms = read(atoms_init)\n",
    "    #print(atoms)\n",
    "    atoms_temp = atoms.copy()\n",
    "    curr = data_sorted[i]\n",
    "    curr_energy = data_sorted[i]['energy']*27.2\n",
    "    curr_nxyz = data_sorted[i]['nxyz']\n",
    "    \n",
    "    atoms_dft = 'Metals_Group_Traj_Files_Form/structure_num_'\n",
    "    if i <10:\n",
    "        atoms_dft = atoms_dft + '0'\n",
    "    atoms_dft = atoms_dft + str(i)\n",
    "    atoms_dft = atoms_dft + '.traj'\n",
    "    \n",
    "    temp_writer = TrajectoryWriter(atoms_dft,mode = 'w')\n",
    "    temp_writer.write(atoms_temp,energy = form_energies[i]*len(atoms_temp.numbers))\n",
    "    print(form_energies[i]*len(atoms_temp.numbers))\n",
    "    i = i + 1"
   ]
  },
  {
   "cell_type": "code",
   "execution_count": 16,
   "metadata": {},
   "outputs": [
    {
     "name": "stdout",
     "output_type": "stream",
     "text": [
      "Atoms(symbols='Cu4', pbc=True, cell=[[1.9, 3.8, 5.699999999999999], [3.8, 0.0, 3.8], [1.9, 1.9, 0.0]], tags=...)\n",
      "-4.343651227977503\n"
     ]
    }
   ],
   "source": [
    "db_name = \"aucu_temp.db\"\n",
    "db = connect(db_name)\n",
    "\n",
    "i = 0\n",
    "for row in db.select(converged=True):\n",
    "    atoms_init = row.toatoms()\n",
    "    if stored_conc[i]==0.0:\n",
    "        print(atoms_init)\n",
    "        print(stored_energies[i])\n",
    "    i+=1"
   ]
  },
  {
   "cell_type": "code",
   "execution_count": 17,
   "metadata": {},
   "outputs": [
    {
     "name": "stdout",
     "output_type": "stream",
     "text": [
      "Atoms(symbols='Au4', pbc=True, cell=[[1.9, 3.8, 5.699999999999999], [3.8, 0.0, 3.8], [1.9, 1.9, 0.0]], tags=...)\n",
      "-3.866187894828443\n"
     ]
    }
   ],
   "source": [
    "db_name = \"aucu_temp.db\"\n",
    "db = connect(db_name)\n",
    "\n",
    "i = 0\n",
    "for row in db.select(converged=True):\n",
    "    atoms_init = row.toatoms()\n",
    "    if stored_conc[i]==1.0:\n",
    "        print(atoms_init)\n",
    "        print(stored_energies[i])\n",
    "    i+=1"
   ]
  },
  {
   "cell_type": "code",
   "execution_count": 18,
   "metadata": {},
   "outputs": [
    {
     "name": "stdout",
     "output_type": "stream",
     "text": [
      "-4.102235936242925\n",
      "-4.068208758015412\n",
      "-4.058205154050443\n",
      "-4.07817550825521\n",
      "-4.148139101417861\n",
      "-4.098775396022421\n"
     ]
    }
   ],
   "source": [
    "db_name = \"aucu_temp.db\"\n",
    "db = connect(db_name)\n",
    "atoms_50 =[]\n",
    "i = 0\n",
    "for row in db.select(converged=True):\n",
    "    atoms_init = row.toatoms()\n",
    "    if stored_conc[i]==0.5:\n",
    "        atoms_50.append(atoms_init)\n",
    "        print(stored_energies[i])\n",
    "    i+=1"
   ]
  },
  {
   "cell_type": "code",
   "execution_count": 19,
   "metadata": {},
   "outputs": [
    {
     "name": "stdout",
     "output_type": "stream",
     "text": [
      "Atoms(symbols='Cu2Au2', pbc=True, cell=[[0.0, 3.8, 3.8], [3.8, 1.9, 1.9], [3.8, 3.8, 0.0]], tags=...)\n",
      "[29 29 79 79]\n",
      "[[ 0.0000000e+00  0.0000000e+00  0.0000000e+00]\n",
      " [-1.3337977e-31  1.9000000e+00  1.9000000e+00]\n",
      " [ 1.9000000e+00  1.9000000e+00 -1.1102213e-17]\n",
      " [ 1.9000000e+00  3.8000000e+00  1.9000000e+00]]\n"
     ]
    }
   ],
   "source": [
    "print(atoms_50[4])\n",
    "print(atoms_50[4].numbers)\n",
    "print(atoms_50[4].positions)"
   ]
  },
  {
   "cell_type": "code",
   "execution_count": 20,
   "metadata": {
    "scrolled": true
   },
   "outputs": [],
   "source": [
    "from ase.visualize import view\n",
    "#view(atoms_50[4], viewer='x3d')"
   ]
  },
  {
   "cell_type": "code",
   "execution_count": 21,
   "metadata": {},
   "outputs": [
    {
     "name": "stdout",
     "output_type": "stream",
     "text": [
      "-4.229799796063236\n",
      "-4.256350953783057\n",
      "-4.223925683948607\n",
      "-4.197890738272283\n",
      "-4.2148566296627745\n"
     ]
    }
   ],
   "source": [
    "db_name = \"aucu_temp.db\"\n",
    "db = connect(db_name)\n",
    "\n",
    "i = 0\n",
    "atoms_25 = []\n",
    "for row in db.select(converged=True):\n",
    "    atoms_init = row.toatoms()\n",
    "    if stored_conc[i]==0.25:\n",
    "        atoms_25.append(atoms_init)\n",
    "        print(stored_energies[i])\n",
    "    i+=1"
   ]
  },
  {
   "cell_type": "code",
   "execution_count": 22,
   "metadata": {},
   "outputs": [
    {
     "name": "stdout",
     "output_type": "stream",
     "text": [
      "Atoms(symbols='Cu3Au', pbc=True, cell=[[5.699999999999999, 5.699999999999999, 7.6], [1.9, 0.0, 1.9], [3.8, 3.8, 0.0]], tags=...)\n",
      "[29 29 29 79]\n",
      "[[0.00000000e+00 0.00000000e+00 0.00000000e+00]\n",
      " [1.90000000e+00 1.90000000e+00 5.02925812e-23]\n",
      " [3.80000000e+00 3.80000000e+00 3.80000000e+00]\n",
      " [5.70000000e+00 5.70000000e+00 3.80000000e+00]]\n"
     ]
    }
   ],
   "source": [
    "print(atoms_25[4])\n",
    "print(atoms_25[4].numbers)\n",
    "print(atoms_25[4].positions)"
   ]
  },
  {
   "cell_type": "code",
   "execution_count": 72,
   "metadata": {},
   "outputs": [],
   "source": [
    "#view(atoms_25[4], viewer='x3d')"
   ]
  },
  {
   "cell_type": "code",
   "execution_count": 23,
   "metadata": {},
   "outputs": [
    {
     "name": "stdout",
     "output_type": "stream",
     "text": [
      "-3.9927165500601034\n",
      "8\n",
      "-3.9772858446023296\n",
      "12\n",
      "-3.986132113900439\n",
      "16\n",
      "-3.993348845132157\n",
      "4\n",
      "-3.988086953584016\n",
      "8\n",
      "-3.962384643951798\n",
      "4\n",
      "-3.999558860671877\n",
      "8\n",
      "-3.9572308666356752\n",
      "64\n"
     ]
    }
   ],
   "source": [
    "db_name = \"aucu_temp.db\"\n",
    "db = connect(db_name)\n",
    "\n",
    "i = 0\n",
    "atoms_75 = []\n",
    "for row in db.select(converged=True):\n",
    "    atoms_init = row.toatoms()\n",
    "    if stored_conc[i]==0.75:\n",
    "        atoms_75.append(atoms_init)\n",
    "        print(stored_energies[i])\n",
    "        print(len(atoms_init.numbers))\n",
    "    i+=1"
   ]
  },
  {
   "cell_type": "code",
   "execution_count": 24,
   "metadata": {},
   "outputs": [
    {
     "name": "stdout",
     "output_type": "stream",
     "text": [
      "Atoms(symbols='Au2Cu2Au4', pbc=True, cell=[[3.8, 5.699999999999999, 5.699999999999999], [3.8, 1.9, 1.9], [7.6, 7.6, 0.0]], tags=...)\n",
      "[79 79 29 29 79 79 79 79]\n",
      "[[ 0.00000000e+00  0.00000000e+00  0.00000000e+00]\n",
      " [ 1.90000000e+00  1.90000000e+00  0.00000000e+00]\n",
      " [ 3.80000000e+00  3.80000000e+00 -2.22044512e-17]\n",
      " [ 3.80000000e+00  3.80000000e+00  3.80000000e+00]\n",
      " [ 5.70000000e+00  5.70000000e+00  3.99680273e-16]\n",
      " [ 5.70000000e+00  5.70000000e+00  3.80000000e+00]\n",
      " [ 7.60000000e+00  7.60000000e+00  3.80000000e+00]\n",
      " [ 9.50000000e+00  9.50000000e+00  3.80000000e+00]]\n"
     ]
    }
   ],
   "source": [
    "print(atoms_75[6])\n",
    "print(atoms_75[6].numbers)\n",
    "print(atoms_75[6].positions)"
   ]
  },
  {
   "cell_type": "code",
   "execution_count": 90,
   "metadata": {},
   "outputs": [],
   "source": [
    "#view(atoms_75[6]*(2,2,2), viewer='x3d')"
   ]
  },
  {
   "cell_type": "code",
   "execution_count": 25,
   "metadata": {},
   "outputs": [
    {
     "name": "stderr",
     "output_type": "stream",
     "text": [
      "/home/james/miniconda3/envs/james_mlmat/lib/python3.7/site-packages/ase/io/jsonio.py:122: VisibleDeprecationWarning: Creating an ndarray from ragged nested sequences (which is a list-or-tuple of lists-or-tuples-or ndarrays with different lengths or shapes) is deprecated. If you meant to do this, you must specify 'dtype=object' when creating the ndarray\n",
      "  a = np.array(obj)\n"
     ]
    },
    {
     "name": "stdout",
     "output_type": "stream",
     "text": [
      "4\n",
      "4\n",
      "18\n",
      "8\n",
      "12\n",
      "4\n",
      "8\n",
      "12\n",
      "12\n",
      "4\n",
      "16\n",
      "16\n",
      "4\n",
      "12\n",
      "12\n",
      "16\n",
      "16\n",
      "8\n",
      "18\n",
      "16\n",
      "12\n",
      "6\n",
      "8\n",
      "8\n",
      "10\n",
      "18\n",
      "16\n",
      "16\n",
      "15\n",
      "12\n",
      "3\n",
      "4\n",
      "18\n",
      "8\n",
      "12\n",
      "18\n",
      "12\n",
      "4\n",
      "18\n",
      "10\n"
     ]
    }
   ],
   "source": [
    "db_name = \"aucu_temp.db\"\n",
    "db = connect(db_name)\n",
    "import copy\n",
    "conc = Concentration(basis_elements=[['Au', 'Cu']])\n",
    "settings = CEBulk(crystalstructure='fcc',\n",
    "                   a=3.8,\n",
    "                   supercell_factor=64,\n",
    "                   concentration=conc,\n",
    "                   db_name=\"aucu_metals_Final_Submission.db\",\n",
    "                   max_cluster_size=4,\n",
    "                   max_cluster_dia=[6.0, 4.5,4.5])\n",
    "\n",
    "i=0\n",
    "count = 0\n",
    "for row in db.select(converged=True):\n",
    "    ns = NewStructures(settings, generation_number=i, struct_per_gen=1)\n",
    "    \n",
    "    ##### get relevant cif file\n",
    "    atoms_init = row.toatoms()\n",
    "    \n",
    "    #### get relevant traj file\n",
    "    atoms_dft = 'Metals_Group_Traj_Files_Form/structure_num_'\n",
    "    if i <10:\n",
    "        atoms_dft = atoms_dft + '0'\n",
    "    atoms_dft = atoms_dft + str(i)\n",
    "    atoms_dft = atoms_dft + '.traj'\n",
    "    atoms_dft = read(atoms_dft)\n",
    "    \n",
    "    \n",
    "    if form_energies[i] < 0.02 and len(atoms_init.numbers) < 64:\n",
    "        count += 1\n",
    "        print(len(atoms_init.numbers))\n",
    "        ns.insert_structure(init_struct = atoms_init, final_struct = atoms_dft)\n",
    "    \n",
    "    i+=1"
   ]
  },
  {
   "cell_type": "code",
   "execution_count": 26,
   "metadata": {},
   "outputs": [],
   "source": [
    "import copy\n",
    "new_atoms = copy.deepcopy(atoms_25[1])"
   ]
  },
  {
   "cell_type": "code",
   "execution_count": 27,
   "metadata": {},
   "outputs": [],
   "source": [
    "new_atoms.numbers = [79,29,79,79]"
   ]
  },
  {
   "cell_type": "code",
   "execution_count": 28,
   "metadata": {},
   "outputs": [
    {
     "name": "stdout",
     "output_type": "stream",
     "text": [
      "-0.015506271903699798\n"
     ]
    }
   ],
   "source": [
    "new_energy = -4.00106 - (-4.3436512279*0.25 + -3.8661878948284*0.75)\n",
    "print(new_energy)"
   ]
  },
  {
   "cell_type": "code",
   "execution_count": 29,
   "metadata": {},
   "outputs": [],
   "source": [
    "atoms_dft = 'Metals_Group_Traj_Files_Form/structure_num_Au3_Cu'\n",
    "\n",
    "atoms_dft = atoms_dft + '.traj'\n",
    "    \n",
    "temp_writer = TrajectoryWriter(atoms_dft,mode = 'w')\n",
    "temp_writer.write(new_atoms,energy = new_energy*4.0)"
   ]
  },
  {
   "cell_type": "code",
   "execution_count": 30,
   "metadata": {},
   "outputs": [],
   "source": [
    "atoms_dft = read(atoms_dft)"
   ]
  },
  {
   "cell_type": "code",
   "execution_count": 31,
   "metadata": {},
   "outputs": [],
   "source": [
    "ns = NewStructures(settings, generation_number=70, struct_per_gen=1)\n",
    "ns.insert_structure(init_struct = new_atoms, final_struct = atoms_dft)"
   ]
  },
  {
   "cell_type": "code",
   "execution_count": 44,
   "metadata": {},
   "outputs": [
    {
     "data": {
      "image/png": "[encoded data removed]",
      "text/plain": [
       "<Figure size 432x288 with 1 Axes>"
      ]
     },
     "metadata": {
      "needs_background": "light"
     },
     "output_type": "display_data"
    },
    {
     "data": {
      "image/png": "[encoded data removed]",
      "text/plain": [
       "<Figure size 432x288 with 1 Axes>"
      ]
     },
     "metadata": {
      "needs_background": "light"
     },
     "output_type": "display_data"
    },
    {
     "data": {
      "image/png": "[encoded data removed]",
      "text/plain": [
       "<Figure size 432x288 with 2 Axes>"
      ]
     },
     "metadata": {
      "needs_background": "light"
     },
     "output_type": "display_data"
    },
    {
     "data": {
      "image/png": "[encoded data removed]",
      "text/plain": [
       "<Figure size 432x288 with 1 Axes>"
      ]
     },
     "metadata": {
      "needs_background": "light"
     },
     "output_type": "display_data"
    },
    {
     "data": {
      "image/png": "[encoded data removed]",
      "text/plain": [
       "<Figure size 432x288 with 1 Axes>"
      ]
     },
     "metadata": {
      "needs_background": "light"
     },
     "output_type": "display_data"
    }
   ],
   "source": [
    "eva = Evaluate(settings, scoring_scheme='loocv', nsplits=10)\n",
    "eva.set_fitting_scheme(fitting_scheme='l2')\n",
    "alpha = eva.plot_CV(alpha_min=1E-7, alpha_max=1.0, num_alpha=50)\n",
    "eva.set_fitting_scheme(fitting_scheme='l2', alpha=alpha)\n",
    "eva.plot_fit(interactive=False)\n",
    "eva.plot_ECI()"
   ]
  },
  {
   "cell_type": "code",
   "execution_count": 45,
   "metadata": {},
   "outputs": [],
   "source": [
    "eva.save_eci(fname='ECI_CuAu_Final_Submission')"
   ]
  },
  {
   "cell_type": "code",
   "execution_count": 46,
   "metadata": {},
   "outputs": [],
   "source": [
    "import json\n",
    "with open('ECI_CuAu_Final_Submission.json') as json_file: \n",
    "    eci = json.load(json_file)"
   ]
  },
  {
   "cell_type": "code",
   "execution_count": 47,
   "metadata": {},
   "outputs": [],
   "source": [
    "conc = Concentration(basis_elements=[['Au', 'Cu']])\n",
    "settings = CEBulk(crystalstructure='fcc',\n",
    "                   a=3.8,\n",
    "                   size=[2,2,4],\n",
    "                   concentration=conc,\n",
    "                   db_name=\"aucu_metals_Final_Submission.db\",\n",
    "                   max_cluster_size=4,\n",
    "                   max_cluster_dia=[6.0, 4.5,4.5])\n",
    "\n",
    "atoms = settings.atoms.copy()\n",
    "atoms = attach_calculator(settings, atoms=atoms, eci=eci)"
   ]
  },
  {
   "cell_type": "code",
   "execution_count": 48,
   "metadata": {},
   "outputs": [],
   "source": [
    "def bin_array(num, m):\n",
    "    \"\"\"Convert a positive integer num into an m-bit bit vector\"\"\"\n",
    "    return np.array(list(np.binary_repr(num).zfill(m))).astype(np.int8)"
   ]
  },
  {
   "cell_type": "code",
   "execution_count": 49,
   "metadata": {},
   "outputs": [
    {
     "name": "stdout",
     "output_type": "stream",
     "text": [
      "iter\n",
      "iter\n",
      "iter\n",
      "iter\n",
      "iter\n",
      "iter\n",
      "iter\n"
     ]
    }
   ],
   "source": [
    "concs = []\n",
    "energies = []\n",
    "import numpy as np\n",
    "# atoms.numbers = ((new_lattice*25)+54).int().cpu().detach().numpy()\n",
    "structure = np.zeros((16))\n",
    "min_75 = 99999999\n",
    "atoms_75 = atoms\n",
    "import copy\n",
    "\n",
    "for i in range(16):\n",
    "    structure[i] = 1\n",
    "atoms.numbers = ((structure*25)+54)\n",
    "gold_energy = atoms.get_potential_energy()\n",
    "for i in range(16):\n",
    "    structure[i] = -1\n",
    "atoms.numbers = ((structure*25)+54)\n",
    "copper_energy = atoms.get_potential_energy()\n",
    "degen = np.zeros((5))\n",
    "other_energies = {}\n",
    "energies_25 = []\n",
    "energies_50 = []\n",
    "energies_75 = []\n",
    "\n",
    "for i in range(2**16):\n",
    "    ### get bit +1/-1\n",
    "    structure = bin_array(i,16)\n",
    "    structure = (structure *2) - 1\n",
    "    if i % 10000 == 0:\n",
    "        print('iter')\n",
    "    atoms.numbers = ((structure*25)+54)\n",
    "    energy_t = atoms.get_potential_energy()\n",
    "    conc = np.sum((structure + 1)/2)/16\n",
    "    energy_hull = energy_t - (conc*gold_energy + (1-conc)*copper_energy)\n",
    "    \n",
    "    energy_hull = energy_hull/16\n",
    "    if conc == 0.0:\n",
    "        if conc in other_energies:\n",
    "            \n",
    "            if abs(energy_hull - other_energies[conc]) < 0.001:\n",
    "                degen[0]+=1\n",
    "            elif energy_hull < other_energies[conc]:\n",
    "                other_energies[conc] = energy_hull\n",
    "                degen[0] = 1\n",
    "            \n",
    "        else:\n",
    "            other_energies[conc] = energy_hull\n",
    "            degen[0] = 1\n",
    "    elif conc == 0.25:\n",
    "        energies_25.append(energy_hull)\n",
    "        if conc in other_energies:\n",
    "            if abs(energy_hull - other_energies[conc]) < 0.001:\n",
    "                degen[1]+=1\n",
    "            elif energy_hull < other_energies[conc]:\n",
    "                other_energies[conc] = energy_hull\n",
    "                degen[1] = 1\n",
    "        else:\n",
    "            other_energies[conc] = energy_hull\n",
    "            degen[1] = 1\n",
    "    elif conc == 0.50:\n",
    "        energies_50.append(energy_hull)\n",
    "        if conc in other_energies:\n",
    "            if abs(energy_hull - other_energies[conc]) < 0.001:\n",
    "                degen[2]+=1\n",
    "            elif energy_hull < other_energies[conc]:\n",
    "                other_energies[conc] = energy_hull\n",
    "                degen[2] = 1\n",
    "        else:\n",
    "            other_energies[conc] = energy_hull\n",
    "            degen[2] = 1\n",
    "    elif conc == 0.75:\n",
    "        energies_75.append(energy_hull)\n",
    "        if conc in other_energies:\n",
    "            if abs(energy_hull - other_energies[conc]) < 0.001:\n",
    "                degen[3]+=1\n",
    "            elif energy_hull < other_energies[conc]:\n",
    "                other_energies[conc] = energy_hull\n",
    "                degen[3] = 1\n",
    "        else:\n",
    "            other_energies[conc] = energy_hull\n",
    "            degen[3] = 1\n",
    "            \n",
    "        if energy_hull < min_75:\n",
    "            min_75 = energy_hull\n",
    "            atoms_75 = copy.deepcopy(atoms.numbers)\n",
    "            \n",
    "    elif conc == 1.0:\n",
    "        if conc in other_energies:\n",
    "            if abs(energy_hull - other_energies[conc]) < 0.001:\n",
    "                degen[4]+=1\n",
    "            elif energy_hull < other_energies[conc]:\n",
    "                other_energies[conc] = energy_hull\n",
    "                degen[4] = 1\n",
    "        else:\n",
    "            other_energies[conc] = energy_hull\n",
    "            degen[4] = 1\n",
    "    \n",
    "    concs.append(conc)\n",
    "    energies.append(energy_hull)"
   ]
  },
  {
   "cell_type": "code",
   "execution_count": 50,
   "metadata": {},
   "outputs": [
    {
     "name": "stdout",
     "output_type": "stream",
     "text": [
      "[-0.01875435103966107, -0.01875435103966107, -0.018754351039661065, -0.018754351039661065, -0.005196603508666726, -0.005196603508666723, -0.005196603508666721, -0.005196603508666721, -0.005196603508666721, -0.005196603508666721, -0.005196603508666721, -0.005196603508666721, -0.005196603508666719, -0.005196603508666719, -0.005196603508666719, -0.005196603508666719, -0.005196603508666719, -0.005196603508666719, -0.005196603508666717, -0.005196603508666717, -0.005196603508666717, -0.005196603508666716, -0.005196603508666716, -0.005196603508666716, -0.005196603508666716, -0.005196603508666709, -0.005196603508666709, -0.005196603508666707, -0.005085854256845476, -0.005085854256845476, -0.005085854256845471, -0.005085854256845471, -0.005085854256845471, -0.005085854256845471, -0.005085854256845469, -0.005085854256845469, -0.005085854256845469, -0.005085854256845469, -0.005085854256845469, -0.005085854256845469, -0.005085854256845469, -0.005085854256845469, -0.005085854256845469, -0.005085854256845469, -0.005085854256845469, -0.005085854256845469, -0.005085854256845469, -0.0050858542568454675, -0.0050858542568454675, -0.0050858542568454675, -0.0050858542568454675, -0.0050858542568454675, -0.0050858542568454675, -0.0050858542568454675, -0.0050858542568454675, -0.0050858542568454675, -0.0050858542568454675, -0.0050858542568454675, -0.0050858542568454675, -0.0050858542568454675, -0.005085854256845466, -0.005085854256845466, -0.005085854256845466, -0.005085854256845466, -0.005085854256845466, -0.005085854256845466, -0.005085854256845466, -0.005085854256845466, -0.005085854256845466, -0.005085854256845466, -0.005085854256845459, -0.005085854256845457, -0.005085854256845457, -0.005085854256845457, -0.005085854256845455, -0.005085854256845455, -0.0039996430769781745, -0.003999643076978173, -0.00399964307697814, -0.00399964307697814, -0.003999643076978135, -0.003999643076978133, -0.003999643076978133, -0.003999643076978129, -0.003999643076978129, -0.003999643076978129, -0.003999643076978128, -0.003999643076978126, -0.003999643076978126, -0.003999643076978121, -0.003999643076978121, -0.00399964307697811, -0.00399964307697811, -0.0039996430769781086, -0.003999643076978103, -0.003999643076978102, -0.003999643076978102, -0.0039996430769781, -0.0039996430769781, -0.003999643076978098, -0.0021730990121915615, -0.0021730990121915615, -0.00217309901219156, -0.0021730990121915593, -0.0021730990121915307, -0.002173099012191526, -0.002173099012191525, -0.0021730990121915247, -0.002173099012191524, -0.0021730990121915238, -0.0021730990121915216, -0.0021730990121915194, -0.0021730990121915194, -0.0021730990121915194, -0.002173099012191517, -0.002173099012191517, -0.002173099012191517, -0.002173099012191517, -0.0021730990121915164, -0.002173099012191516, -0.002173099012191516, -0.002173099012191516, -0.002173099012191516, -0.002173099012191516, -0.002173099012191516, -0.0021730990121915155, -0.0021730990121915155, -0.0021730990121915155, -0.0021730990121915155, -0.0021730990121915155, -0.002173099012191515, -0.002173099012191515, -0.002173099012191515, -0.002173099012191515, -0.002173099012191515, -0.002173099012191515, -0.0021730990121915147, -0.0021730990121915147, -0.0021730990121915147, -0.0021730990121915147, -0.0021730990121915147, -0.0021730990121915147, -0.0021730990121915147, -0.0021730990121915147, -0.0021730990121915142, -0.0021730990121915142, -0.0021730990121915142, -0.0021730990121915134, -0.0021730990121915134, -0.0021730990121915134, -0.0021730990121915134, -0.002173099012191513, -0.002173099012191512, -0.002173099012191512, -0.0021730990121915116, -0.0021730990121915116, -0.0021730990121915116, -0.0021730990121915116, -0.0021730990121915116, -0.002173099012191511, -0.002173099012191511, -0.0021730990121915108, -0.0021730990121915108, -0.0021730990121915108, -0.0021730990121915108, -0.0021730990121915103, -0.0021730990121915103, -0.0021730990121915103, -0.00217309901219151, -0.00217309901219151, -0.0021730990121915095, -0.0021730990121915086, -0.0021730990121915077, -0.0021730990121915073, -0.002173099012191503, -0.002173099012191503, -0.002173099012191503, -0.0021730990121915025, -0.0021730990121914995, -0.002173099012191497, -0.002173099012191497, -0.002173099012191497, -0.002173099012191496, -0.002173099012191496, -0.0021730990121914943, -0.002173099012191494, -0.0021730990121914934, -0.0021730990121914934, -0.002173099012191493, -0.002173099012191493, -0.0021730990121914926, -0.0021730990121914926, -0.002173099012191492, -0.0021730990121914917, -0.0021730990121914917, -0.0021730990121914917, 0.000628906980641139, 0.0006289069806411424, 0.0006289069806411706, 0.0006289069806411763, 0.000628906980641178, 0.0006289069806411792, 0.0006289069806411801, 0.0006289069806411824, 0.0006289069806411848, 0.0006289069806411852, 0.0006289069806411857, 0.0006289069806411859, 0.0006289069806411861, 0.0006289069806411863, 0.0006289069806411865, 0.0006289069806411874, 0.0006289069806411886, 0.0006289069806411887, 0.0006289069806411887, 0.000628906980641189, 0.0006289069806411894, 0.0006289069806411895, 0.0006289069806411896, 0.0006289069806411897, 0.0006289069806411899, 0.0006289069806411903, 0.0006289069806411904, 0.0006289069806411904, 0.0006289069806411918, 0.0006289069806411924, 0.0006289069806411925, 0.0006289069806411927, 0.0006289069806411929, 0.0006289069806411985, 0.0006289069806411989, 0.0006289069806411989, 0.0006289069806412027, 0.0006289069806412045, 0.0006289069806412053, 0.0006289069806412053, 0.0006289069806412075, 0.0006289069806412078, 0.0006289069806412081, 0.0006289069806412089, 0.0006289069806412097, 0.0006289069806412098, 0.00062890698064121, 0.0006289069806412104, 0.0007396562324623897, 0.0007396562324623932, 0.0007396562324624214, 0.0007396562324624274, 0.0007396562324624292, 0.0007396562324624295, 0.0007396562324624312, 0.0007396562324624332, 0.000739656232462436, 0.0007396562324624363, 0.0007396562324624366, 0.0007396562324624371, 0.0007396562324624375, 0.0007396562324624375, 0.0007396562324624377, 0.0007396562324624383, 0.0007396562324624389, 0.0007396562324624389, 0.000739656232462439, 0.0007396562324624397, 0.000739656232462441, 0.0007396562324624411, 0.0007396562324624412, 0.0007396562324624412, 0.0007396562324624414, 0.000739656232462442, 0.0007396562324624424, 0.0007396562324624433, 0.0007396562324624433, 0.0007396562324624433, 0.0007396562324624438, 0.0007396562324624438, 0.0007396562324624438, 0.0007396562324624486, 0.000739656232462449, 0.000739656232462449, 0.0007396562324624561, 0.0007396562324624561, 0.0007396562324624561, 0.0007396562324624565, 0.0007396562324624587, 0.000739656232462459, 0.0007396562324624603, 0.0007396562324624608, 0.0007396562324624612, 0.0007396562324624612, 0.0007396562324624616, 0.000739656232462462, 0.0012600019931040011, 0.0012600019931040029, 0.0012600019931040042, 0.0012600019931040059, 0.001260001993104035, 0.0012600019931040352, 0.0012600019931040362, 0.001260001993104038, 0.0012600019931040397, 0.0012600019931040397, 0.0012600019931040404, 0.0012600019931040412, 0.0012600019931040419, 0.0012600019931040438, 0.0012600019931040456, 0.0012600019931040458, 0.0012600019931040462, 0.0012600019931040462, 0.0012600019931040464, 0.0012600019931040464, 0.0012600019931040464, 0.0012600019931040467, 0.0012600019931040467, 0.0012600019931040467, 0.0012600019931040467, 0.0012600019931040467, 0.0012600019931040467, 0.0012600019931040467, 0.0012600019931040467, 0.0012600019931040469, 0.001260001993104047, 0.0012600019931040473, 0.0012600019931040477, 0.001260001993104048, 0.0012600019931040482, 0.0012600019931040484, 0.0012600019931040484, 0.0012600019931040488, 0.0012600019931040488, 0.0012600019931040488, 0.0012600019931040488, 0.0012600019931040488, 0.00126000199310405, 0.00126000199310405, 0.0012600019931040501, 0.0012600019931040501, 0.0012600019931040501, 0.0012600019931040503, 0.0012600019931040506, 0.0012600019931040506, 0.0012600019931040506, 0.001260001993104051, 0.0012600019931040512, 0.0012600019931040514, 0.0012600019931040514, 0.0012600019931040516, 0.0012600019931040523, 0.0012600019931040523, 0.0012600019931040523, 0.0012600019931040523, 0.0012600019931040523, 0.0012600019931040523, 0.0012600019931040523, 0.0012600019931040536, 0.0012600019931040536, 0.0012600019931040536, 0.001260001993104054, 0.001260001993104055, 0.0012600019931040553, 0.0012600019931040558, 0.0012600019931040566, 0.0012600019931040566, 0.0012600019931040575, 0.0012600019931040592, 0.0012600019931040592, 0.0012600019931040592, 0.0012600019931040605, 0.0012600019931040605, 0.0012600019931040614, 0.0012600019931040631, 0.001260001993104065, 0.0012600019931040677, 0.0012600019931040677, 0.0012600019931040686, 0.0012600019931040686, 0.001260001993104069, 0.001260001993104069, 0.0012600019931040692, 0.0012600019931040692, 0.0012600019931040692, 0.00126000199310407, 0.00126000199310407, 0.00126000199310407, 0.001260001993104071, 0.001260001993104071, 0.001260001993104071, 0.0016930195086516991, 0.0016930195086516991, 0.0016930195086516996, 0.0016930195086516996, 0.0016930195086516998, 0.0016930195086517, 0.0016930195086517037, 0.001693019508651704, 0.001693019508651704, 0.0016930195086517041, 0.0016930195086517041, 0.0016930195086517041, 0.0016930195086517041, 0.0016930195086517041, 0.0016930195086517041, 0.0016930195086517041, 0.0016930195086517043, 0.0016930195086517043, 0.0016930195086517046, 0.0016930195086517046, 0.0016930195086517048, 0.0016930195086517048, 0.0016930195086517048, 0.0016930195086517048, 0.001693019508651705, 0.0016930195086517054, 0.0016930195086517054, 0.0016930195086517054, 0.0016930195086517056, 0.0016930195086517056, 0.0016930195086517056, 0.0016930195086517056, 0.0016930195086517056, 0.0016930195086517056, 0.0016930195086517059, 0.0016930195086517059, 0.0016930195086517059, 0.001693019508651706, 0.001693019508651706, 0.0016930195086517063, 0.0016930195086517063, 0.0016930195086517063, 0.0016930195086517063, 0.0016930195086517065, 0.0016930195086517065, 0.0016930195086517065, 0.0016930195086517065, 0.0016930195086517065, 0.0016930195086517067, 0.0016930195086517067, 0.0016930195086517074, 0.0016930195086517074, 0.0016930195086517074, 0.0016930195086517076, 0.0016930195086517076, 0.0016930195086517078, 0.0016930195086517078, 0.0016930195086517078, 0.0016930195086517078, 0.001693019508651708, 0.001693019508651708, 0.0016930195086517082, 0.0016930195086517082, 0.0016930195086517082, 0.0016930195086517085, 0.0016930195086517085, 0.0016930195086517085, 0.0016930195086517085, 0.0016930195086517093, 0.0016930195086517093, 0.0016930195086517095, 0.00169301950865171, 0.0016930195086517106, 0.0016930195086517106, 0.0016930195086517108, 0.0016930195086517108, 0.0016930195086517108, 0.0016930195086517113, 0.0016930195086517152, 0.0016930195086517152, 0.0016930195086517152, 0.0016930195086517152, 0.0016930195086517156, 0.0016930195086517156, 0.001693019508651716, 0.001693019508651716, 0.001693019508651717, 0.001693019508651717, 0.0016930195086517178, 0.0016930195086517178, 0.001693019508651719, 0.001693019508651719, 0.001693019508651719, 0.0016930195086517195, 0.00169301950865172, 0.0016930195086517204, 0.004172757237757951, 0.004172757237757951, 0.004172757237757955, 0.004172757237757955, 0.004172757237757957, 0.004172757237757957, 0.004172757237757959, 0.004172757237757959, 0.004172757237757985, 0.004172757237757985, 0.004172757237757986, 0.004172757237757988, 0.004172757237757988, 0.004172757237757988, 0.0041727572377579895, 0.0041727572377579895, 0.0041727572377579895, 0.0041727572377579895, 0.004172757237757991, 0.004172757237757991, 0.004172757237757992, 0.004172757237757992, 0.004172757237757993, 0.004172757237757995, 0.004172757237757995, 0.004172757237757995, 0.004172757237757995, 0.004172757237757995, 0.004172757237757995, 0.004172757237757995, 0.0041727572377579965, 0.0041727572377579965, 0.004172757237757997, 0.004172757237757998, 0.004172757237757998, 0.004172757237757998, 0.004172757237757998, 0.004172757237757999, 0.004172757237757999, 0.004172757237757999, 0.004172757237757999, 0.004172757237758, 0.004172757237758, 0.004172757237758, 0.004172757237758, 0.004172757237758, 0.004172757237758, 0.004172757237758, 0.004172757237758, 0.004172757237758, 0.004172757237758, 0.004172757237758, 0.004172757237758, 0.004172757237758, 0.004172757237758, 0.004172757237758, 0.004172757237758, 0.004172757237758, 0.004172757237758, 0.004172757237758, 0.004172757237758, 0.004172757237758001, 0.004172757237758002, 0.004172757237758002, 0.004172757237758002, 0.004172757237758002, 0.004172757237758002, 0.004172757237758002, 0.004172757237758002, 0.004172757237758002, 0.004172757237758002, 0.004172757237758002, 0.004172757237758002, 0.004172757237758003, 0.004172757237758003, 0.004172757237758003, 0.004172757237758003, 0.004172757237758003, 0.004172757237758003, 0.004172757237758003, 0.004172757237758003, 0.004172757237758003, 0.004172757237758003, 0.004172757237758003, 0.004172757237758003, 0.004172757237758003, 0.004172757237758003, 0.004172757237758003, 0.004172757237758003, 0.004172757237758003, 0.004172757237758003, 0.004172757237758003, 0.004172757237758003, 0.004172757237758003, 0.004172757237758004, 0.004172757237758004, 0.004172757237758004, 0.004172757237758004, 0.004172757237758004, 0.004172757237758004, 0.004172757237758005, 0.004172757237758005, 0.004172757237758005, 0.004172757237758005, 0.004172757237758005, 0.004172757237758005, 0.004172757237758005, 0.004172757237758006, 0.004172757237758006, 0.004172757237758006, 0.004172757237758006, 0.004172757237758006, 0.004172757237758006, 0.004172757237758007, 0.004172757237758007, 0.004172757237758007, 0.004172757237758007, 0.004172757237758007, 0.004172757237758007, 0.004172757237758007, 0.004172757237758007, 0.004172757237758007, 0.004172757237758007, 0.004172757237758008, 0.004172757237758009, 0.004172757237758009, 0.004172757237758009, 0.004172757237758009, 0.0041727572377580095, 0.0041727572377580095, 0.00417275723775801, 0.00417275723775801, 0.00417275723775801, 0.00417275723775801, 0.00417275723775801, 0.00417275723775801, 0.004172757237758011, 0.004172757237758012, 0.004172757237758012, 0.004172757237758012, 0.004172757237758012, 0.004172757237758012, 0.004172757237758012, 0.004172757237758013, 0.004172757237758016, 0.004172757237758016, 0.004172757237758016, 0.004172757237758016, 0.004172757237758017, 0.004172757237758017, 0.004172757237758017, 0.004172757237758017, 0.004172757237758017, 0.004172757237758017, 0.004172757237758017, 0.004172757237758017, 0.004172757237758018, 0.004172757237758018, 0.004172757237758019, 0.004172757237758019, 0.004172757237758019, 0.004172757237758019, 0.004172757237758019, 0.00417275723775802, 0.004172757237758021, 0.004172757237758021, 0.004172757237758022, 0.004172757237758022, 0.004172757237758022, 0.0041727572377580225, 0.0041727572377580225, 0.0041727572377580225, 0.0041727572377580225, 0.004172757237758023, 0.004172757237758023, 0.004172757237758023, 0.004172757237758023, 0.004172757237758024, 0.004172757237758024, 0.004172757237758024, 0.004172757237758024, 0.004172757237758024, 0.004172757237758024, 0.004172757237758024, 0.004172757237758025, 0.004172757237758025, 0.004172757237758026, 0.004172757237758026, 0.004172757237758026, 0.004172757237758027, 0.004172757237758027, 0.004172757237758027, 0.004605774753305611, 0.004605774753305611, 0.004605774753305613, 0.004605774753305613, 0.004605774753305613, 0.004605774753305613, 0.004605774753305615, 0.004605774753305615, 0.0046057747533056435, 0.004605774753305645, 0.004605774753305649, 0.004605774753305649, 0.004605774753305649, 0.00460577475330565, 0.0046057747533056505, 0.0046057747533056505, 0.0046057747533056505, 0.0046057747533056505, 0.0046057747533056505, 0.004605774753305652, 0.004605774753305652, 0.004605774753305652, 0.004605774753305652, 0.004605774753305652, 0.004605774753305652, 0.004605774753305652, 0.004605774753305652, 0.004605774753305652, 0.004605774753305654, 0.004605774753305654, 0.004605774753305655, 0.004605774753305656, 0.004605774753305657, 0.004605774753305657, 0.004605774753305657, 0.004605774753305657, 0.004605774753305657, 0.004605774753305657, 0.004605774753305657, 0.004605774753305657, 0.004605774753305657, 0.004605774753305657, 0.004605774753305657, 0.004605774753305658, 0.004605774753305658, 0.004605774753305658, 0.004605774753305658, 0.004605774753305658, 0.004605774753305659, 0.004605774753305659, 0.004605774753305659, 0.004605774753305659, 0.004605774753305659, 0.004605774753305659, 0.004605774753305659, 0.004605774753305659, 0.004605774753305659, 0.004605774753305659, 0.004605774753305659, 0.004605774753305659, 0.004605774753305659, 0.004605774753305659, 0.004605774753305659, 0.004605774753305659, 0.004605774753305659, 0.004605774753305659, 0.004605774753305659, 0.004605774753305659, 0.004605774753305659, 0.00460577475330566, 0.00460577475330566, 0.00460577475330566, 0.00460577475330566, 0.00460577475330566, 0.004605774753305661, 0.004605774753305661, 0.004605774753305661, 0.004605774753305661, 0.004605774753305661, 0.004605774753305661, 0.004605774753305661, 0.004605774753305661, 0.004605774753305661, 0.004605774753305661, 0.004605774753305661, 0.004605774753305661, 0.004605774753305661, 0.004605774753305661, 0.004605774753305661, 0.004605774753305661, 0.004605774753305661, 0.004605774753305661, 0.004605774753305661, 0.004605774753305661, 0.004605774753305661, 0.004605774753305661, 0.004605774753305662, 0.004605774753305662, 0.004605774753305662, 0.004605774753305662, 0.004605774753305663, 0.004605774753305663, 0.004605774753305663, 0.004605774753305663, 0.004605774753305663, 0.004605774753305663, 0.004605774753305663, 0.004605774753305663, 0.004605774753305663, 0.004605774753305663, 0.004605774753305663, 0.004605774753305663, 0.004605774753305663, 0.004605774753305663, 0.004605774753305663, 0.004605774753305663, 0.004605774753305663, 0.004605774753305663, 0.004605774753305664, 0.004605774753305664, 0.004605774753305664, 0.004605774753305664, 0.004605774753305665, 0.004605774753305665, 0.004605774753305665, 0.004605774753305665, 0.004605774753305665, 0.004605774753305666, 0.004605774753305666, 0.004605774753305666, 0.004605774753305666, 0.004605774753305666, 0.004605774753305666, 0.004605774753305667, 0.004605774753305667, 0.004605774753305668, 0.004605774753305668, 0.004605774753305668, 0.004605774753305668, 0.0046057747533056696, 0.0046057747533056696, 0.0046057747533056696, 0.0046057747533056696, 0.0046057747533056696, 0.00460577475330567, 0.00460577475330567, 0.00460577475330567, 0.00460577475330567, 0.00460577475330567, 0.00460577475330567, 0.00460577475330567, 0.00460577475330567, 0.004605774753305671, 0.004605774753305671, 0.004605774753305673, 0.004605774753305673, 0.004605774753305673, 0.004605774753305674, 0.004605774753305675, 0.004605774753305675, 0.0046057747533056765, 0.0046057747533056765, 0.004605774753305677, 0.004605774753305677, 0.004605774753305678, 0.004605774753305678, 0.004605774753305678, 0.004605774753305678, 0.004605774753305678, 0.004605774753305678, 0.004605774753305678, 0.004605774753305678, 0.004605774753305678, 0.004605774753305678, 0.00460577475330568, 0.00460577475330568, 0.00460577475330568, 0.00460577475330568, 0.00460577475330568, 0.00460577475330568, 0.00460577475330568, 0.004605774753305682, 0.004605774753305682, 0.004605774753305682, 0.004605774753305682, 0.004605774753305682, 0.004605774753305684, 0.004605774753305685, 0.004605774753305685, 0.004605774753305685, 0.004605774753305685, 0.004605774753305685, 0.0047165240051268605, 0.004716524005126864, 0.004716524005126864, 0.004716524005126866, 0.004716524005126893, 0.004716524005126899, 0.0047165240051269, 0.0047165240051269, 0.0047165240051269, 0.004716524005126901, 0.004716524005126903, 0.004716524005126903, 0.004716524005126904, 0.004716524005126906, 0.004716524005126907, 0.004716524005126907, 0.004716524005126907, 0.004716524005126908, 0.004716524005126908, 0.004716524005126909, 0.004716524005126909, 0.004716524005126909, 0.004716524005126909, 0.004716524005126909, 0.004716524005126909, 0.004716524005126909, 0.004716524005126909, 0.00471652400512691, 0.00471652400512691, 0.004716524005126911, 0.004716524005126911, 0.004716524005126911, 0.004716524005126911, 0.004716524005126911, 0.004716524005126911, 0.004716524005126911, 0.004716524005126911, 0.004716524005126911, 0.004716524005126911, 0.004716524005126911, 0.004716524005126912, 0.004716524005126912, 0.004716524005126912, 0.004716524005126912, 0.004716524005126912, 0.0047165240051269125, 0.0047165240051269125, 0.0047165240051269125, 0.0047165240051269125, 0.0047165240051269125, 0.0047165240051269125, 0.0047165240051269125, 0.0047165240051269125, 0.004716524005126913, 0.004716524005126913, 0.004716524005126913, 0.004716524005126914, 0.004716524005126914, 0.004716524005126914, 0.004716524005126914, 0.004716524005126914, 0.004716524005126915, 0.004716524005126916, 0.004716524005126916, 0.004716524005126916, 0.004716524005126916, 0.004716524005126917, 0.004716524005126917, 0.0047165240051269194, 0.0047165240051269194, 0.0047165240051269194, 0.0047165240051269194, 0.00471652400512692, 0.004716524005126921, 0.004716524005126922, 0.004716524005126922, 0.004716524005126922, 0.004716524005126924, 0.0047165240051269255, 0.004716524005126928, 0.004716524005126928, 0.004716524005126928, 0.004716524005126928, 0.004716524005126928, 0.004716524005126928, 0.004716524005126928, 0.00471652400512693, 0.00471652400512693, 0.004716524005126932, 0.004716524005126932, 0.004716524005126932, 0.0047165240051269324, 0.0047165240051269324, 0.004716524005126935, 0.004716524005126936, 0.004716524005126937, 0.005118502401588808, 0.005118502401588862, 0.005118502401588884, 0.0051185024015888946, 0.006248531593821556, 0.0062485315938215855, 0.006248531593821587, 0.006248531593821589, 0.006248531593821622, 0.006248531593821625, 0.006248531593821629, 0.006248531593821631, 0.006248531593821631, 0.006248531593821636, 0.006248531593821636, 0.006248531593821636, 0.006248531593821638, 0.006248531593821638, 0.006248531593821638, 0.006248531593821639, 0.006248531593821639, 0.006248531593821639, 0.006248531593821641, 0.00624853159382165, 0.0062485315938216515, 0.0062485315938216515, 0.006248531593821655, 0.006248531593821657, 0.00624853159382166, 0.00624853159382166, 0.00624853159382166, 0.006248531593821662, 0.006248531593821662, 0.006248531593821664, 0.006248531593821664, 0.006248531593821664, 0.00685057246377945, 0.00685057246377946, 0.0068505724637794845, 0.006850572463779488, 0.006850572463779488, 0.006850572463779493, 0.006850572463779497, 0.006850572463779497, 0.006850572463779497, 0.0068505724637795, 0.0068505724637795, 0.0068505724637795, 0.006850572463779504, 0.006850572463779505, 0.0068505724637795105, 0.0068505724637795175, 0.0068505724637795175, 0.0068505724637795175, 0.006850572463779524, 0.006850572463779528, 0.006850572463779528, 0.00685057246377953, 0.006850572463779531, 0.006850572463779531, 0.007477561716106314, 0.007477561716106317, 0.007477561716106317, 0.007477561716106319, 0.007477561716106319, 0.007477561716106319, 0.007477561716106319, 0.007477561716106319, 0.007477561716106319, 0.007477561716106319, 0.0074775617161063224, 0.007477561716106324, 0.007477561716106343, 0.007477561716106354, 0.007477561716106359, 0.007477561716106361, 0.007477561716106362, 0.007477561716106364, 0.007477561716106364, 0.007477561716106364, 0.007477561716106364, 0.007477561716106366, 0.007477561716106366, 0.007477561716106366, 0.007477561716106366, 0.007477561716106366, 0.0074775617161063675, 0.0074775617161063675, 0.0074775617161063675, 0.0074775617161063675, 0.007477561716106369, 0.007477561716106369, 0.007477561716106369, 0.007477561716106369, 0.007477561716106369, 0.007477561716106371, 0.007477561716106371, 0.007477561716106371, 0.007477561716106371, 0.007477561716106371, 0.007477561716106371, 0.007477561716106371, 0.007477561716106371, 0.007477561716106371, 0.007477561716106373, 0.007477561716106373, 0.007477561716106373, 0.007477561716106373, 0.007477561716106373, 0.007477561716106373, 0.0074775617161063745, 0.0074775617161063745, 0.0074775617161063745, 0.0074775617161063745, 0.007477561716106376, 0.007477561716106378, 0.007477561716106378, 0.007477561716106385, 0.007477561716106385, 0.007477561716106385, 0.007477561716106385, 0.007477561716106385, 0.007477561716106385, 0.007477561716106387, 0.007477561716106388, 0.007477561716106388, 0.007477561716106388, 0.007477561716106388, 0.007477561716106388, 0.007477561716106388, 0.00747756171610639, 0.00747756171610639, 0.00747756171610639, 0.00747756171610639, 0.00747756171610639, 0.0074775617161063936, 0.0074775617161063936, 0.0074775617161063936, 0.007477561716106395, 0.007477561716106395, 0.007477561716106395, 0.007477561716106395, 0.007477561716106397, 0.007477561716106397, 0.007477561716106397, 0.007477561716106397, 0.007477561716106397, 0.007477561716106399, 0.007477561716106399, 0.007477561716106399, 0.007477561716106399, 0.007477561716106399, 0.007477561716106399, 0.007477561716106399, 0.0074775617161064005, 0.0074775617161064005, 0.007716607494874765, 0.007716607494874765, 0.007716607494874772, 0.007716607494874773, 0.007716607494874803, 0.007716607494874803, 0.007716607494874805, 0.00771660749487481, 0.00771660749487481, 0.00771660749487481, 0.007716607494874812, 0.007716607494874813, 0.007716607494874813, 0.007716607494874813, 0.007716607494874813, 0.007716607494874813, 0.007716607494874813, 0.007716607494874815, 0.007716607494874815, 0.007716607494874817, 0.007716607494874817, 0.007716607494874817, 0.007716607494874817, 0.007716607494874817, 0.0077166074948748185, 0.0077166074948748185, 0.0077166074948748185, 0.0077166074948748185, 0.0077166074948748185, 0.0077166074948748185, 0.0077166074948748185, 0.0077166074948748185, 0.0077166074948748185, 0.00771660749487482, 0.00771660749487482, 0.007716607494874822, 0.007716607494874822, 0.007716607494874822, 0.007716607494874822, 0.007716607494874824, 0.0077166074948748255, 0.0077166074948748255, 0.0077166074948748255, 0.0077166074948748255, 0.0077166074948748255, 0.007716607494874827, 0.007716607494874829, 0.007716607494874829, 0.007716607494874831, 0.007716607494874832, 0.007716607494874832, 0.007716607494874832, 0.007716607494874834, 0.007716607494874834, 0.007716607494874836, 0.007716607494874836, 0.007716607494874836, 0.007716607494874838, 0.007716607494874838, 0.007716607494874838, 0.007716607494874843, 0.007716607494874843, 0.007716607494874843, 0.007716607494874843, 0.007827356746696016, 0.007827356746696016, 0.007827356746696016, 0.007827356746696018, 0.007827356746696018, 0.007827356746696018, 0.007827356746696022, 0.007827356746696023, 0.007827356746696053, 0.007827356746696053, 0.007827356746696056, 0.00782735674669606, 0.007827356746696061, 0.007827356746696061, 0.007827356746696061, 0.007827356746696061, 0.007827356746696061, 0.007827356746696063, 0.007827356746696063, 0.007827356746696063, 0.007827356746696063, 0.007827356746696065, 0.007827356746696065, 0.007827356746696065, 0.007827356746696065, 0.007827356746696065, 0.007827356746696067, 0.007827356746696067, 0.007827356746696067, 0.007827356746696067, 0.007827356746696067, 0.007827356746696067, 0.007827356746696068, 0.007827356746696068, 0.007827356746696068, 0.007827356746696068, 0.00782735674669607, 0.00782735674669607, 0.00782735674669607, 0.00782735674669607, 0.00782735674669607, 0.00782735674669607, 0.00782735674669607, 0.00782735674669607, 0.00782735674669607, 0.00782735674669607, 0.00782735674669607, 0.00782735674669607, 0.00782735674669607, 0.00782735674669607, 0.007827356746696072, 0.007827356746696072, 0.007827356746696072, 0.007827356746696072, 0.007827356746696072, 0.007827356746696072, 0.007827356746696072, 0.007827356746696074, 0.007827356746696074, 0.007827356746696074, 0.007827356746696074, 0.007827356746696075, 0.007827356746696075, 0.007827356746696077, 0.007827356746696077, 0.007827356746696077, 0.007827356746696079, 0.007827356746696079, 0.007827356746696079, 0.007827356746696079, 0.00782735674669608, 0.007827356746696084, 0.007827356746696084, 0.007827356746696084, 0.007827356746696084, 0.007827356746696084, 0.007827356746696086, 0.007827356746696086, 0.007827356746696086, 0.007827356746696086, 0.007827356746696086, 0.007827356746696086, 0.007827356746696087, 0.007827356746696087, 0.00782735674669609, 0.00782735674669609, 0.00782735674669609, 0.00782735674669609, 0.00782735674669609, 0.00782735674669609, 0.007827356746696093, 0.007827356746696093, 0.007827356746696093, 0.007827356746696094, 0.007827356746696094, 0.007827356746696094, 0.007910579231653978, 0.00791057923165398, 0.00791057923165398, 0.00791057923165398, 0.00791057923165398, 0.00791057923165398, 0.007910579231653982, 0.007910579231653983, 0.007910579231654011, 0.007910579231654011, 0.007910579231654013, 0.007910579231654015, 0.007910579231654016, 0.007910579231654016, 0.007910579231654016, 0.007910579231654016, 0.007910579231654016, 0.007910579231654016, 0.007910579231654018, 0.00791057923165402, 0.007910579231654022, 0.007910579231654022, 0.007910579231654022, 0.007910579231654023, 0.007910579231654023, 0.007910579231654023, 0.007910579231654025, 0.007910579231654025, 0.007910579231654025, 0.007910579231654025, 0.007910579231654025, 0.007910579231654025, 0.007910579231654025, 0.007910579231654025, 0.007910579231654027, 0.007910579231654027, 0.007910579231654027, 0.007910579231654027, 0.007910579231654027, 0.007910579231654028, 0.007910579231654028, 0.007910579231654028, 0.007910579231654028, 0.007910579231654028, 0.007910579231654028, 0.007910579231654028, 0.007910579231654028, 0.00791057923165403, 0.00791057923165403, 0.00791057923165403, 0.00791057923165403, 0.007910579231654032, 0.007910579231654032, 0.007910579231654032, 0.007910579231654032, 0.007910579231654034, 0.007910579231654034, 0.007910579231654034, 0.007910579231654039, 0.007910579231654039, 0.007910579231654044, 0.007910579231654044, 0.007910579231654044, 0.007910579231654044, 0.007910579231654044, 0.007910579231654046, 0.007910579231654046, 0.007910579231654046, 0.007910579231654046, 0.007910579231654046, 0.007910579231654048, 0.007910579231654048, 0.007910579231654053, 0.007910579231654053, 0.007910579231654053, 0.007910579231654053, 0.007910579231654054, 0.007910579231654054, 0.007910579231654054, 0.007910579231654054, 0.007910579231654054, 0.007910579231654054, 0.007910579231654054, 0.007910579231654054, 0.007910579231654056, 0.007910579231654056, 0.007910579231654056, 0.007910579231654056, 0.007910579231654056, 0.007910579231654056, 0.007910579231654058, 0.007910579231654058, 0.007910579231654058, 0.007910579231654058, 0.007910579231654058, 0.007910579231654058, 0.008149625010422427, 0.008149625010422427, 0.008149625010422427, 0.008149625010422431, 0.008149625010422459, 0.00814962501042246, 0.008149625010422462, 0.008149625010422464, 0.008149625010422464, 0.008149625010422466, 0.008149625010422466, 0.008149625010422466, 0.008149625010422467, 0.008149625010422467, 0.008149625010422467, 0.008149625010422469, 0.008149625010422469, 0.008149625010422469, 0.00814962501042247, 0.00814962501042247, 0.00814962501042247, 0.00814962501042247, 0.00814962501042247, 0.00814962501042247, 0.00814962501042247, 0.00814962501042247, 0.00814962501042247, 0.00814962501042247, 0.008149625010422473, 0.008149625010422473, 0.008149625010422473, 0.008149625010422473, 0.008149625010422473, 0.008149625010422473, 0.008149625010422473, 0.008149625010422473, 0.008149625010422473, 0.008149625010422473, 0.008149625010422473, 0.008149625010422474, 0.008149625010422474, 0.008149625010422474, 0.008149625010422474, 0.008149625010422474, 0.008149625010422474, 0.008149625010422474, 0.008149625010422474, 0.008149625010422474, 0.008149625010422474, 0.008149625010422476, 0.008149625010422476, 0.008149625010422476, 0.008149625010422478, 0.008149625010422478, 0.008149625010422478, 0.008149625010422478, 0.008149625010422478, 0.008149625010422478, 0.00814962501042248, 0.00814962501042248, 0.00814962501042248, 0.00814962501042248, 0.00814962501042248, 0.008149625010422481, 0.008149625010422481, 0.008149625010422483, 0.008149625010422483, 0.008149625010422483, 0.008149625010422483, 0.008149625010422483, 0.008149625010422483, 0.008149625010422483, 0.008149625010422483, 0.008149625010422483, 0.008149625010422485, 0.008149625010422485, 0.008149625010422485, 0.008149625010422486, 0.008149625010422486, 0.008149625010422488, 0.00814962501042249, 0.00814962501042249, 0.008149625010422492, 0.008149625010422492, 0.008149625010422493, 0.008149625010422493, 0.008149625010422493, 0.008149625010422493, 0.008149625010422493, 0.008149625010422493, 0.008149625010422493, 0.008149625010422493, 0.008149625010422495, 0.008149625010422499, 0.008149625010422499, 0.008149625010422499, 0.008260374262243677, 0.008260374262243679, 0.008260374262243679, 0.008260374262243679, 0.008260374262243679, 0.008260374262243679, 0.00826037426224368, 0.00826037426224368, 0.00826037426224371, 0.00826037426224371, 0.00826037426224371, 0.00826037426224371, 0.008260374262243712, 0.008260374262243712, 0.008260374262243715, 0.008260374262243715, 0.008260374262243715, 0.008260374262243715, 0.008260374262243715, 0.008260374262243717, 0.008260374262243717, 0.008260374262243717, 0.008260374262243717, 0.008260374262243717, 0.008260374262243717, 0.008260374262243717, 0.008260374262243717, 0.008260374262243719, 0.008260374262243719, 0.008260374262243719, 0.008260374262243719, 0.008260374262243719, 0.00826037426224372, 0.00826037426224372, 0.00826037426224372, 0.00826037426224372, 0.00826037426224372, 0.008260374262243722, 0.008260374262243722, 0.008260374262243722, 0.008260374262243722, 0.008260374262243722, 0.008260374262243722, 0.008260374262243722, 0.008260374262243722, 0.008260374262243722, 0.008260374262243722, 0.008260374262243722, 0.008260374262243722, 0.008260374262243722, 0.008260374262243722, 0.008260374262243722, 0.008260374262243722, 0.008260374262243722, 0.008260374262243722, 0.008260374262243722, 0.008260374262243722, 0.008260374262243722, 0.008260374262243722, 0.008260374262243724, 0.008260374262243724, 0.008260374262243724, 0.008260374262243724, 0.008260374262243724, 0.008260374262243724, 0.008260374262243724, 0.008260374262243724, 0.008260374262243724, 0.008260374262243724, 0.008260374262243724, 0.008260374262243724, 0.008260374262243724, 0.008260374262243724, 0.008260374262243724, 0.008260374262243724, 0.008260374262243724, 0.008260374262243724, 0.008260374262243726, 0.008260374262243726, 0.008260374262243726, 0.008260374262243726, 0.008260374262243726, 0.008260374262243726, 0.008260374262243726, 0.008260374262243726, 0.008260374262243726, 0.008260374262243726, 0.008260374262243726, 0.008260374262243726, 0.008260374262243726, 0.008260374262243726, 0.008260374262243726, 0.008260374262243726, 0.008260374262243726, 0.008260374262243726, 0.008260374262243726, 0.008260374262243726, 0.008260374262243726, 0.008260374262243726, 0.008260374262243726, 0.008260374262243728, 0.008260374262243728, 0.008260374262243728, 0.008260374262243728, 0.008260374262243728, 0.008260374262243728, 0.008260374262243728, 0.008260374262243728, 0.008260374262243728, 0.008260374262243728, 0.008260374262243728, 0.008260374262243728, 0.00826037426224373, 0.00826037426224373, 0.00826037426224373, 0.00826037426224373, 0.00826037426224373, 0.00826037426224373, 0.00826037426224373, 0.00826037426224373, 0.00826037426224373, 0.00826037426224373, 0.008260374262243731, 0.008260374262243731, 0.008260374262243731, 0.008260374262243731, 0.008260374262243731, 0.008260374262243731, 0.008260374262243733, 0.008260374262243733, 0.008260374262243733, 0.008260374262243733, 0.008260374262243733, 0.008260374262243733, 0.008260374262243733, 0.008260374262243733, 0.008260374262243733, 0.008260374262243733, 0.008260374262243733, 0.008260374262243733, 0.008260374262243735, 0.008260374262243735, 0.008260374262243735, 0.008260374262243735, 0.008260374262243735, 0.008260374262243735, 0.008260374262243735, 0.008260374262243735, 0.008260374262243735, 0.008260374262243735, 0.008260374262243735, 0.008260374262243735, 0.008260374262243736, 0.008260374262243736, 0.008260374262243736, 0.008260374262243736, 0.008260374262243738, 0.008260374262243738, 0.008260374262243741, 0.008260374262243741, 0.008260374262243741, 0.008260374262243741, 0.008260374262243741, 0.008260374262243741, 0.008260374262243743, 0.008260374262243743, 0.008260374262243743, 0.008260374262243743, 0.008260374262243743, 0.008260374262243743, 0.008260374262243743, 0.008260374262243743, 0.008260374262243743, 0.008260374262243743, 0.008260374262243743, 0.008260374262243743, 0.008260374262243745, 0.008260374262243745, 0.008260374262243745, 0.008260374262243745, 0.008260374262243745, 0.008260374262243745, 0.008260374262243745, 0.008260374262243745, 0.008260374262243745, 0.008260374262243745, 0.008260374262243748, 0.008260374262243748, 0.008260374262243748, 0.008260374262243748, 0.008260374262243748, 0.008260374262243748, 0.008582642525970083, 0.00858264252597012, 0.008582642525970125, 0.008582642525970125, 0.008582642525970127, 0.00858264252597013, 0.00858264252597013, 0.00858264252597013, 0.00858264252597013, 0.00858264252597013, 0.00858264252597013, 0.00858264252597013, 0.008582642525970132, 0.008582642525970132, 0.008582642525970132, 0.008582642525970132, 0.008582642525970132, 0.008582642525970132, 0.008582642525970132, 0.008582642525970133, 0.008582642525970133, 0.008582642525970133, 0.008582642525970133, 0.008582642525970133, 0.008582642525970135, 0.008582642525970139, 0.00858264252597014, 0.00858264252597014, 0.008582642525970142, 0.008582642525970142, 0.008582642525970144, 0.008582642525970146, 0.008582642525970146, 0.00858264252597015, 0.008582642525970153, 0.008582642525970153, 0.008693391777791335, 0.008693391777791335, 0.008693391777791335, 0.008693391777791335, 0.008693391777791371, 0.008693391777791371, 0.008693391777791373, 0.008693391777791373, 0.008693391777791375, 0.008693391777791376, 0.008693391777791376, 0.008693391777791376, 0.008693391777791376, 0.008693391777791376, 0.008693391777791378, 0.008693391777791378, 0.00869339177779138, 0.00869339177779138, 0.00869339177779138, 0.00869339177779138, 0.00869339177779138, 0.00869339177779138, 0.008693391777791382, 0.008693391777791382, 0.008693391777791382, 0.008693391777791382, 0.008693391777791382, 0.008693391777791382, 0.008693391777791382, 0.008693391777791382, 0.008693391777791382, 0.008693391777791382, 0.008693391777791382, 0.008693391777791382, 0.008693391777791382, 0.008693391777791382, 0.008693391777791382, 0.008693391777791382, 0.008693391777791383, 0.008693391777791383, 0.008693391777791383, 0.008693391777791383, 0.008693391777791383, 0.008693391777791383, 0.008693391777791383, 0.008693391777791383, 0.008693391777791383, 0.008693391777791383, 0.008693391777791383, 0.008693391777791383, 0.008693391777791385, 0.008693391777791385, 0.008693391777791385, 0.008693391777791385, 0.008693391777791385, 0.008693391777791385, 0.008693391777791385, 0.008693391777791385, 0.008693391777791385, 0.008693391777791385, 0.008693391777791387, 0.008693391777791387, 0.008693391777791387, 0.008693391777791387, 0.00869339177779139, 0.00869339177779139, 0.00869339177779139, 0.00869339177779139, 0.00869339177779139, 0.00869339177779139, 0.008693391777791392, 0.008693391777791392, 0.008693391777791392, 0.008693391777791394, 0.008693391777791394, 0.008693391777791394, 0.008693391777791394, 0.008693391777791394, 0.008693391777791394, 0.008693391777791394, 0.008693391777791395, 0.008693391777791395, 0.008693391777791395, 0.008693391777791395, 0.008693391777791402, 0.008693391777791402, 0.008693391777791402, 0.008693391777791402, 0.008693391777791402, 0.008693391777791402, 0.008693391777791402, 0.008693391777791402, 0.008693391777791402, 0.008693391777791402, 0.008693391777791402, 0.008693391777791402, 0.008804141029612586, 0.008804141029612623, 0.008804141029612626, 0.00880414102961263, 0.008804141029612631, 0.008804141029612631, 0.008804141029612633, 0.008804141029612633, 0.008804141029612633, 0.008804141029612633, 0.008804141029612635, 0.008804141029612635, 0.008804141029612635, 0.008804141029612635, 0.008804141029612635, 0.008804141029612637, 0.00880414102961264, 0.008804141029612642, 0.008804141029612645, 0.008804141029612645, 0.008804141029612645, 0.008804141029612652, 0.008804141029612654, 0.008804141029612654]\n"
     ]
    }
   ],
   "source": [
    "energies_25.sort()\n",
    "#print(energies_25)\n",
    "\n",
    "energies_50.sort()\n",
    "#print(energies_50)\n",
    "\n",
    "energies_75.sort()\n",
    "print(energies_75)"
   ]
  },
  {
   "cell_type": "code",
   "execution_count": 51,
   "metadata": {},
   "outputs": [],
   "source": [
    "concs_s = copy.deepcopy(concs)\n",
    "concs_s.sort()\n",
    "hull = other_energies\n",
    "convex_hull = []\n",
    "for i in range(len(concs)):\n",
    "    curr = concs_s[i]\n",
    "    if 0.0 <= curr and curr <= 0.25:\n",
    "        temp = hull[0.0] + (curr/0.25)*(hull[0.25]-hull[0.0])\n",
    "        \n",
    "    elif 0.25 < curr and curr <= 0.50:\n",
    "        temp = hull[0.25] + ((curr-0.25)/0.25)*(hull[0.50]-hull[0.25])\n",
    "    elif 0.50 < curr and curr <= 0.75:\n",
    "        temp = hull[0.50] + ((curr-0.50)/0.25)*(hull[0.75]-hull[0.50])\n",
    "    else:\n",
    "        temp = hull[0.75] + ((curr-0.75)/0.25)*(hull[1.0]-hull[0.75])\n",
    "    convex_hull.append(copy.deepcopy(temp))"
   ]
  },
  {
   "cell_type": "code",
   "execution_count": 52,
   "metadata": {},
   "outputs": [
    {
     "name": "stdout",
     "output_type": "stream",
     "text": [
      "[1. 4. 6. 4. 1.]\n",
      "{0.0: 0.0, 0.25: -0.034167194236895584, 0.5: -0.03618248807455891, 0.75: -0.018754351039661065, 1.0: 1.474514954580286e-16}\n",
      "-0.018091244037279457\n"
     ]
    }
   ],
   "source": [
    "print(degen)\n",
    "print(hull)\n",
    "\n",
    "print(hull[0.5]/2.0)"
   ]
  },
  {
   "cell_type": "code",
   "execution_count": 53,
   "metadata": {},
   "outputs": [],
   "source": [
    "from typing import Dict\n",
    "def get_ce_energy(settings, atoms: Atoms,\n",
    "                  eci: Dict[str, float]) -> float:\n",
    "    \"\"\"Get energy of the ASE Atoms object based on given ECI values.\n",
    "\n",
    "    :param settings: ClusterExpansionSettings object (e.g., CEBulk, CECyrstal)\n",
    "    :param atoms: ASE Atoms object representing the considered atomic\n",
    "        arrangement\n",
    "    :param eci: ECI values to be used to calculate the energy\n",
    "    \"\"\"\n",
    "    # temp atoms to avoid making unexpected changes to passed atoms\n",
    "    temp_atoms = atoms.copy()\n",
    "    calc = Clease(settings, eci=eci)\n",
    "    temp_atoms.set_calculator(calc)\n",
    "    energy = temp_atoms.get_potential_energy()\n",
    "    return energy"
   ]
  },
  {
   "cell_type": "code",
   "execution_count": 54,
   "metadata": {},
   "outputs": [],
   "source": [
    "db_name = \"aucu_metals_Final_Submission.db\"\n",
    "db = connect(db_name)\n",
    "energies_ip = []\n",
    "for row in db.select(converged=True):\n",
    "    atoms = row.toatoms()\n",
    "    energy_curr = get_ce_energy(settings,atoms,eci)/len(atoms.numbers)\n",
    "    energies_ip.append(energy_curr)"
   ]
  },
  {
   "cell_type": "code",
   "execution_count": 56,
   "metadata": {},
   "outputs": [
    {
     "name": "stdout",
     "output_type": "stream",
     "text": [
      "6.938893903907228e-18\n"
     ]
    },
    {
     "data": {
      "image/png": "[encoded data removed]",
      "text/plain": [
       "<Figure size 432x288 with 1 Axes>"
      ]
     },
     "metadata": {
      "needs_background": "light"
     },
     "output_type": "display_data"
    }
   ],
   "source": [
    "e_pred = eva.cf_matrix.dot(eva.eci)\n",
    "plt.scatter(e_pred,energies_ip)\n",
    "print(max(e_pred-energies_ip))"
   ]
  },
  {
   "cell_type": "code",
   "execution_count": 59,
   "metadata": {},
   "outputs": [],
   "source": [
    "form_comp = []\n",
    "db_name = \"aucu_temp.db\"\n",
    "db = connect(db_name)\n",
    "\n",
    "i=0\n",
    "count = 0\n",
    "for row in db.select(converged=True):\n",
    "    \n",
    "    ##### get relevant cif file\n",
    "    atoms_init = row.toatoms()\n",
    "    \n",
    "    \n",
    "    if form_energies[i] < 0.02 and len(atoms_init.numbers) < 64:\n",
    "        form_comp.append(form_energies[i])\n",
    "    \n",
    "    i+=1\n"
   ]
  },
  {
   "cell_type": "code",
   "execution_count": 62,
   "metadata": {},
   "outputs": [],
   "source": [
    "form_comp.append(new_energy)"
   ]
  },
  {
   "cell_type": "code",
   "execution_count": 63,
   "metadata": {},
   "outputs": [],
   "source": [
    "db_name = \"aucu_metals_Final_Submission.db\"\n",
    "db = connect(db_name)\n",
    "energies_model = []\n",
    "energies_dft = []\n",
    "comps = []\n",
    "num = 0\n",
    "for row in db.select(converged=True):\n",
    "    atoms = row.toatoms()\n",
    "    \n",
    "    energies_dft.append(form_comp[num])\n",
    "    comp = 0\n",
    "    for i in atoms.numbers:\n",
    "        if i == 29:\n",
    "            comp = comp+1\n",
    "    comps.append(comp/len(atoms.numbers))\n",
    "\n",
    "    energy_curr = get_ce_energy(settings,atoms,eci)/len(atoms.numbers)\n",
    "    energies_model.append(energy_curr)\n",
    "    num=num+1"
   ]
  },
  {
   "cell_type": "code",
   "execution_count": 64,
   "metadata": {},
   "outputs": [
    {
     "name": "stdout",
     "output_type": "stream",
     "text": [
      "[ 0 63 92]\n",
      "[ 88  80 141]\n",
      "[188  80 144]\n",
      "[255  99  97]\n",
      "[255 166   0]\n"
     ]
    }
   ],
   "source": [
    "from matplotlib.colors import ListedColormap, LinearSegmentedColormap\n",
    "\n",
    "#003f5c\n",
    "#58508d\n",
    "#bc5090\n",
    "#ff6361\n",
    "#ffa600\n",
    "N = 5\n",
    "newcolors = []\n",
    "newcolors.append((0,63,92))\n",
    "newcolors.append((88,80,141)) \n",
    "newcolors.append((188,80,144)) \n",
    "newcolors.append((255,99,97)) \n",
    "newcolors.append((255,166,0)) \n",
    "\n",
    "newcolors_norm = []\n",
    "for i in newcolors:\n",
    "    curr = np.asarray(i)\n",
    "    print(curr)\n",
    "    curr = curr/255.0\n",
    "    curr = tuple(curr)\n",
    "    newcolors_norm.append(curr)\n",
    "\n",
    "cmap_name = 'my_list'\n",
    "newcmp = LinearSegmentedColormap.from_list(cmap_name,newcolors_norm)"
   ]
  },
  {
   "cell_type": "code",
   "execution_count": 78,
   "metadata": {},
   "outputs": [
    {
     "name": "stdout",
     "output_type": "stream",
     "text": [
      "-0.03622646304660704\n",
      "0.013141020878826749\n",
      "-0.04321954001488848\n",
      "0.019783690280445132\n"
     ]
    }
   ],
   "source": [
    "print(min(energies_model))\n",
    "print(max(energies_model))\n",
    "\n",
    "print(min(energies_dft))\n",
    "print(max(energies_dft))"
   ]
  },
  {
   "cell_type": "code",
   "execution_count": 80,
   "metadata": {},
   "outputs": [
    {
     "data": {
      "image/png": "[encoded data removed]",
      "text/plain": [
       "<Figure size 432x288 with 1 Axes>"
      ]
     },
     "metadata": {
      "needs_background": "light"
     },
     "output_type": "display_data"
    }
   ],
   "source": [
    "plt.scatter(energies_model,energies_dft,color=newcmp(0.0))\n",
    "\n",
    "\n",
    "import matplotlib as mpl\n",
    "import matplotlib.pyplot as plt\n",
    "mpl.rc('font',family='Arial')\n",
    "hfont = {'fontname':'Arial'}\n",
    "plt.xlabel('Predicted Energy (ev/atom)',fontsize=16,fontname = \"Arial\")\n",
    "plt.ylabel('Target Energy (ev/atom)',fontsize=16,fontname = \"Arial\")\n",
    "plt.xticks(fontsize = 16,fontname = \"Arial\") \n",
    "plt.yticks(fontsize = 16,fontname = \"Arial\") \n",
    "plt.xlim(-0.045,0.025)\n",
    "plt.ylim(-0.045,0.025)\n",
    "x = np.linspace(-0.045,0.025,200)\n",
    "plt.plot(x,x,color=newcmp(0.75),linestyle = '--')\n",
    "#plt.xticks([-4.4,-4.2,-4.0,-3.8])\n",
    "#plt.yticks([-4.4,-4.2,-4.0,-3.8])\n",
    "plt.savefig('CuAu_CE_fit_Final_Submission.pdf',bbox_inches='tight')\n",
    "plt.show()"
   ]
  },
  {
   "cell_type": "code",
   "execution_count": 103,
   "metadata": {},
   "outputs": [
    {
     "data": {
      "text/plain": [
       "0.0063297988666877"
      ]
     },
     "execution_count": 103,
     "metadata": {},
     "output_type": "execute_result"
    }
   ],
   "source": [
    "np.sqrt(np.mean(np.abs(np.asarray(energies_dft)-np.asarray(energies_model))**2))"
   ]
  },
  {
   "cell_type": "code",
   "execution_count": 81,
   "metadata": {},
   "outputs": [
    {
     "name": "stdout",
     "output_type": "stream",
     "text": [
      "{'c0': 0.006100279787831659, 'c1_0': -0.0031900811734577247, 'c2_d0000_0_00': 0.017232296461428938, 'c2_d0001_0_00': -0.016839573363374966, 'c2_d0002_0_00': -0.005192441582986464, 'c2_d0003_0_00': -0.00042240992321274096, 'c3_d0000_0_000': -0.00770642159861723, 'c3_d0001_0_000': 0.008232628244981447, 'c4_d0000_0_0000': -0.0003380467088204115, 'c4_d0001_0_0000': -0.015681090820390833, 'c4_d0002_0_0000': 0.015097011177476766}\n"
     ]
    }
   ],
   "source": [
    "print(eci)"
   ]
  },
  {
   "cell_type": "code",
   "execution_count": 82,
   "metadata": {},
   "outputs": [],
   "source": [
    "double = [1,2,3,4]\n",
    "double_vals = [0.017232296461428938,-0.016839573363374966,-0.005192441582,-0.00042240992321274096]\n",
    "triple = [5,6]\n",
    "triple_vals = [ -0.00770642159861723,0.008232628244981447]\n",
    "quad = [7,8,9]\n",
    "quad_vals = [-0.0003380467088204115,-0.015681090820390833,0.015097011177476766]"
   ]
  },
  {
   "cell_type": "code",
   "execution_count": 104,
   "metadata": {},
   "outputs": [
    {
     "data": {
      "image/png": "[encoded data removed]",
      "text/plain": [
       "<Figure size 504x360 with 1 Axes>"
      ]
     },
     "metadata": {
      "needs_background": "light"
     },
     "output_type": "display_data"
    }
   ],
   "source": [
    "import matplotlib as mpl\n",
    "mpl.rc('font',family='Arial')\n",
    "hfont = {'fontname':'Arial'}\n",
    "plt.rcParams[\"figure.figsize\"] = (7,5)\n",
    "plt.ylabel('ECI (eV/atom)',fontsize=16,fontname = \"Arial\")\n",
    "plt.yticks(fontsize = 16,fontname = \"Arial\")\n",
    "plt.xticks(fontsize = 16,fontname = \"Arial\") \n",
    "plt.xlabel('Cluster Number',fontsize=16,fontname = \"Arial\")\n",
    "plt.xticks([1,2,3,4,5,6,7,8,9])\n",
    "col = newcmp(0.0)\n",
    "plt.bar(double,double_vals,width=1.0,color = col,edgecolor='black')\n",
    "col = newcmp(0.5) \n",
    "plt.bar(triple,triple_vals,width=1.0,color = col,edgecolor='black')\n",
    "col = newcmp(1.0)\n",
    "plt.bar(quad,quad_vals,width=1.0,color = col,edgecolor='black')\n",
    "plt.savefig('ECI_final_submission.pdf',bbox_inches='tight')\n",
    "plt.show()"
   ]
  },
  {
   "cell_type": "code",
   "execution_count": null,
   "metadata": {},
   "outputs": [],
   "source": []
  },
  {
   "cell_type": "code",
   "execution_count": null,
   "metadata": {},
   "outputs": [],
   "source": [
    "from matplotlib.colors import ListedColormap, LinearSegmentedColormap\n",
    "\n",
    "#003f5c\n",
    "#58508d\n",
    "#bc5090\n",
    "#ff6361\n",
    "#ffa600\n",
    "N = 5\n",
    "newcolors = []\n",
    "newcolors.append((0,63,92))\n",
    "newcolors.append((88,80,141)) \n",
    "newcolors.append((188,80,144)) \n",
    "newcolors.append((255,99,97)) \n",
    "newcolors.append((255,166,0)) \n",
    "\n",
    "newcolors_norm = []\n",
    "for i in newcolors:\n",
    "    curr = np.asarray(i)\n",
    "    print(curr)\n",
    "    curr = curr/255.0\n",
    "    curr = tuple(curr)\n",
    "    newcolors_norm.append(curr)\n",
    "\n",
    "cmap_name = 'my_list'\n",
    "newcmp = LinearSegmentedColormap.from_list(cmap_name,newcolors_norm)"
   ]
  },
  {
   "cell_type": "code",
   "execution_count": 88,
   "metadata": {},
   "outputs": [
    {
     "name": "stdout",
     "output_type": "stream",
     "text": [
      "{0.0: 0.0, 0.25: -0.034167194236895584, 0.5: -0.03618248807455891, 0.75: -0.018754351039661065, 1.0: 1.474514954580286e-16}\n"
     ]
    }
   ],
   "source": [
    "print(hull)"
   ]
  },
  {
   "cell_type": "code",
   "execution_count": 84,
   "metadata": {},
   "outputs": [],
   "source": [
    "import copy\n",
    "concs_s = copy.deepcopy(concs)\n",
    "concs_s.sort()\n",
    "hull = other_energies\n",
    "convex_hull = []\n",
    "for i in range(len(concs)):\n",
    "    curr = concs_s[i]\n",
    "    if 0.0 <= curr and curr <= 0.25:\n",
    "        temp = hull[0.0] + (curr/0.25)*(hull[0.25]-hull[0.0])\n",
    "        \n",
    "    elif 0.25 < curr and curr <= 0.50:\n",
    "        temp = hull[0.25] + ((curr-0.25)/0.25)*(hull[0.50]-hull[0.25])\n",
    "    elif 0.50 < curr and curr <= 0.75:\n",
    "        temp = hull[0.50] + ((curr-0.50)/0.25)*(hull[0.75]-hull[0.50])\n",
    "    else:\n",
    "        temp = hull[0.75] + ((curr-0.75)/0.25)*(hull[1.0]-hull[0.75])\n",
    "    convex_hull.append(copy.deepcopy(temp))"
   ]
  },
  {
   "cell_type": "code",
   "execution_count": 101,
   "metadata": {},
   "outputs": [
    {
     "data": {
      "image/png": "[encoded data removed]",
      "text/plain": [
       "<Figure size 504x360 with 1 Axes>"
      ]
     },
     "metadata": {
      "needs_background": "light"
     },
     "output_type": "display_data"
    }
   ],
   "source": [
    "import matplotlib as mpl\n",
    "mpl.rc('font',family='Arial')\n",
    "hfont = {'fontname':'Arial'}\n",
    "plt.rcParams[\"figure.figsize\"] = (7,5)\n",
    "col = plt.cm.hsv(0.6666666)  \n",
    "plt.scatter(concs,energies,color=newcmp(0.0))\n",
    "\n",
    "plt.plot(concs_s,convex_hull,color=newcmp(0.5))\n",
    "plt.xlabel('Composition (%Au)',fontsize=16,fontname = \"Arial\")\n",
    "plt.xticks([0.0,0.25,0.5,0.75,1.0])\n",
    "plt.ylabel('Formation Energy (ev/atom)',fontsize=16,fontname = \"Arial\")\n",
    "plt.yticks([-0.04,-0.02,0.0,0.02])\n",
    "plt.xlim(-0.05,1.05)\n",
    "plt.ylim(-0.045,0.02)\n",
    "plt.xticks(fontsize = 16,fontname = \"Arial\") \n",
    "plt.yticks(fontsize = 16,fontname = \"Arial\") \n",
    "plt.savefig('C_Hull_final_submission.png',bbox_inches='tight',transparent=True, dpi=300)"
   ]
  },
  {
   "cell_type": "code",
   "execution_count": null,
   "metadata": {},
   "outputs": [],
   "source": []
  }
 ],
 "metadata": {
  "kernelspec": {
   "display_name": "Python [conda env:james_mlmat] *",
   "language": "python",
   "name": "conda-env-james_mlmat-py"
  },
  "language_info": {
   "codemirror_mode": {
    "name": "ipython",
    "version": 3
   },
   "file_extension": ".py",
   "mimetype": "text/x-python",
   "name": "python",
   "nbconvert_exporter": "python",
   "pygments_lexer": "ipython3",
   "version": "3.7.8"
  }
 },
 "nbformat": 4,
 "nbformat_minor": 4
}
