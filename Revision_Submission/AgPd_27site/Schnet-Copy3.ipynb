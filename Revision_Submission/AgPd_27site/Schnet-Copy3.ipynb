{
 "cells": [
  {
   "cell_type": "code",
   "execution_count": 1,
   "metadata": {},
   "outputs": [],
   "source": [
    "import pandas as pd\n",
    "import ase\n",
    "from ase.io.cif import read_cif\n",
    "from ase.db import connect\n",
    "\n",
    "structs_train = []\n",
    "props_train = []\n",
    "\n",
    "structs_val = []\n",
    "props_val = []\n",
    "\n",
    "structs_test = []\n",
    "props_test = []\n"
   ]
  },
  {
   "cell_type": "code",
   "execution_count": 2,
   "metadata": {},
   "outputs": [],
   "source": [
    "import json\n",
    "\n",
    "with open('train_ids_CGCNN.json') as f:\n",
    "    train_ids = json.load(f)\n",
    "\n",
    "with open('val_ids_CGCNN.json') as f:\n",
    "    val_ids = json.load(f)\n",
    "\n",
    "with open('test_ids_CGCNN.json') as f:\n",
    "    test_ids = json.load(f)\n",
    "    "
   ]
  },
  {
   "cell_type": "code",
   "execution_count": 3,
   "metadata": {},
   "outputs": [],
   "source": [
    "#print(train_ids)\n",
    "\n",
    "train_ids_num = {}\n",
    "\n",
    "for idx in train_ids:\n",
    "    train_ids_num[int(idx[14:])] = 1\n",
    "    \n",
    "    \n",
    "val_ids_num = {}\n",
    "\n",
    "for idx in val_ids:\n",
    "    val_ids_num[int(idx[14:])] = 1\n",
    "    \n",
    "test_ids_num = {}\n",
    "\n",
    "for idx in test_ids:\n",
    "    test_ids_num[int(idx[14:])] = 1"
   ]
  },
  {
   "cell_type": "code",
   "execution_count": 4,
   "metadata": {},
   "outputs": [
    {
     "name": "stdout",
     "output_type": "stream",
     "text": [
      "ERROR\n",
      "178\n"
     ]
    }
   ],
   "source": [
    "db_name = \"reference_data.db\"\n",
    "db = connect(db_name)\n",
    "concs = []\n",
    "energies = []\n",
    "i = 0\n",
    "for row in db.select():\n",
    "    \n",
    "    atoms = row.toatoms()\n",
    "    \n",
    "    if i in train_ids_num:\n",
    "        structs_train.append(atoms)\n",
    "        prop = {'energy': row.mixing_energy}\n",
    "        props_train.append(prop)\n",
    "        \n",
    "    elif i in val_ids_num:\n",
    "        structs_val.append(atoms)\n",
    "        prop = {'energy': row.mixing_energy}\n",
    "        props_val.append(prop)\n",
    "        \n",
    "    elif i in test_ids_num:\n",
    "        structs_test.append(atoms)\n",
    "        prop = {'energy': row.mixing_energy}\n",
    "        props_test.append(prop)\n",
    "        \n",
    "    else:\n",
    "        print(\"ERROR\")\n",
    "        print(i)\n",
    "    \n",
    "    i+=1\n",
    "    \n"
   ]
  },
  {
   "cell_type": "code",
   "execution_count": 5,
   "metadata": {},
   "outputs": [
    {
     "name": "stdout",
     "output_type": "stream",
     "text": [
      "500\n",
      "62\n",
      "62\n"
     ]
    }
   ],
   "source": [
    "print(len(structs_train))\n",
    "print(len(structs_val))\n",
    "print(len(structs_test))\n"
   ]
  },
  {
   "cell_type": "code",
   "execution_count": 6,
   "metadata": {},
   "outputs": [],
   "source": [
    "import os\n"
   ]
  },
  {
   "cell_type": "code",
   "execution_count": 7,
   "metadata": {},
   "outputs": [],
   "source": [
    "from schnetpack import AtomsData\n",
    "\n",
    "db_name = \"./schnet_train_dataset.db\"\n",
    "db = connect(db_name)\n",
    "\n",
    "train_dataset = AtomsData('./schnet_train_dataset.db', available_properties=['energy'])\n",
    "train_dataset.add_systems(structs_train, props_train)"
   ]
  },
  {
   "cell_type": "code",
   "execution_count": 8,
   "metadata": {},
   "outputs": [],
   "source": [
    "db_name = \"./schnet_val_dataset.db\"\n",
    "db = connect(db_name)\n",
    "\n",
    "val_dataset = AtomsData('./schnet_val_dataset.db', available_properties=['energy'])\n",
    "val_dataset.add_systems(structs_val, props_val)\n",
    "\n",
    "db_name = \"./schnet_test_dataset.db\"\n",
    "db = connect(db_name)\n",
    "\n",
    "test_dataset = AtomsData('./schnet_test_dataset.db', available_properties=['energy'])\n",
    "test_dataset.add_systems(structs_test, props_test)"
   ]
  },
  {
   "cell_type": "code",
   "execution_count": 293,
   "metadata": {},
   "outputs": [],
   "source": [
    "import schnetpack as spk\n",
    "\n",
    "model_dir = './AgPd_Schnet'\n",
    "if not os.path.exists('AgPd_Schnet'):\n",
    "    os.makedirs(model_dir)"
   ]
  },
  {
   "cell_type": "code",
   "execution_count": 294,
   "metadata": {},
   "outputs": [],
   "source": [
    "train = train_dataset\n",
    "val = val_dataset\n",
    "test = test_dataset"
   ]
  },
  {
   "cell_type": "code",
   "execution_count": 295,
   "metadata": {},
   "outputs": [
    {
     "name": "stdout",
     "output_type": "stream",
     "text": [
      "500\n",
      "62\n",
      "62\n"
     ]
    }
   ],
   "source": [
    "print(len(train))\n",
    "print(len(val))\n",
    "print(len(test))"
   ]
  },
  {
   "cell_type": "code",
   "execution_count": 296,
   "metadata": {},
   "outputs": [],
   "source": [
    "train_loader = spk.AtomsLoader(train, batch_size=50, shuffle=True)\n",
    "val_loader = spk.AtomsLoader(val, batch_size=62)"
   ]
  },
  {
   "cell_type": "code",
   "execution_count": 297,
   "metadata": {},
   "outputs": [],
   "source": [
    "means, stddevs = train_loader.get_statistics(\"energy\")"
   ]
  },
  {
   "cell_type": "code",
   "execution_count": 298,
   "metadata": {},
   "outputs": [],
   "source": [
    "schnet = spk.representation.SchNet(\n",
    "    n_atom_basis=50, n_filters=30, n_gaussians=30, n_interactions=5,\n",
    "    cutoff=5., cutoff_network=spk.nn.cutoff.CosineCutoff\n",
    ")"
   ]
  },
  {
   "cell_type": "code",
   "execution_count": 299,
   "metadata": {},
   "outputs": [],
   "source": [
    "output_U0 = spk.atomistic.Atomwise(n_in=50, n_layers=3, aggregation_mode='avg',property='energy',\n",
    "                                   mean=means['energy'], stddev=stddevs['energy'])"
   ]
  },
  {
   "cell_type": "code",
   "execution_count": 300,
   "metadata": {},
   "outputs": [],
   "source": [
    "model = spk.AtomisticModel(representation=schnet, output_modules=output_U0)\n"
   ]
  },
  {
   "cell_type": "code",
   "execution_count": 301,
   "metadata": {},
   "outputs": [],
   "source": [
    "from torch.optim import Adam"
   ]
  },
  {
   "cell_type": "code",
   "execution_count": 302,
   "metadata": {},
   "outputs": [],
   "source": [
    "def mse_loss(batch, result):\n",
    "    diff = batch['energy']-result['energy']\n",
    "    err = torch.mean(np.abs(diff))\n",
    "    return err\n"
   ]
  },
  {
   "cell_type": "code",
   "execution_count": 303,
   "metadata": {},
   "outputs": [],
   "source": [
    "optimizer = Adam(model.parameters(), lr=1*10**(-2.5))"
   ]
  },
  {
   "cell_type": "code",
   "execution_count": 304,
   "metadata": {},
   "outputs": [],
   "source": [
    "import schnetpack.train as trn\n",
    "\n",
    "loss = trn.build_mse_loss(['energy'])\n",
    "\n",
    "metrics = [spk.metrics.MeanAbsoluteError('energy')]\n",
    "hooks = [\n",
    "    trn.CSVHook(log_path=model_dir, metrics=metrics),\n",
    "    trn.ReduceLROnPlateauHook(\n",
    "        optimizer,\n",
    "        patience=5, factor=0.8, min_lr=1*10**(-6),\n",
    "        stop_after_min=False\n",
    "    )\n",
    "]\n",
    "\n",
    "trainer = trn.Trainer(\n",
    "    model_path=model_dir,\n",
    "    model=model,\n",
    "    hooks=hooks,\n",
    "    loss_fn=loss,\n",
    "    optimizer=optimizer,\n",
    "    train_loader=train_loader,\n",
    "    validation_loader=val_loader,\n",
    ")"
   ]
  },
  {
   "cell_type": "code",
   "execution_count": 305,
   "metadata": {},
   "outputs": [],
   "source": [
    "device = \"cuda\" # change to 'cpu' if gpu is not available\n",
    "n_epochs = 400 # takes about 10 min on a notebook GPU. reduces for playing around\n",
    "trainer.train(device=device, n_epochs=n_epochs)"
   ]
  },
  {
   "cell_type": "code",
   "execution_count": 306,
   "metadata": {},
   "outputs": [
    {
     "name": "stdout",
     "output_type": "stream",
     "text": [
      "Final validation MAE: 0.0067 eV = 0.154 kcal/mol\n"
     ]
    },
    {
     "data": {
      "image/png": "[encoded data removed]",
      "text/plain": [
       "<Figure size 1008x360 with 2 Axes>"
      ]
     },
     "metadata": {
      "needs_background": "light"
     },
     "output_type": "display_data"
    }
   ],
   "source": [
    "import numpy as np\n",
    "import matplotlib.pyplot as plt\n",
    "from ase.units import kcal, mol\n",
    "\n",
    "results = np.loadtxt(os.path.join(model_dir, 'log.csv'), skiprows=1, delimiter=',')\n",
    "\n",
    "time = results[:,0]-results[0,0]\n",
    "learning_rate = results[:,1]\n",
    "train_loss = results[:,2]\n",
    "val_loss = results[:,3]\n",
    "val_mae = results[:,4]\n",
    "\n",
    "print('Final validation MAE:', np.round(val_mae[-1], 4), 'eV =',\n",
    "      np.round(val_mae[-1] / (kcal/mol), 4), 'kcal/mol')\n",
    "\n",
    "plt.figure(figsize=(14,5))\n",
    "plt.subplot(1,2,1)\n",
    "plt.plot(time, val_loss, label='Validation')\n",
    "plt.plot(time, train_loss, label='Train')\n",
    "plt.yscale('log')\n",
    "plt.ylabel('Loss [eV]')\n",
    "plt.xlabel('Time [s]')\n",
    "plt.legend()\n",
    "plt.subplot(1,2,2)\n",
    "plt.plot(time, val_mae)\n",
    "plt.ylabel('mean abs. error [eV]')\n",
    "plt.xlabel('Time [s]')\n",
    "plt.show()"
   ]
  },
  {
   "cell_type": "code",
   "execution_count": 307,
   "metadata": {},
   "outputs": [],
   "source": [
    "import torch\n",
    "best_model = torch.load('AgPd_Schnet/best_model')"
   ]
  },
  {
   "cell_type": "code",
   "execution_count": 308,
   "metadata": {},
   "outputs": [],
   "source": [
    "test_loader = spk.AtomsLoader(test, batch_size=1, shuffle=True)\n"
   ]
  },
  {
   "cell_type": "code",
   "execution_count": 309,
   "metadata": {},
   "outputs": [],
   "source": [
    "energy_targ = []\n",
    "energy_pred = []\n",
    "\n",
    "for batch in test_loader:\n",
    "    test_batch = {k: v.to(device) for k, v in batch.items()}\n",
    "    \n",
    "    energy_targ.append(test_batch['energy'].detach().cpu().numpy())\n",
    "    energy_pred.append(best_model(test_batch)['energy'].detach().cpu().numpy())"
   ]
  },
  {
   "cell_type": "code",
   "execution_count": 310,
   "metadata": {},
   "outputs": [
    {
     "name": "stdout",
     "output_type": "stream",
     "text": [
      "[ 0 63 92]\n",
      "[ 88  80 141]\n",
      "[188  80 144]\n",
      "[255  99  97]\n",
      "[255 166   0]\n"
     ]
    }
   ],
   "source": [
    "from matplotlib.colors import ListedColormap, LinearSegmentedColormap\n",
    "\n",
    "#003f5c\n",
    "#58508d\n",
    "#bc5090\n",
    "#ff6361\n",
    "#ffa600\n",
    "N = 5\n",
    "newcolors = []\n",
    "newcolors.append((0,63,92))\n",
    "newcolors.append((88,80,141)) \n",
    "newcolors.append((188,80,144)) \n",
    "newcolors.append((255,99,97)) \n",
    "newcolors.append((255,166,0)) \n",
    "\n",
    "newcolors_norm = []\n",
    "for i in newcolors:\n",
    "    curr = np.asarray(i)\n",
    "    print(curr)\n",
    "    curr = curr/255.0\n",
    "    curr = tuple(curr)\n",
    "    newcolors_norm.append(curr)\n",
    "\n",
    "cmap_name = 'my_list'\n",
    "newcmp = LinearSegmentedColormap.from_list(cmap_name,newcolors_norm)"
   ]
  },
  {
   "cell_type": "code",
   "execution_count": 311,
   "metadata": {},
   "outputs": [],
   "source": [
    "#print(energy_pred.shape)\n",
    "#print(energy_pred)"
   ]
  },
  {
   "cell_type": "code",
   "execution_count": 312,
   "metadata": {},
   "outputs": [
    {
     "name": "stdout",
     "output_type": "stream",
     "text": [
      "(62,)\n",
      "(62,)\n"
     ]
    }
   ],
   "source": [
    "energy_pred = np.asarray(energy_pred).reshape(-1)\n",
    "energy_targ = np.asarray(energy_targ).reshape(-1)\n",
    "\n",
    "print(energy_pred.shape)\n",
    "print(energy_targ.shape)"
   ]
  },
  {
   "cell_type": "code",
   "execution_count": 313,
   "metadata": {},
   "outputs": [
    {
     "name": "stderr",
     "output_type": "stream",
     "text": [
      "findfont: Font family ['Arial'] not found. Falling back to DejaVu Sans.\n"
     ]
    },
    {
     "data": {
      "image/png": "[encoded data removed]",
      "text/plain": [
       "<Figure size 432x288 with 1 Axes>"
      ]
     },
     "metadata": {
      "needs_background": "light"
     },
     "output_type": "display_data"
    }
   ],
   "source": [
    "import matplotlib as mpl\n",
    "import matplotlib.pyplot as plt\n",
    "mpl.rc('font',family='Arial')\n",
    "hfont = {'fontname':'Arial'}\n",
    "plt.xlabel('Predicted Energy (ev/atom)',fontsize=16,fontname = \"Arial\")\n",
    "plt.ylabel('Target Energy (ev/atom)',fontsize=16,fontname = \"Arial\")\n",
    "plt.scatter(energy_pred,energy_targ,color=newcmp(0.0))\n",
    "plt.xticks(fontsize = 16,fontname = \"Arial\") \n",
    "plt.yticks(fontsize = 16,fontname = \"Arial\") \n",
    "plt.xlim(-0.065,0.01)\n",
    "plt.ylim(-0.065,0.01)\n",
    "x = np.linspace(-0.065,0.01,200)\n",
    "plt.plot(x,x,color=newcmp(0.75),linestyle = '--')\n",
    "plt.xticks([-0.06,-0.04,-0.02,0.0])\n",
    "plt.yticks([-0.06,-0.04,-0.02,0.0])\n",
    "plt.savefig('Schnet_test_final_submission.pdf',bbox_inches='tight')\n",
    "plt.show()"
   ]
  },
  {
   "cell_type": "code",
   "execution_count": 314,
   "metadata": {},
   "outputs": [
    {
     "name": "stdout",
     "output_type": "stream",
     "text": [
      "0.008120309\n"
     ]
    }
   ],
   "source": [
    "print(np.mean(np.abs(energy_pred-energy_targ)))"
   ]
  },
  {
   "cell_type": "code",
   "execution_count": 315,
   "metadata": {},
   "outputs": [
    {
     "data": {
      "text/plain": [
       "0.015083162"
      ]
     },
     "execution_count": 315,
     "metadata": {},
     "output_type": "execute_result"
    }
   ],
   "source": [
    "np.std(energy_targ)"
   ]
  },
  {
   "cell_type": "code",
   "execution_count": 341,
   "metadata": {},
   "outputs": [],
   "source": [
    "energy_targ = []\n",
    "energy_pred = []\n",
    "concs = []\n",
    "\n",
    "for batch in train_loader:\n",
    "    train_batch = {k: v.to(device) for k, v in batch.items()}\n",
    "    \n",
    "    energies = train_batch['energy'].detach().cpu().numpy().reshape(-1)\n",
    "    atomic_ns = train_batch['_atomic_numbers'].detach().cpu().numpy()\n",
    "    \n",
    "    for i in range(atomic_ns.shape[0]):\n",
    "        total = 0\n",
    "        ag_count = 0\n",
    "        for j in range(atomic_ns.shape[1]):\n",
    "            if atomic_ns[i,j] == 47:\n",
    "                ag_count +=1\n",
    "                total+=1\n",
    "            elif atomic_ns[i,j] == 46:\n",
    "                total+=1\n",
    "        concs.append(ag_count/total)\n",
    "            \n",
    "    preds = best_model(train_batch)['energy'].detach().cpu().numpy().reshape(-1)\n",
    "    \n",
    "    for i in range(energies.shape[0]):\n",
    "    \n",
    "        energy_targ.append(energies[i])\n",
    "        energy_pred.append(preds[i])"
   ]
  },
  {
   "cell_type": "code",
   "execution_count": 342,
   "metadata": {},
   "outputs": [],
   "source": [
    "for batch in val_loader:\n",
    "    val_batch = {k: v.to(device) for k, v in batch.items()}\n",
    "    \n",
    "    energies = val_batch['energy'].detach().cpu().numpy().reshape(-1)\n",
    "    atomic_ns = val_batch['_atomic_numbers'].detach().cpu().numpy()\n",
    "    \n",
    "    for i in range(atomic_ns.shape[0]):\n",
    "        total = 0\n",
    "        ag_count = 0\n",
    "        for j in range(atomic_ns.shape[1]):\n",
    "            if atomic_ns[i,j] == 47:\n",
    "                ag_count +=1\n",
    "                total+=1\n",
    "            elif atomic_ns[i,j] == 46:\n",
    "                total+=1\n",
    "        concs.append(ag_count/total)\n",
    "            \n",
    "    preds = best_model(val_batch)['energy'].detach().cpu().numpy().reshape(-1)\n",
    "    \n",
    "    for i in range(energies.shape[0]):\n",
    "    \n",
    "        energy_targ.append(energies[i])\n",
    "        energy_pred.append(preds[i])"
   ]
  },
  {
   "cell_type": "code",
   "execution_count": 343,
   "metadata": {},
   "outputs": [],
   "source": [
    "for batch in test_loader:\n",
    "    test_batch = {k: v.to(device) for k, v in batch.items()}\n",
    "    \n",
    "    energies = test_batch['energy'].detach().cpu().numpy().reshape(-1)\n",
    "    atomic_ns = test_batch['_atomic_numbers'].detach().cpu().numpy()\n",
    "    \n",
    "    for i in range(atomic_ns.shape[0]):\n",
    "        total = 0\n",
    "        ag_count = 0\n",
    "        for j in range(atomic_ns.shape[1]):\n",
    "            if atomic_ns[i,j] == 47:\n",
    "                ag_count +=1\n",
    "                total+=1\n",
    "            elif atomic_ns[i,j] == 46:\n",
    "                total+=1\n",
    "        concs.append(ag_count/total)\n",
    "            \n",
    "    preds = best_model(test_batch)['energy'].detach().cpu().numpy().reshape(-1)\n",
    "    \n",
    "    for i in range(energies.shape[0]):\n",
    "    \n",
    "        energy_targ.append(energies[i])\n",
    "        energy_pred.append(preds[i])"
   ]
  },
  {
   "cell_type": "code",
   "execution_count": 364,
   "metadata": {},
   "outputs": [],
   "source": [
    "energy_targ_np = np.asarray(energy_targ)\n",
    "energy_pred_np = np.asarray(energy_pred)\n"
   ]
  },
  {
   "cell_type": "code",
   "execution_count": 365,
   "metadata": {},
   "outputs": [
    {
     "name": "stdout",
     "output_type": "stream",
     "text": [
      "0.007017472\n"
     ]
    }
   ],
   "source": [
    "print(np.mean(np.abs(energy_pred_np-energy_targ_np)))"
   ]
  },
  {
   "cell_type": "code",
   "execution_count": 391,
   "metadata": {},
   "outputs": [],
   "source": [
    "for i in range(len(concs)):\n",
    "    if concs[i] == 0:\n",
    "        pd_energy = energy_pred[i]\n",
    "        \n",
    "    if concs[i]==1.0:\n",
    "        ag_energy = energy_pred[i]"
   ]
  },
  {
   "cell_type": "code",
   "execution_count": 392,
   "metadata": {},
   "outputs": [],
   "source": [
    "form_pred = []\n",
    "\n",
    "for i in range(len(energy_pred)):\n",
    "    new_form = energy_pred[i] - concs[i]*ag_energy - (1-concs[i])*pd_energy\n",
    "    form_pred.append(new_form)"
   ]
  },
  {
   "cell_type": "code",
   "execution_count": 393,
   "metadata": {},
   "outputs": [
    {
     "data": {
      "image/png": "[encoded data removed]",
      "text/plain": [
       "<Figure size 432x288 with 1 Axes>"
      ]
     },
     "metadata": {
      "needs_background": "light"
     },
     "output_type": "display_data"
    }
   ],
   "source": [
    "plt.scatter(concs,form_pred)\n",
    "plt.show()"
   ]
  },
  {
   "cell_type": "code",
   "execution_count": null,
   "metadata": {},
   "outputs": [],
   "source": []
  }
 ],
 "metadata": {
  "kernelspec": {
   "display_name": "Python [conda env:james_mlmat] *",
   "language": "python",
   "name": "conda-env-james_mlmat-py"
  },
  "language_info": {
   "codemirror_mode": {
    "name": "ipython",
    "version": 3
   },
   "file_extension": ".py",
   "mimetype": "text/x-python",
   "name": "python",
   "nbconvert_exporter": "python",
   "pygments_lexer": "ipython3",
   "version": "3.7.8"
  }
 },
 "nbformat": 4,
 "nbformat_minor": 4
}
